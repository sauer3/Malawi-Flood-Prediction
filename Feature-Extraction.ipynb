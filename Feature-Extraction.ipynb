{
 "cells": [
  {
   "cell_type": "markdown",
   "metadata": {},
   "source": [
    "## Overview\n",
    "\n",
    "This notebook extracts features to use in modeling flood extent for Malawi.\n",
    "\n",
    "Soil:\n",
    "- soil type\n",
    "- soil organic carbon (proxy for soil health and ecosystem condition)\n",
    "- % clay content of soil (google earth engine)\n",
    "\n",
    "Water:\n",
    "- distance to streams\n",
    "- distance to wetlands\n",
    "\n",
    "Elevation:\n",
    "- slope\n",
    "\n",
    "Climate:\n",
    "- Climate water deficit 6 months before event (was there a drought that year?)\n",
    "- total precipitation 6 months weeks before event\n",
    "- std of precip 6 months before event\n",
    "- coeficient of variation (standard deviation from the annual mean - would have to get annual mean for 2015 & 2019)."
   ]
  },
  {
   "cell_type": "code",
   "execution_count": 1,
   "metadata": {
    "ExecuteTime": {
     "end_time": "2020-03-23T03:01:00.349659Z",
     "start_time": "2020-03-23T03:00:58.177024Z"
    }
   },
   "outputs": [],
   "source": [
    "import os\n",
    "import pandas as pd\n",
    "import geopandas as gpd\n",
    "import numpy as np\n",
    "import rasterio as rio\n",
    "import rasterstats as rs\n",
    "import earthpy as et\n",
    "import earthpy.plot as ep"
   ]
  },
  {
   "cell_type": "code",
   "execution_count": 2,
   "metadata": {
    "ExecuteTime": {
     "end_time": "2020-03-23T03:01:10.107666Z",
     "start_time": "2020-03-23T03:01:00.351977Z"
    }
   },
   "outputs": [],
   "source": [
    "# Load Lat/Long points and convert to geodataframe\n",
    "df = pd.read_csv('data/from_zindi/Train.csv')\n",
    "pts = gpd.GeoDataFrame(df, geometry = gpd.points_from_xy(df.X, df.Y))\n",
    "pts.to_file(\"data/from_zindi/points.shp\")"
   ]
  },
  {
   "cell_type": "code",
   "execution_count": 3,
   "metadata": {
    "ExecuteTime": {
     "end_time": "2020-03-23T03:01:10.113939Z",
     "start_time": "2020-03-23T03:01:10.109895Z"
    }
   },
   "outputs": [
    {
     "data": {
      "text/plain": [
       "(16466, 41)"
      ]
     },
     "execution_count": 3,
     "metadata": {},
     "output_type": "execute_result"
    }
   ],
   "source": [
    "pts.shape"
   ]
  },
  {
   "cell_type": "markdown",
   "metadata": {},
   "source": [
    "## Vector data\n",
    "- distance to water bodies, wetlands, and streams\n",
    "- use overaly (union) with geopandas\n",
    "- Need to project to coordinate system to calculate distances (Arc 1950 / UTM zone 35S is for South Africa (EPSG:20935) units are meters"
   ]
  },
  {
   "cell_type": "code",
   "execution_count": 4,
   "metadata": {
    "ExecuteTime": {
     "end_time": "2020-03-23T03:01:10.379286Z",
     "start_time": "2020-03-23T03:01:10.116292Z"
    }
   },
   "outputs": [
    {
     "data": {
      "text/html": [
       "<div>\n",
       "<style scoped>\n",
       "    .dataframe tbody tr th:only-of-type {\n",
       "        vertical-align: middle;\n",
       "    }\n",
       "\n",
       "    .dataframe tbody tr th {\n",
       "        vertical-align: top;\n",
       "    }\n",
       "\n",
       "    .dataframe thead th {\n",
       "        text-align: right;\n",
       "    }\n",
       "</style>\n",
       "<table border=\"1\" class=\"dataframe\">\n",
       "  <thead>\n",
       "    <tr style=\"text-align: right;\">\n",
       "      <th></th>\n",
       "      <th>fid</th>\n",
       "      <th>AREA_METER</th>\n",
       "      <th>PERIMETER_</th>\n",
       "      <th>MW_WETLAND</th>\n",
       "      <th>MW_WETLA_1</th>\n",
       "      <th>MW_WETLA_2</th>\n",
       "      <th>ACRES</th>\n",
       "      <th>HECTARES</th>\n",
       "      <th>geometry</th>\n",
       "    </tr>\n",
       "  </thead>\n",
       "  <tbody>\n",
       "    <tr>\n",
       "      <th>0</th>\n",
       "      <td>1</td>\n",
       "      <td>2029147.125</td>\n",
       "      <td>10289.760</td>\n",
       "      <td>2.0</td>\n",
       "      <td>1.0</td>\n",
       "      <td>2.0</td>\n",
       "      <td>501.411</td>\n",
       "      <td>202.915</td>\n",
       "      <td>POLYGON ((33.02261 -9.49706, 33.02220 -9.49698...</td>\n",
       "    </tr>\n",
       "    <tr>\n",
       "      <th>1</th>\n",
       "      <td>2</td>\n",
       "      <td>1400282.125</td>\n",
       "      <td>5610.786</td>\n",
       "      <td>4.0</td>\n",
       "      <td>3.0</td>\n",
       "      <td>4.0</td>\n",
       "      <td>346.016</td>\n",
       "      <td>140.028</td>\n",
       "      <td>POLYGON ((33.14564 -9.49550, 33.14519 -9.49544...</td>\n",
       "    </tr>\n",
       "    <tr>\n",
       "      <th>2</th>\n",
       "      <td>3</td>\n",
       "      <td>1206303.875</td>\n",
       "      <td>8107.262</td>\n",
       "      <td>15.0</td>\n",
       "      <td>14.0</td>\n",
       "      <td>15.0</td>\n",
       "      <td>298.083</td>\n",
       "      <td>120.630</td>\n",
       "      <td>POLYGON ((33.25196 -9.61700, 33.25134 -9.61693...</td>\n",
       "    </tr>\n",
       "    <tr>\n",
       "      <th>3</th>\n",
       "      <td>4</td>\n",
       "      <td>1576612.500</td>\n",
       "      <td>9315.478</td>\n",
       "      <td>9.0</td>\n",
       "      <td>8.0</td>\n",
       "      <td>9.0</td>\n",
       "      <td>389.588</td>\n",
       "      <td>157.661</td>\n",
       "      <td>POLYGON ((33.17747 -9.59722, 33.17708 -9.59662...</td>\n",
       "    </tr>\n",
       "    <tr>\n",
       "      <th>4</th>\n",
       "      <td>5</td>\n",
       "      <td>1691864.125</td>\n",
       "      <td>8714.254</td>\n",
       "      <td>14.0</td>\n",
       "      <td>13.0</td>\n",
       "      <td>14.0</td>\n",
       "      <td>418.067</td>\n",
       "      <td>169.186</td>\n",
       "      <td>POLYGON ((33.06316 -9.62432, 33.06232 -9.62420...</td>\n",
       "    </tr>\n",
       "  </tbody>\n",
       "</table>\n",
       "</div>"
      ],
      "text/plain": [
       "   fid   AREA_METER  PERIMETER_  MW_WETLAND  MW_WETLA_1  MW_WETLA_2    ACRES  \\\n",
       "0    1  2029147.125   10289.760         2.0         1.0         2.0  501.411   \n",
       "1    2  1400282.125    5610.786         4.0         3.0         4.0  346.016   \n",
       "2    3  1206303.875    8107.262        15.0        14.0        15.0  298.083   \n",
       "3    4  1576612.500    9315.478         9.0         8.0         9.0  389.588   \n",
       "4    5  1691864.125    8714.254        14.0        13.0        14.0  418.067   \n",
       "\n",
       "   HECTARES                                           geometry  \n",
       "0   202.915  POLYGON ((33.02261 -9.49706, 33.02220 -9.49698...  \n",
       "1   140.028  POLYGON ((33.14564 -9.49550, 33.14519 -9.49544...  \n",
       "2   120.630  POLYGON ((33.25196 -9.61700, 33.25134 -9.61693...  \n",
       "3   157.661  POLYGON ((33.17747 -9.59722, 33.17708 -9.59662...  \n",
       "4   169.186  POLYGON ((33.06316 -9.62432, 33.06232 -9.62420...  "
      ]
     },
     "execution_count": 4,
     "metadata": {},
     "output_type": "execute_result"
    }
   ],
   "source": [
    "# Load wetlands data\n",
    "wetlands = gpd.read_file('data/water/wetlands/wetlands_100.shp')\n",
    "wetlands.head()"
   ]
  },
  {
   "cell_type": "code",
   "execution_count": 5,
   "metadata": {
    "ExecuteTime": {
     "end_time": "2020-03-23T03:01:10.384090Z",
     "start_time": "2020-03-23T03:01:10.380944Z"
    }
   },
   "outputs": [
    {
     "data": {
      "text/plain": [
       "{'init': 'epsg:4326'}"
      ]
     },
     "execution_count": 5,
     "metadata": {},
     "output_type": "execute_result"
    }
   ],
   "source": [
    "# Print projection info\n",
    "wetlands.crs"
   ]
  },
  {
   "cell_type": "code",
   "execution_count": 6,
   "metadata": {
    "ExecuteTime": {
     "end_time": "2020-03-23T03:01:10.388538Z",
     "start_time": "2020-03-23T03:01:10.385833Z"
    }
   },
   "outputs": [],
   "source": [
    "# Set projection info for pts\n",
    "pts.crs = 'epsg:4326'"
   ]
  },
  {
   "cell_type": "code",
   "execution_count": 7,
   "metadata": {
    "ExecuteTime": {
     "end_time": "2020-03-23T03:01:11.799305Z",
     "start_time": "2020-03-23T03:01:10.390938Z"
    }
   },
   "outputs": [
    {
     "name": "stderr",
     "output_type": "stream",
     "text": [
      "/Users/AuerPower/opt/miniconda3/envs/metis/lib/python3.7/site-packages/pyproj/crs.py:77: FutureWarning: '+init=<authority>:<code>' syntax is deprecated. '<authority>:<code>' is the preferred initialization method.\n",
      "  return _prepare_from_string(\" \".join(pjargs))\n"
     ]
    }
   ],
   "source": [
    "# Re-project pts and wetlands\n",
    "wetlands = wetlands.to_crs('epsg:20935')\n",
    "pts_prj = pts.copy()\n",
    "pts_prj = pts_prj.to_crs('epsg:20935')"
   ]
  },
  {
   "cell_type": "code",
   "execution_count": 8,
   "metadata": {
    "ExecuteTime": {
     "end_time": "2020-03-23T03:07:15.664873Z",
     "start_time": "2020-03-23T03:01:11.803014Z"
    }
   },
   "outputs": [],
   "source": [
    "# Calculate distance to wetland for each point (This takes 6 minutes to run)\n",
    "def min_distance(point, polygon):\n",
    "    return polygon.distance(point).min()\n",
    "\n",
    "pts_prj['wetland_dist'] = pts_prj.geometry.apply(min_distance, args=(wetlands, ))"
   ]
  },
  {
   "cell_type": "code",
   "execution_count": 9,
   "metadata": {
    "ExecuteTime": {
     "end_time": "2020-03-23T03:07:15.678293Z",
     "start_time": "2020-03-23T03:07:15.667611Z"
    }
   },
   "outputs": [
    {
     "data": {
      "text/plain": [
       "0"
      ]
     },
     "execution_count": 9,
     "metadata": {},
     "output_type": "execute_result"
    }
   ],
   "source": [
    "len(pts_prj[pts_prj['wetland_dist'].isna()])"
   ]
  },
  {
   "cell_type": "code",
   "execution_count": 10,
   "metadata": {
    "ExecuteTime": {
     "end_time": "2020-03-23T03:07:15.704344Z",
     "start_time": "2020-03-23T03:07:15.680316Z"
    }
   },
   "outputs": [
    {
     "data": {
      "text/html": [
       "<div>\n",
       "<style scoped>\n",
       "    .dataframe tbody tr th:only-of-type {\n",
       "        vertical-align: middle;\n",
       "    }\n",
       "\n",
       "    .dataframe tbody tr th {\n",
       "        vertical-align: top;\n",
       "    }\n",
       "\n",
       "    .dataframe thead th {\n",
       "        text-align: right;\n",
       "    }\n",
       "</style>\n",
       "<table border=\"1\" class=\"dataframe\">\n",
       "  <thead>\n",
       "    <tr style=\"text-align: right;\">\n",
       "      <th></th>\n",
       "      <th>X</th>\n",
       "      <th>Y</th>\n",
       "      <th>target_2015</th>\n",
       "      <th>elevation</th>\n",
       "      <th>precip 2014-11-16 - 2014-11-23</th>\n",
       "      <th>precip 2014-11-23 - 2014-11-30</th>\n",
       "      <th>precip 2014-11-30 - 2014-12-07</th>\n",
       "      <th>precip 2014-12-07 - 2014-12-14</th>\n",
       "      <th>precip 2014-12-14 - 2014-12-21</th>\n",
       "      <th>precip 2014-12-21 - 2014-12-28</th>\n",
       "      <th>...</th>\n",
       "      <th>precip 2019-04-07 - 2019-04-14</th>\n",
       "      <th>precip 2019-04-14 - 2019-04-21</th>\n",
       "      <th>precip 2019-04-21 - 2019-04-28</th>\n",
       "      <th>precip 2019-04-28 - 2019-05-05</th>\n",
       "      <th>precip 2019-05-05 - 2019-05-12</th>\n",
       "      <th>precip 2019-05-12 - 2019-05-19</th>\n",
       "      <th>LC_Type1_mode</th>\n",
       "      <th>Square_ID</th>\n",
       "      <th>geometry</th>\n",
       "      <th>wetland_dist</th>\n",
       "    </tr>\n",
       "  </thead>\n",
       "  <tbody>\n",
       "    <tr>\n",
       "      <th>0</th>\n",
       "      <td>34.26</td>\n",
       "      <td>-15.91</td>\n",
       "      <td>0.0</td>\n",
       "      <td>887.764222</td>\n",
       "      <td>0.0</td>\n",
       "      <td>0.0</td>\n",
       "      <td>0.0</td>\n",
       "      <td>14.844025</td>\n",
       "      <td>14.552823</td>\n",
       "      <td>12.237766</td>\n",
       "      <td>...</td>\n",
       "      <td>0.0</td>\n",
       "      <td>0.0</td>\n",
       "      <td>0.0</td>\n",
       "      <td>0.0</td>\n",
       "      <td>0.0</td>\n",
       "      <td>0.0</td>\n",
       "      <td>9</td>\n",
       "      <td>4e3c3896-14ce-11ea-bce5-f49634744a41</td>\n",
       "      <td>POINT (34.26000 -15.91000)</td>\n",
       "      <td>15953.465740</td>\n",
       "    </tr>\n",
       "    <tr>\n",
       "      <th>1</th>\n",
       "      <td>34.26</td>\n",
       "      <td>-15.90</td>\n",
       "      <td>0.0</td>\n",
       "      <td>743.403912</td>\n",
       "      <td>0.0</td>\n",
       "      <td>0.0</td>\n",
       "      <td>0.0</td>\n",
       "      <td>14.844025</td>\n",
       "      <td>14.552823</td>\n",
       "      <td>12.237766</td>\n",
       "      <td>...</td>\n",
       "      <td>0.0</td>\n",
       "      <td>0.0</td>\n",
       "      <td>0.0</td>\n",
       "      <td>0.0</td>\n",
       "      <td>0.0</td>\n",
       "      <td>0.0</td>\n",
       "      <td>9</td>\n",
       "      <td>4e3c3897-14ce-11ea-bce5-f49634744a41</td>\n",
       "      <td>POINT (34.26000 -15.90000)</td>\n",
       "      <td>16265.216010</td>\n",
       "    </tr>\n",
       "    <tr>\n",
       "      <th>2</th>\n",
       "      <td>34.26</td>\n",
       "      <td>-15.89</td>\n",
       "      <td>0.0</td>\n",
       "      <td>565.728343</td>\n",
       "      <td>0.0</td>\n",
       "      <td>0.0</td>\n",
       "      <td>0.0</td>\n",
       "      <td>14.844025</td>\n",
       "      <td>14.552823</td>\n",
       "      <td>12.237766</td>\n",
       "      <td>...</td>\n",
       "      <td>0.0</td>\n",
       "      <td>0.0</td>\n",
       "      <td>0.0</td>\n",
       "      <td>0.0</td>\n",
       "      <td>0.0</td>\n",
       "      <td>0.0</td>\n",
       "      <td>9</td>\n",
       "      <td>4e3c3898-14ce-11ea-bce5-f49634744a41</td>\n",
       "      <td>POINT (34.26000 -15.89000)</td>\n",
       "      <td>16645.902409</td>\n",
       "    </tr>\n",
       "    <tr>\n",
       "      <th>3</th>\n",
       "      <td>34.26</td>\n",
       "      <td>-15.88</td>\n",
       "      <td>0.0</td>\n",
       "      <td>443.392774</td>\n",
       "      <td>0.0</td>\n",
       "      <td>0.0</td>\n",
       "      <td>0.0</td>\n",
       "      <td>14.844025</td>\n",
       "      <td>14.552823</td>\n",
       "      <td>12.237766</td>\n",
       "      <td>...</td>\n",
       "      <td>0.0</td>\n",
       "      <td>0.0</td>\n",
       "      <td>0.0</td>\n",
       "      <td>0.0</td>\n",
       "      <td>0.0</td>\n",
       "      <td>0.0</td>\n",
       "      <td>10</td>\n",
       "      <td>4e3c3899-14ce-11ea-bce5-f49634744a41</td>\n",
       "      <td>POINT (34.26000 -15.88000)</td>\n",
       "      <td>17087.784546</td>\n",
       "    </tr>\n",
       "    <tr>\n",
       "      <th>4</th>\n",
       "      <td>34.26</td>\n",
       "      <td>-15.87</td>\n",
       "      <td>0.0</td>\n",
       "      <td>437.443428</td>\n",
       "      <td>0.0</td>\n",
       "      <td>0.0</td>\n",
       "      <td>0.0</td>\n",
       "      <td>14.844025</td>\n",
       "      <td>14.552823</td>\n",
       "      <td>12.237766</td>\n",
       "      <td>...</td>\n",
       "      <td>0.0</td>\n",
       "      <td>0.0</td>\n",
       "      <td>0.0</td>\n",
       "      <td>0.0</td>\n",
       "      <td>0.0</td>\n",
       "      <td>0.0</td>\n",
       "      <td>10</td>\n",
       "      <td>4e3c389a-14ce-11ea-bce5-f49634744a41</td>\n",
       "      <td>POINT (34.26000 -15.87000)</td>\n",
       "      <td>17589.245651</td>\n",
       "    </tr>\n",
       "  </tbody>\n",
       "</table>\n",
       "<p>5 rows × 42 columns</p>\n",
       "</div>"
      ],
      "text/plain": [
       "       X      Y  target_2015   elevation  precip 2014-11-16 - 2014-11-23  \\\n",
       "0  34.26 -15.91          0.0  887.764222                             0.0   \n",
       "1  34.26 -15.90          0.0  743.403912                             0.0   \n",
       "2  34.26 -15.89          0.0  565.728343                             0.0   \n",
       "3  34.26 -15.88          0.0  443.392774                             0.0   \n",
       "4  34.26 -15.87          0.0  437.443428                             0.0   \n",
       "\n",
       "   precip 2014-11-23 - 2014-11-30  precip 2014-11-30 - 2014-12-07  \\\n",
       "0                             0.0                             0.0   \n",
       "1                             0.0                             0.0   \n",
       "2                             0.0                             0.0   \n",
       "3                             0.0                             0.0   \n",
       "4                             0.0                             0.0   \n",
       "\n",
       "   precip 2014-12-07 - 2014-12-14  precip 2014-12-14 - 2014-12-21  \\\n",
       "0                       14.844025                       14.552823   \n",
       "1                       14.844025                       14.552823   \n",
       "2                       14.844025                       14.552823   \n",
       "3                       14.844025                       14.552823   \n",
       "4                       14.844025                       14.552823   \n",
       "\n",
       "   precip 2014-12-21 - 2014-12-28  ...  precip 2019-04-07 - 2019-04-14  \\\n",
       "0                       12.237766  ...                             0.0   \n",
       "1                       12.237766  ...                             0.0   \n",
       "2                       12.237766  ...                             0.0   \n",
       "3                       12.237766  ...                             0.0   \n",
       "4                       12.237766  ...                             0.0   \n",
       "\n",
       "   precip 2019-04-14 - 2019-04-21  precip 2019-04-21 - 2019-04-28  \\\n",
       "0                             0.0                             0.0   \n",
       "1                             0.0                             0.0   \n",
       "2                             0.0                             0.0   \n",
       "3                             0.0                             0.0   \n",
       "4                             0.0                             0.0   \n",
       "\n",
       "   precip 2019-04-28 - 2019-05-05  precip 2019-05-05 - 2019-05-12  \\\n",
       "0                             0.0                             0.0   \n",
       "1                             0.0                             0.0   \n",
       "2                             0.0                             0.0   \n",
       "3                             0.0                             0.0   \n",
       "4                             0.0                             0.0   \n",
       "\n",
       "   precip 2019-05-12 - 2019-05-19  LC_Type1_mode  \\\n",
       "0                             0.0              9   \n",
       "1                             0.0              9   \n",
       "2                             0.0              9   \n",
       "3                             0.0             10   \n",
       "4                             0.0             10   \n",
       "\n",
       "                              Square_ID                    geometry  \\\n",
       "0  4e3c3896-14ce-11ea-bce5-f49634744a41  POINT (34.26000 -15.91000)   \n",
       "1  4e3c3897-14ce-11ea-bce5-f49634744a41  POINT (34.26000 -15.90000)   \n",
       "2  4e3c3898-14ce-11ea-bce5-f49634744a41  POINT (34.26000 -15.89000)   \n",
       "3  4e3c3899-14ce-11ea-bce5-f49634744a41  POINT (34.26000 -15.88000)   \n",
       "4  4e3c389a-14ce-11ea-bce5-f49634744a41  POINT (34.26000 -15.87000)   \n",
       "\n",
       "   wetland_dist  \n",
       "0  15953.465740  \n",
       "1  16265.216010  \n",
       "2  16645.902409  \n",
       "3  17087.784546  \n",
       "4  17589.245651  \n",
       "\n",
       "[5 rows x 42 columns]"
      ]
     },
     "execution_count": 10,
     "metadata": {},
     "output_type": "execute_result"
    }
   ],
   "source": [
    "# Add to points data frame\n",
    "pts['wetland_dist'] = pts_prj['wetland_dist']\n",
    "pts.head()"
   ]
  },
  {
   "cell_type": "code",
   "execution_count": 11,
   "metadata": {
    "ExecuteTime": {
     "end_time": "2020-03-23T03:07:15.709393Z",
     "start_time": "2020-03-23T03:07:15.706043Z"
    }
   },
   "outputs": [
    {
     "data": {
      "text/plain": [
       "(16466, 42)"
      ]
     },
     "execution_count": 11,
     "metadata": {},
     "output_type": "execute_result"
    }
   ],
   "source": [
    "pts.shape"
   ]
  },
  {
   "cell_type": "markdown",
   "metadata": {},
   "source": [
    "## Raster data\n",
    "- soil carbon\n",
    "- topographic position index\n",
    "- Clay content\n",
    "- use zonalstats from rasterstats"
   ]
  },
  {
   "cell_type": "markdown",
   "metadata": {
    "ExecuteTime": {
     "end_time": "2020-03-15T21:21:26.634135Z",
     "start_time": "2020-03-15T21:21:26.631641Z"
    }
   },
   "source": [
    "#### Soil organic carbon"
   ]
  },
  {
   "cell_type": "code",
   "execution_count": 12,
   "metadata": {
    "ExecuteTime": {
     "end_time": "2020-03-23T03:07:15.723829Z",
     "start_time": "2020-03-23T03:07:15.711199Z"
    }
   },
   "outputs": [],
   "source": [
    "# Load the data\n",
    "soil_carbon_path = os.path.join(\"data\", \"soils\", \"malawi_national_soil_organic_carbon0.tif\")\n",
    "\n",
    "with rio.open(soil_carbon_path) as soil_carbon:\n",
    "    # Masked = True sets no data values to np.nan if they are in the metadata\n",
    "    soil_carbon_data = soil_carbon.read(1, masked=True)\n",
    "    soil_carbon_meta = soil_carbon.profile"
   ]
  },
  {
   "cell_type": "code",
   "execution_count": 13,
   "metadata": {
    "ExecuteTime": {
     "end_time": "2020-03-23T03:07:15.730653Z",
     "start_time": "2020-03-23T03:07:15.726081Z"
    }
   },
   "outputs": [
    {
     "data": {
      "text/plain": [
       "{'driver': 'GTiff', 'dtype': 'float64', 'nodata': -1.797693e+308, 'width': 325, 'height': 776, 'count': 1, 'crs': CRS.from_epsg(4326), 'transform': Affine(0.01, 0.0, 32.67668701171875,\n",
       "       0.0, -0.01, -9.364999999999997), 'blockxsize': 128, 'blockysize': 128, 'tiled': True, 'interleave': 'band'}"
      ]
     },
     "execution_count": 13,
     "metadata": {},
     "output_type": "execute_result"
    }
   ],
   "source": [
    "soil_carbon_meta"
   ]
  },
  {
   "cell_type": "code",
   "execution_count": 14,
   "metadata": {
    "ExecuteTime": {
     "end_time": "2020-03-23T03:07:15.997097Z",
     "start_time": "2020-03-23T03:07:15.732965Z"
    }
   },
   "outputs": [
    {
     "data": {
      "image/png": "[encoded data removed]",
      "text/plain": [
       "<Figure size 576x576 with 1 Axes>"
      ]
     },
     "metadata": {
      "needs_background": "light"
     },
     "output_type": "display_data"
    }
   ],
   "source": [
    "# Plotting a histogram with earthpy\n",
    "ax=ep.hist(soil_carbon_data,\n",
    "        figsize=(8,8),\n",
    "        colors=\"purple\",\n",
    "        xlabel=\"Soil organic carbon\",\n",
    "        ylabel=\"Total Pixels\",\n",
    "        title=\"Distribution of Pixel Values \\n Soil organic carbon\")\n",
    "\n",
    "# Turn off scientific notation\n",
    "ax[1].ticklabel_format(useOffset=False,\n",
    "                     style='plain')"
   ]
  },
  {
   "cell_type": "code",
   "execution_count": 15,
   "metadata": {
    "ExecuteTime": {
     "end_time": "2020-03-23T03:07:30.557524Z",
     "start_time": "2020-03-23T03:07:15.998982Z"
    }
   },
   "outputs": [
    {
     "data": {
      "text/plain": [
       "list"
      ]
     },
     "execution_count": 15,
     "metadata": {},
     "output_type": "execute_result"
    }
   ],
   "source": [
    "# Extract zonal stats\n",
    "soil_zs = rs.zonal_stats(pts,\n",
    "                         soil_carbon_data,\n",
    "                         nodata=-999,\n",
    "                         affine=soil_carbon_meta['transform'],\n",
    "                         geojson_out=True,\n",
    "                         copy_properties=True,\n",
    "                         stats='majority')\n",
    "\n",
    "# View object type\n",
    "type(soil_zs)"
   ]
  },
  {
   "cell_type": "code",
   "execution_count": 16,
   "metadata": {
    "ExecuteTime": {
     "end_time": "2020-03-23T03:07:30.976113Z",
     "start_time": "2020-03-23T03:07:30.559213Z"
    }
   },
   "outputs": [
    {
     "data": {
      "text/html": [
       "<div>\n",
       "<style scoped>\n",
       "    .dataframe tbody tr th:only-of-type {\n",
       "        vertical-align: middle;\n",
       "    }\n",
       "\n",
       "    .dataframe tbody tr th {\n",
       "        vertical-align: top;\n",
       "    }\n",
       "\n",
       "    .dataframe thead th {\n",
       "        text-align: right;\n",
       "    }\n",
       "</style>\n",
       "<table border=\"1\" class=\"dataframe\">\n",
       "  <thead>\n",
       "    <tr style=\"text-align: right;\">\n",
       "      <th></th>\n",
       "      <th>geometry</th>\n",
       "      <th>LC_Type1_mode</th>\n",
       "      <th>Square_ID</th>\n",
       "      <th>X</th>\n",
       "      <th>Y</th>\n",
       "      <th>elevation</th>\n",
       "      <th>precip 2014-11-16 - 2014-11-23</th>\n",
       "      <th>precip 2014-11-23 - 2014-11-30</th>\n",
       "      <th>precip 2014-11-30 - 2014-12-07</th>\n",
       "      <th>precip 2014-12-07 - 2014-12-14</th>\n",
       "      <th>...</th>\n",
       "      <th>precip 2019-03-31 - 2019-04-07</th>\n",
       "      <th>precip 2019-04-07 - 2019-04-14</th>\n",
       "      <th>precip 2019-04-14 - 2019-04-21</th>\n",
       "      <th>precip 2019-04-21 - 2019-04-28</th>\n",
       "      <th>precip 2019-04-28 - 2019-05-05</th>\n",
       "      <th>precip 2019-05-05 - 2019-05-12</th>\n",
       "      <th>precip 2019-05-12 - 2019-05-19</th>\n",
       "      <th>target_2015</th>\n",
       "      <th>wetland_dist</th>\n",
       "      <th>majority</th>\n",
       "    </tr>\n",
       "  </thead>\n",
       "  <tbody>\n",
       "    <tr>\n",
       "      <th>0</th>\n",
       "      <td>POINT (34.26000 -15.91000)</td>\n",
       "      <td>9</td>\n",
       "      <td>4e3c3896-14ce-11ea-bce5-f49634744a41</td>\n",
       "      <td>34.26</td>\n",
       "      <td>-15.91</td>\n",
       "      <td>887.764222</td>\n",
       "      <td>0.0</td>\n",
       "      <td>0.0</td>\n",
       "      <td>0.0</td>\n",
       "      <td>14.844025</td>\n",
       "      <td>...</td>\n",
       "      <td>1.68</td>\n",
       "      <td>0.0</td>\n",
       "      <td>0.0</td>\n",
       "      <td>0.0</td>\n",
       "      <td>0.0</td>\n",
       "      <td>0.0</td>\n",
       "      <td>0.0</td>\n",
       "      <td>0.0</td>\n",
       "      <td>15953.465740</td>\n",
       "      <td>4.751131e+00</td>\n",
       "    </tr>\n",
       "    <tr>\n",
       "      <th>1</th>\n",
       "      <td>POINT (34.26000 -15.90000)</td>\n",
       "      <td>9</td>\n",
       "      <td>4e3c3897-14ce-11ea-bce5-f49634744a41</td>\n",
       "      <td>34.26</td>\n",
       "      <td>-15.90</td>\n",
       "      <td>743.403912</td>\n",
       "      <td>0.0</td>\n",
       "      <td>0.0</td>\n",
       "      <td>0.0</td>\n",
       "      <td>14.844025</td>\n",
       "      <td>...</td>\n",
       "      <td>1.68</td>\n",
       "      <td>0.0</td>\n",
       "      <td>0.0</td>\n",
       "      <td>0.0</td>\n",
       "      <td>0.0</td>\n",
       "      <td>0.0</td>\n",
       "      <td>0.0</td>\n",
       "      <td>0.0</td>\n",
       "      <td>16265.216010</td>\n",
       "      <td>4.977375e+00</td>\n",
       "    </tr>\n",
       "    <tr>\n",
       "      <th>2</th>\n",
       "      <td>POINT (34.26000 -15.89000)</td>\n",
       "      <td>9</td>\n",
       "      <td>4e3c3898-14ce-11ea-bce5-f49634744a41</td>\n",
       "      <td>34.26</td>\n",
       "      <td>-15.89</td>\n",
       "      <td>565.728343</td>\n",
       "      <td>0.0</td>\n",
       "      <td>0.0</td>\n",
       "      <td>0.0</td>\n",
       "      <td>14.844025</td>\n",
       "      <td>...</td>\n",
       "      <td>1.68</td>\n",
       "      <td>0.0</td>\n",
       "      <td>0.0</td>\n",
       "      <td>0.0</td>\n",
       "      <td>0.0</td>\n",
       "      <td>0.0</td>\n",
       "      <td>0.0</td>\n",
       "      <td>0.0</td>\n",
       "      <td>16645.902409</td>\n",
       "      <td>3.393665e+00</td>\n",
       "    </tr>\n",
       "    <tr>\n",
       "      <th>3</th>\n",
       "      <td>POINT (34.26000 -15.88000)</td>\n",
       "      <td>10</td>\n",
       "      <td>4e3c3899-14ce-11ea-bce5-f49634744a41</td>\n",
       "      <td>34.26</td>\n",
       "      <td>-15.88</td>\n",
       "      <td>443.392774</td>\n",
       "      <td>0.0</td>\n",
       "      <td>0.0</td>\n",
       "      <td>0.0</td>\n",
       "      <td>14.844025</td>\n",
       "      <td>...</td>\n",
       "      <td>1.68</td>\n",
       "      <td>0.0</td>\n",
       "      <td>0.0</td>\n",
       "      <td>0.0</td>\n",
       "      <td>0.0</td>\n",
       "      <td>0.0</td>\n",
       "      <td>0.0</td>\n",
       "      <td>0.0</td>\n",
       "      <td>17087.784546</td>\n",
       "      <td>3.393665e+00</td>\n",
       "    </tr>\n",
       "    <tr>\n",
       "      <th>4</th>\n",
       "      <td>POINT (34.26000 -15.87000)</td>\n",
       "      <td>10</td>\n",
       "      <td>4e3c389a-14ce-11ea-bce5-f49634744a41</td>\n",
       "      <td>34.26</td>\n",
       "      <td>-15.87</td>\n",
       "      <td>437.443428</td>\n",
       "      <td>0.0</td>\n",
       "      <td>0.0</td>\n",
       "      <td>0.0</td>\n",
       "      <td>14.844025</td>\n",
       "      <td>...</td>\n",
       "      <td>1.68</td>\n",
       "      <td>0.0</td>\n",
       "      <td>0.0</td>\n",
       "      <td>0.0</td>\n",
       "      <td>0.0</td>\n",
       "      <td>0.0</td>\n",
       "      <td>0.0</td>\n",
       "      <td>0.0</td>\n",
       "      <td>17589.245651</td>\n",
       "      <td>3.167420e+00</td>\n",
       "    </tr>\n",
       "    <tr>\n",
       "      <th>5</th>\n",
       "      <td>POINT (34.26000 -15.86000)</td>\n",
       "      <td>10</td>\n",
       "      <td>4e3c389b-14ce-11ea-bce5-f49634744a41</td>\n",
       "      <td>34.26</td>\n",
       "      <td>-15.86</td>\n",
       "      <td>405.631747</td>\n",
       "      <td>0.0</td>\n",
       "      <td>0.0</td>\n",
       "      <td>0.0</td>\n",
       "      <td>14.844025</td>\n",
       "      <td>...</td>\n",
       "      <td>1.68</td>\n",
       "      <td>0.0</td>\n",
       "      <td>0.0</td>\n",
       "      <td>0.0</td>\n",
       "      <td>0.0</td>\n",
       "      <td>0.0</td>\n",
       "      <td>0.0</td>\n",
       "      <td>0.0</td>\n",
       "      <td>18145.397965</td>\n",
       "      <td>4.298642e+00</td>\n",
       "    </tr>\n",
       "    <tr>\n",
       "      <th>6</th>\n",
       "      <td>POINT (34.26000 -15.85000)</td>\n",
       "      <td>10</td>\n",
       "      <td>4e3c389c-14ce-11ea-bce5-f49634744a41</td>\n",
       "      <td>34.26</td>\n",
       "      <td>-15.85</td>\n",
       "      <td>389.261362</td>\n",
       "      <td>0.0</td>\n",
       "      <td>0.0</td>\n",
       "      <td>0.0</td>\n",
       "      <td>14.844025</td>\n",
       "      <td>...</td>\n",
       "      <td>1.68</td>\n",
       "      <td>0.0</td>\n",
       "      <td>0.0</td>\n",
       "      <td>0.0</td>\n",
       "      <td>0.0</td>\n",
       "      <td>0.0</td>\n",
       "      <td>0.0</td>\n",
       "      <td>0.0</td>\n",
       "      <td>18751.375779</td>\n",
       "      <td>3.167420e+00</td>\n",
       "    </tr>\n",
       "    <tr>\n",
       "      <th>7</th>\n",
       "      <td>POINT (34.26000 -15.84000)</td>\n",
       "      <td>10</td>\n",
       "      <td>4e3c389d-14ce-11ea-bce5-f49634744a41</td>\n",
       "      <td>34.26</td>\n",
       "      <td>-15.84</td>\n",
       "      <td>383.123454</td>\n",
       "      <td>0.0</td>\n",
       "      <td>0.0</td>\n",
       "      <td>0.0</td>\n",
       "      <td>14.844025</td>\n",
       "      <td>...</td>\n",
       "      <td>1.68</td>\n",
       "      <td>0.0</td>\n",
       "      <td>0.0</td>\n",
       "      <td>0.0</td>\n",
       "      <td>0.0</td>\n",
       "      <td>0.0</td>\n",
       "      <td>0.0</td>\n",
       "      <td>0.0</td>\n",
       "      <td>19402.511184</td>\n",
       "      <td>3.167420e+00</td>\n",
       "    </tr>\n",
       "    <tr>\n",
       "      <th>8</th>\n",
       "      <td>POINT (34.26000 -15.83000)</td>\n",
       "      <td>10</td>\n",
       "      <td>4e3c389e-14ce-11ea-bce5-f49634744a41</td>\n",
       "      <td>34.26</td>\n",
       "      <td>-15.83</td>\n",
       "      <td>382.920492</td>\n",
       "      <td>0.0</td>\n",
       "      <td>0.0</td>\n",
       "      <td>0.0</td>\n",
       "      <td>14.844025</td>\n",
       "      <td>...</td>\n",
       "      <td>1.68</td>\n",
       "      <td>0.0</td>\n",
       "      <td>0.0</td>\n",
       "      <td>0.0</td>\n",
       "      <td>0.0</td>\n",
       "      <td>0.0</td>\n",
       "      <td>0.0</td>\n",
       "      <td>0.0</td>\n",
       "      <td>20094.414795</td>\n",
       "      <td>3.167420e+00</td>\n",
       "    </tr>\n",
       "    <tr>\n",
       "      <th>9</th>\n",
       "      <td>POINT (34.27000 -15.92000)</td>\n",
       "      <td>9</td>\n",
       "      <td>4e3c389f-14ce-11ea-bce5-f49634744a41</td>\n",
       "      <td>34.27</td>\n",
       "      <td>-15.92</td>\n",
       "      <td>826.058090</td>\n",
       "      <td>0.0</td>\n",
       "      <td>0.0</td>\n",
       "      <td>0.0</td>\n",
       "      <td>14.844025</td>\n",
       "      <td>...</td>\n",
       "      <td>1.68</td>\n",
       "      <td>0.0</td>\n",
       "      <td>0.0</td>\n",
       "      <td>0.0</td>\n",
       "      <td>0.0</td>\n",
       "      <td>0.0</td>\n",
       "      <td>0.0</td>\n",
       "      <td>0.0</td>\n",
       "      <td>14655.331058</td>\n",
       "      <td>-1.797693e+308</td>\n",
       "    </tr>\n",
       "    <tr>\n",
       "      <th>10</th>\n",
       "      <td>POINT (34.27000 -15.91000)</td>\n",
       "      <td>9</td>\n",
       "      <td>4e3c38a0-14ce-11ea-bce5-f49634744a41</td>\n",
       "      <td>34.27</td>\n",
       "      <td>-15.91</td>\n",
       "      <td>782.353762</td>\n",
       "      <td>0.0</td>\n",
       "      <td>0.0</td>\n",
       "      <td>0.0</td>\n",
       "      <td>14.844025</td>\n",
       "      <td>...</td>\n",
       "      <td>1.68</td>\n",
       "      <td>0.0</td>\n",
       "      <td>0.0</td>\n",
       "      <td>0.0</td>\n",
       "      <td>0.0</td>\n",
       "      <td>0.0</td>\n",
       "      <td>0.0</td>\n",
       "      <td>0.0</td>\n",
       "      <td>14910.959896</td>\n",
       "      <td>5.203619e+00</td>\n",
       "    </tr>\n",
       "  </tbody>\n",
       "</table>\n",
       "<p>11 rows × 43 columns</p>\n",
       "</div>"
      ],
      "text/plain": [
       "                      geometry  LC_Type1_mode  \\\n",
       "0   POINT (34.26000 -15.91000)              9   \n",
       "1   POINT (34.26000 -15.90000)              9   \n",
       "2   POINT (34.26000 -15.89000)              9   \n",
       "3   POINT (34.26000 -15.88000)             10   \n",
       "4   POINT (34.26000 -15.87000)             10   \n",
       "5   POINT (34.26000 -15.86000)             10   \n",
       "6   POINT (34.26000 -15.85000)             10   \n",
       "7   POINT (34.26000 -15.84000)             10   \n",
       "8   POINT (34.26000 -15.83000)             10   \n",
       "9   POINT (34.27000 -15.92000)              9   \n",
       "10  POINT (34.27000 -15.91000)              9   \n",
       "\n",
       "                               Square_ID      X      Y   elevation  \\\n",
       "0   4e3c3896-14ce-11ea-bce5-f49634744a41  34.26 -15.91  887.764222   \n",
       "1   4e3c3897-14ce-11ea-bce5-f49634744a41  34.26 -15.90  743.403912   \n",
       "2   4e3c3898-14ce-11ea-bce5-f49634744a41  34.26 -15.89  565.728343   \n",
       "3   4e3c3899-14ce-11ea-bce5-f49634744a41  34.26 -15.88  443.392774   \n",
       "4   4e3c389a-14ce-11ea-bce5-f49634744a41  34.26 -15.87  437.443428   \n",
       "5   4e3c389b-14ce-11ea-bce5-f49634744a41  34.26 -15.86  405.631747   \n",
       "6   4e3c389c-14ce-11ea-bce5-f49634744a41  34.26 -15.85  389.261362   \n",
       "7   4e3c389d-14ce-11ea-bce5-f49634744a41  34.26 -15.84  383.123454   \n",
       "8   4e3c389e-14ce-11ea-bce5-f49634744a41  34.26 -15.83  382.920492   \n",
       "9   4e3c389f-14ce-11ea-bce5-f49634744a41  34.27 -15.92  826.058090   \n",
       "10  4e3c38a0-14ce-11ea-bce5-f49634744a41  34.27 -15.91  782.353762   \n",
       "\n",
       "    precip 2014-11-16 - 2014-11-23  precip 2014-11-23 - 2014-11-30  \\\n",
       "0                              0.0                             0.0   \n",
       "1                              0.0                             0.0   \n",
       "2                              0.0                             0.0   \n",
       "3                              0.0                             0.0   \n",
       "4                              0.0                             0.0   \n",
       "5                              0.0                             0.0   \n",
       "6                              0.0                             0.0   \n",
       "7                              0.0                             0.0   \n",
       "8                              0.0                             0.0   \n",
       "9                              0.0                             0.0   \n",
       "10                             0.0                             0.0   \n",
       "\n",
       "    precip 2014-11-30 - 2014-12-07  precip 2014-12-07 - 2014-12-14  ...  \\\n",
       "0                              0.0                       14.844025  ...   \n",
       "1                              0.0                       14.844025  ...   \n",
       "2                              0.0                       14.844025  ...   \n",
       "3                              0.0                       14.844025  ...   \n",
       "4                              0.0                       14.844025  ...   \n",
       "5                              0.0                       14.844025  ...   \n",
       "6                              0.0                       14.844025  ...   \n",
       "7                              0.0                       14.844025  ...   \n",
       "8                              0.0                       14.844025  ...   \n",
       "9                              0.0                       14.844025  ...   \n",
       "10                             0.0                       14.844025  ...   \n",
       "\n",
       "    precip 2019-03-31 - 2019-04-07  precip 2019-04-07 - 2019-04-14  \\\n",
       "0                             1.68                             0.0   \n",
       "1                             1.68                             0.0   \n",
       "2                             1.68                             0.0   \n",
       "3                             1.68                             0.0   \n",
       "4                             1.68                             0.0   \n",
       "5                             1.68                             0.0   \n",
       "6                             1.68                             0.0   \n",
       "7                             1.68                             0.0   \n",
       "8                             1.68                             0.0   \n",
       "9                             1.68                             0.0   \n",
       "10                            1.68                             0.0   \n",
       "\n",
       "    precip 2019-04-14 - 2019-04-21  precip 2019-04-21 - 2019-04-28  \\\n",
       "0                              0.0                             0.0   \n",
       "1                              0.0                             0.0   \n",
       "2                              0.0                             0.0   \n",
       "3                              0.0                             0.0   \n",
       "4                              0.0                             0.0   \n",
       "5                              0.0                             0.0   \n",
       "6                              0.0                             0.0   \n",
       "7                              0.0                             0.0   \n",
       "8                              0.0                             0.0   \n",
       "9                              0.0                             0.0   \n",
       "10                             0.0                             0.0   \n",
       "\n",
       "    precip 2019-04-28 - 2019-05-05  precip 2019-05-05 - 2019-05-12  \\\n",
       "0                              0.0                             0.0   \n",
       "1                              0.0                             0.0   \n",
       "2                              0.0                             0.0   \n",
       "3                              0.0                             0.0   \n",
       "4                              0.0                             0.0   \n",
       "5                              0.0                             0.0   \n",
       "6                              0.0                             0.0   \n",
       "7                              0.0                             0.0   \n",
       "8                              0.0                             0.0   \n",
       "9                              0.0                             0.0   \n",
       "10                             0.0                             0.0   \n",
       "\n",
       "    precip 2019-05-12 - 2019-05-19  target_2015  wetland_dist       majority  \n",
       "0                              0.0          0.0  15953.465740   4.751131e+00  \n",
       "1                              0.0          0.0  16265.216010   4.977375e+00  \n",
       "2                              0.0          0.0  16645.902409   3.393665e+00  \n",
       "3                              0.0          0.0  17087.784546   3.393665e+00  \n",
       "4                              0.0          0.0  17589.245651   3.167420e+00  \n",
       "5                              0.0          0.0  18145.397965   4.298642e+00  \n",
       "6                              0.0          0.0  18751.375779   3.167420e+00  \n",
       "7                              0.0          0.0  19402.511184   3.167420e+00  \n",
       "8                              0.0          0.0  20094.414795   3.167420e+00  \n",
       "9                              0.0          0.0  14655.331058 -1.797693e+308  \n",
       "10                             0.0          0.0  14910.959896   5.203619e+00  \n",
       "\n",
       "[11 rows x 43 columns]"
      ]
     },
     "execution_count": 16,
     "metadata": {},
     "output_type": "execute_result"
    }
   ],
   "source": [
    "# Turn extracted data into a pandas geodataframe\n",
    "soil_df = gpd.GeoDataFrame.from_features(soil_zs)\n",
    "soil_df.head(11)"
   ]
  },
  {
   "cell_type": "code",
   "execution_count": 17,
   "metadata": {
    "ExecuteTime": {
     "end_time": "2020-03-23T03:07:30.983665Z",
     "start_time": "2020-03-23T03:07:30.977884Z"
    }
   },
   "outputs": [
    {
     "data": {
      "text/plain": [
       "0"
      ]
     },
     "execution_count": 17,
     "metadata": {},
     "output_type": "execute_result"
    }
   ],
   "source": [
    "# find if there are rows with no data\n",
    "len(soil_df[soil_df['majority'].isna()])"
   ]
  },
  {
   "cell_type": "code",
   "execution_count": 18,
   "metadata": {
    "ExecuteTime": {
     "end_time": "2020-03-23T03:07:30.990708Z",
     "start_time": "2020-03-23T03:07:30.985366Z"
    }
   },
   "outputs": [
    {
     "data": {
      "text/plain": [
       "419"
      ]
     },
     "execution_count": 18,
     "metadata": {},
     "output_type": "execute_result"
    }
   ],
   "source": [
    "len(soil_df[soil_df['majority'] < 0])"
   ]
  },
  {
   "cell_type": "code",
   "execution_count": 19,
   "metadata": {
    "ExecuteTime": {
     "end_time": "2020-03-23T03:07:31.000292Z",
     "start_time": "2020-03-23T03:07:30.992544Z"
    }
   },
   "outputs": [
    {
     "name": "stderr",
     "output_type": "stream",
     "text": [
      "/Users/AuerPower/opt/miniconda3/envs/metis/lib/python3.7/site-packages/ipykernel_launcher.py:2: SettingWithCopyWarning: \n",
      "A value is trying to be set on a copy of a slice from a DataFrame\n",
      "\n",
      "See the caveats in the documentation: http://pandas.pydata.org/pandas-docs/stable/user_guide/indexing.html#returning-a-view-versus-a-copy\n",
      "  \n"
     ]
    }
   ],
   "source": [
    "# Replace negative values with 0\n",
    "soil_df['majority'][soil_df['majority'] < 0] = 0"
   ]
  },
  {
   "cell_type": "code",
   "execution_count": 20,
   "metadata": {
    "ExecuteTime": {
     "end_time": "2020-03-23T03:07:31.008910Z",
     "start_time": "2020-03-23T03:07:31.002470Z"
    }
   },
   "outputs": [
    {
     "data": {
      "text/plain": [
       "0"
      ]
     },
     "execution_count": 20,
     "metadata": {},
     "output_type": "execute_result"
    }
   ],
   "source": [
    "len(soil_df[soil_df['majority'] < 0])"
   ]
  },
  {
   "cell_type": "code",
   "execution_count": 21,
   "metadata": {
    "ExecuteTime": {
     "end_time": "2020-03-23T03:07:31.014102Z",
     "start_time": "2020-03-23T03:07:31.010655Z"
    }
   },
   "outputs": [
    {
     "data": {
      "text/plain": [
       "(16466, 43)"
      ]
     },
     "execution_count": 21,
     "metadata": {},
     "output_type": "execute_result"
    }
   ],
   "source": [
    "soil_df.shape"
   ]
  },
  {
   "cell_type": "code",
   "execution_count": 22,
   "metadata": {
    "ExecuteTime": {
     "end_time": "2020-03-23T03:07:31.020075Z",
     "start_time": "2020-03-23T03:07:31.015860Z"
    }
   },
   "outputs": [
    {
     "data": {
      "text/plain": [
       "(16466, 43)"
      ]
     },
     "execution_count": 22,
     "metadata": {},
     "output_type": "execute_result"
    }
   ],
   "source": [
    "# Join with points dataset\n",
    "pts['soil_carbon'] = soil_df.majority\n",
    "pts.shape"
   ]
  },
  {
   "cell_type": "markdown",
   "metadata": {},
   "source": [
    "#### Clay content\n",
    "This data was extracted using the Google Earth Engine code editor which allows processing on google cloud."
   ]
  },
  {
   "cell_type": "code",
   "execution_count": 23,
   "metadata": {
    "ExecuteTime": {
     "end_time": "2020-03-23T04:05:41.339828Z",
     "start_time": "2020-03-23T04:05:40.388777Z"
    }
   },
   "outputs": [
    {
     "data": {
      "text/html": [
       "<div>\n",
       "<style scoped>\n",
       "    .dataframe tbody tr th:only-of-type {\n",
       "        vertical-align: middle;\n",
       "    }\n",
       "\n",
       "    .dataframe tbody tr th {\n",
       "        vertical-align: top;\n",
       "    }\n",
       "\n",
       "    .dataframe thead th {\n",
       "        text-align: right;\n",
       "    }\n",
       "</style>\n",
       "<table border=\"1\" class=\"dataframe\">\n",
       "  <thead>\n",
       "    <tr style=\"text-align: right;\">\n",
       "      <th></th>\n",
       "      <th>X</th>\n",
       "      <th>Y</th>\n",
       "      <th>cly_10_</th>\n",
       "      <th>geometry</th>\n",
       "    </tr>\n",
       "  </thead>\n",
       "  <tbody>\n",
       "    <tr>\n",
       "      <th>0</th>\n",
       "      <td>34.26</td>\n",
       "      <td>-15.91</td>\n",
       "      <td>37.0</td>\n",
       "      <td>POINT (34.26000 -15.91000)</td>\n",
       "    </tr>\n",
       "    <tr>\n",
       "      <th>1</th>\n",
       "      <td>34.26</td>\n",
       "      <td>-15.90</td>\n",
       "      <td>29.0</td>\n",
       "      <td>POINT (34.26000 -15.90000)</td>\n",
       "    </tr>\n",
       "    <tr>\n",
       "      <th>2</th>\n",
       "      <td>34.26</td>\n",
       "      <td>-15.89</td>\n",
       "      <td>27.0</td>\n",
       "      <td>POINT (34.26000 -15.89000)</td>\n",
       "    </tr>\n",
       "    <tr>\n",
       "      <th>3</th>\n",
       "      <td>34.26</td>\n",
       "      <td>-15.88</td>\n",
       "      <td>23.0</td>\n",
       "      <td>POINT (34.26000 -15.88000)</td>\n",
       "    </tr>\n",
       "    <tr>\n",
       "      <th>4</th>\n",
       "      <td>34.26</td>\n",
       "      <td>-15.87</td>\n",
       "      <td>23.0</td>\n",
       "      <td>POINT (34.26000 -15.87000)</td>\n",
       "    </tr>\n",
       "  </tbody>\n",
       "</table>\n",
       "</div>"
      ],
      "text/plain": [
       "       X      Y  cly_10_                    geometry\n",
       "0  34.26 -15.91     37.0  POINT (34.26000 -15.91000)\n",
       "1  34.26 -15.90     29.0  POINT (34.26000 -15.90000)\n",
       "2  34.26 -15.89     27.0  POINT (34.26000 -15.89000)\n",
       "3  34.26 -15.88     23.0  POINT (34.26000 -15.88000)\n",
       "4  34.26 -15.87     23.0  POINT (34.26000 -15.87000)"
      ]
     },
     "execution_count": 23,
     "metadata": {},
     "output_type": "execute_result"
    }
   ],
   "source": [
    "clay10 = gpd.read_file('data/terrain/clay10.shp')\n",
    "clay200 = gpd.read_file('data/terrain/clay200.shp')\n",
    "clay10.head()"
   ]
  },
  {
   "cell_type": "code",
   "execution_count": 24,
   "metadata": {
    "ExecuteTime": {
     "end_time": "2020-03-23T04:05:44.680866Z",
     "start_time": "2020-03-23T04:05:44.677722Z"
    }
   },
   "outputs": [
    {
     "name": "stdout",
     "output_type": "stream",
     "text": [
      "(16466, 4) (16466, 4)\n"
     ]
    }
   ],
   "source": [
    "print(clay10.shape, clay200.shape)"
   ]
  },
  {
   "cell_type": "code",
   "execution_count": 25,
   "metadata": {
    "ExecuteTime": {
     "end_time": "2020-03-23T04:05:45.625606Z",
     "start_time": "2020-03-23T04:05:45.618497Z"
    }
   },
   "outputs": [
    {
     "data": {
      "text/plain": [
       "47"
      ]
     },
     "execution_count": 25,
     "metadata": {},
     "output_type": "execute_result"
    }
   ],
   "source": [
    "len(clay10[clay10['cly_10_'].isna()])"
   ]
  },
  {
   "cell_type": "code",
   "execution_count": 26,
   "metadata": {
    "ExecuteTime": {
     "end_time": "2020-03-23T04:05:46.338408Z",
     "start_time": "2020-03-23T04:05:46.335029Z"
    }
   },
   "outputs": [],
   "source": [
    "pts['clay_10'] = clay10.cly_10_"
   ]
  },
  {
   "cell_type": "code",
   "execution_count": 27,
   "metadata": {
    "ExecuteTime": {
     "end_time": "2020-03-23T04:05:46.926495Z",
     "start_time": "2020-03-23T04:05:46.922095Z"
    }
   },
   "outputs": [],
   "source": [
    "pts['clay_200'] = clay200.clay_b200"
   ]
  },
  {
   "cell_type": "markdown",
   "metadata": {},
   "source": [
    "#### Topographic position Index\n",
    "This data was extracted using the Google Earth Engine code editor which allows processing on google cloud."
   ]
  },
  {
   "cell_type": "code",
   "execution_count": 28,
   "metadata": {
    "ExecuteTime": {
     "end_time": "2020-03-23T04:05:52.073449Z",
     "start_time": "2020-03-23T04:05:51.748117Z"
    }
   },
   "outputs": [
    {
     "data": {
      "text/html": [
       "<div>\n",
       "<style scoped>\n",
       "    .dataframe tbody tr th:only-of-type {\n",
       "        vertical-align: middle;\n",
       "    }\n",
       "\n",
       "    .dataframe tbody tr th {\n",
       "        vertical-align: top;\n",
       "    }\n",
       "\n",
       "    .dataframe thead th {\n",
       "        text-align: right;\n",
       "    }\n",
       "</style>\n",
       "<table border=\"1\" class=\"dataframe\">\n",
       "  <thead>\n",
       "    <tr style=\"text-align: right;\">\n",
       "      <th></th>\n",
       "      <th>X</th>\n",
       "      <th>Y</th>\n",
       "      <th>tpi_1km</th>\n",
       "      <th>geometry</th>\n",
       "    </tr>\n",
       "  </thead>\n",
       "  <tbody>\n",
       "    <tr>\n",
       "      <th>0</th>\n",
       "      <td>34.26</td>\n",
       "      <td>-15.91</td>\n",
       "      <td>57.0</td>\n",
       "      <td>POINT (34.26000 -15.91000)</td>\n",
       "    </tr>\n",
       "    <tr>\n",
       "      <th>1</th>\n",
       "      <td>34.26</td>\n",
       "      <td>-15.90</td>\n",
       "      <td>112.0</td>\n",
       "      <td>POINT (34.26000 -15.90000)</td>\n",
       "    </tr>\n",
       "    <tr>\n",
       "      <th>2</th>\n",
       "      <td>34.26</td>\n",
       "      <td>-15.89</td>\n",
       "      <td>0.0</td>\n",
       "      <td>POINT (34.26000 -15.89000)</td>\n",
       "    </tr>\n",
       "    <tr>\n",
       "      <th>3</th>\n",
       "      <td>34.26</td>\n",
       "      <td>-15.88</td>\n",
       "      <td>-4.0</td>\n",
       "      <td>POINT (34.26000 -15.88000)</td>\n",
       "    </tr>\n",
       "    <tr>\n",
       "      <th>4</th>\n",
       "      <td>34.26</td>\n",
       "      <td>-15.87</td>\n",
       "      <td>3.0</td>\n",
       "      <td>POINT (34.26000 -15.87000)</td>\n",
       "    </tr>\n",
       "  </tbody>\n",
       "</table>\n",
       "</div>"
      ],
      "text/plain": [
       "       X      Y  tpi_1km                    geometry\n",
       "0  34.26 -15.91     57.0  POINT (34.26000 -15.91000)\n",
       "1  34.26 -15.90    112.0  POINT (34.26000 -15.90000)\n",
       "2  34.26 -15.89      0.0  POINT (34.26000 -15.89000)\n",
       "3  34.26 -15.88     -4.0  POINT (34.26000 -15.88000)\n",
       "4  34.26 -15.87      3.0  POINT (34.26000 -15.87000)"
      ]
     },
     "execution_count": 28,
     "metadata": {},
     "output_type": "execute_result"
    }
   ],
   "source": [
    "tpi = gpd.read_file('data/terrain/tpi.shp')\n",
    "tpi.head()"
   ]
  },
  {
   "cell_type": "code",
   "execution_count": 29,
   "metadata": {
    "ExecuteTime": {
     "end_time": "2020-03-23T04:05:52.911854Z",
     "start_time": "2020-03-23T04:05:52.908246Z"
    }
   },
   "outputs": [
    {
     "data": {
      "text/plain": [
       "(16466, 4)"
      ]
     },
     "execution_count": 29,
     "metadata": {},
     "output_type": "execute_result"
    }
   ],
   "source": [
    "tpi.shape"
   ]
  },
  {
   "cell_type": "code",
   "execution_count": 30,
   "metadata": {
    "ExecuteTime": {
     "end_time": "2020-03-23T04:05:53.659043Z",
     "start_time": "2020-03-23T04:05:53.655835Z"
    }
   },
   "outputs": [],
   "source": [
    "pts['TPI'] = tpi.tpi_1km"
   ]
  },
  {
   "cell_type": "code",
   "execution_count": 31,
   "metadata": {
    "ExecuteTime": {
     "end_time": "2020-03-23T04:05:54.663274Z",
     "start_time": "2020-03-23T04:05:54.659182Z"
    }
   },
   "outputs": [
    {
     "data": {
      "text/plain": [
       "Index(['X', 'Y', 'target_2015', 'elevation', 'precip 2014-11-16 - 2014-11-23',\n",
       "       'precip 2014-11-23 - 2014-11-30', 'precip 2014-11-30 - 2014-12-07',\n",
       "       'precip 2014-12-07 - 2014-12-14', 'precip 2014-12-14 - 2014-12-21',\n",
       "       'precip 2014-12-21 - 2014-12-28', 'precip 2014-12-28 - 2015-01-04',\n",
       "       'precip 2015-01-04 - 2015-01-11', 'precip 2015-01-11 - 2015-01-18',\n",
       "       'precip 2015-01-18 - 2015-01-25', 'precip 2015-01-25 - 2015-02-01',\n",
       "       'precip 2015-02-01 - 2015-02-08', 'precip 2015-02-08 - 2015-02-15',\n",
       "       'precip 2015-02-15 - 2015-02-22', 'precip 2015-02-22 - 2015-03-01',\n",
       "       'precip 2015-03-01 - 2015-03-08', 'precip 2015-03-08 - 2015-03-15',\n",
       "       'precip 2019-01-20 - 2019-01-27', 'precip 2019-01-27 - 2019-02-03',\n",
       "       'precip 2019-02-03 - 2019-02-10', 'precip 2019-02-10 - 2019-02-17',\n",
       "       'precip 2019-02-17 - 2019-02-24', 'precip 2019-02-24 - 2019-03-03',\n",
       "       'precip 2019-03-03 - 2019-03-10', 'precip 2019-03-10 - 2019-03-17',\n",
       "       'precip 2019-03-17 - 2019-03-24', 'precip 2019-03-24 - 2019-03-31',\n",
       "       'precip 2019-03-31 - 2019-04-07', 'precip 2019-04-07 - 2019-04-14',\n",
       "       'precip 2019-04-14 - 2019-04-21', 'precip 2019-04-21 - 2019-04-28',\n",
       "       'precip 2019-04-28 - 2019-05-05', 'precip 2019-05-05 - 2019-05-12',\n",
       "       'precip 2019-05-12 - 2019-05-19', 'LC_Type1_mode', 'Square_ID',\n",
       "       'geometry', 'wetland_dist', 'soil_carbon', 'clay_10', 'clay_200',\n",
       "       'TPI'],\n",
       "      dtype='object')"
      ]
     },
     "execution_count": 31,
     "metadata": {},
     "output_type": "execute_result"
    }
   ],
   "source": [
    "pts.columns"
   ]
  },
  {
   "cell_type": "code",
   "execution_count": 32,
   "metadata": {
    "ExecuteTime": {
     "end_time": "2020-03-23T04:05:58.393818Z",
     "start_time": "2020-03-23T04:05:58.386751Z"
    }
   },
   "outputs": [
    {
     "data": {
      "text/plain": [
       "47"
      ]
     },
     "execution_count": 32,
     "metadata": {},
     "output_type": "execute_result"
    }
   ],
   "source": [
    "len(clay10[clay10['cly_10_'].isna()])"
   ]
  },
  {
   "cell_type": "markdown",
   "metadata": {},
   "source": [
    "## Transform landcover into dummy variable"
   ]
  },
  {
   "cell_type": "code",
   "execution_count": 33,
   "metadata": {
    "ExecuteTime": {
     "end_time": "2020-03-23T04:06:03.080794Z",
     "start_time": "2020-03-23T04:06:03.075360Z"
    }
   },
   "outputs": [],
   "source": [
    "landcover = pts.LC_Type1_mode"
   ]
  },
  {
   "cell_type": "code",
   "execution_count": 34,
   "metadata": {
    "ExecuteTime": {
     "end_time": "2020-03-23T04:06:05.410564Z",
     "start_time": "2020-03-23T04:06:05.401211Z"
    }
   },
   "outputs": [],
   "source": [
    "landcover_dummy = pd.get_dummies(landcover, prefix='landcover')"
   ]
  },
  {
   "cell_type": "code",
   "execution_count": 35,
   "metadata": {
    "ExecuteTime": {
     "end_time": "2020-03-23T04:06:06.104329Z",
     "start_time": "2020-03-23T04:06:06.093486Z"
    }
   },
   "outputs": [
    {
     "data": {
      "text/html": [
       "<div>\n",
       "<style scoped>\n",
       "    .dataframe tbody tr th:only-of-type {\n",
       "        vertical-align: middle;\n",
       "    }\n",
       "\n",
       "    .dataframe tbody tr th {\n",
       "        vertical-align: top;\n",
       "    }\n",
       "\n",
       "    .dataframe thead th {\n",
       "        text-align: right;\n",
       "    }\n",
       "</style>\n",
       "<table border=\"1\" class=\"dataframe\">\n",
       "  <thead>\n",
       "    <tr style=\"text-align: right;\">\n",
       "      <th></th>\n",
       "      <th>landcover_2</th>\n",
       "      <th>landcover_4</th>\n",
       "      <th>landcover_5</th>\n",
       "      <th>landcover_7</th>\n",
       "      <th>landcover_8</th>\n",
       "      <th>landcover_9</th>\n",
       "      <th>landcover_10</th>\n",
       "      <th>landcover_11</th>\n",
       "      <th>landcover_12</th>\n",
       "      <th>landcover_13</th>\n",
       "      <th>landcover_14</th>\n",
       "      <th>landcover_17</th>\n",
       "    </tr>\n",
       "  </thead>\n",
       "  <tbody>\n",
       "    <tr>\n",
       "      <th>0</th>\n",
       "      <td>0</td>\n",
       "      <td>0</td>\n",
       "      <td>0</td>\n",
       "      <td>0</td>\n",
       "      <td>0</td>\n",
       "      <td>1</td>\n",
       "      <td>0</td>\n",
       "      <td>0</td>\n",
       "      <td>0</td>\n",
       "      <td>0</td>\n",
       "      <td>0</td>\n",
       "      <td>0</td>\n",
       "    </tr>\n",
       "    <tr>\n",
       "      <th>1</th>\n",
       "      <td>0</td>\n",
       "      <td>0</td>\n",
       "      <td>0</td>\n",
       "      <td>0</td>\n",
       "      <td>0</td>\n",
       "      <td>1</td>\n",
       "      <td>0</td>\n",
       "      <td>0</td>\n",
       "      <td>0</td>\n",
       "      <td>0</td>\n",
       "      <td>0</td>\n",
       "      <td>0</td>\n",
       "    </tr>\n",
       "    <tr>\n",
       "      <th>2</th>\n",
       "      <td>0</td>\n",
       "      <td>0</td>\n",
       "      <td>0</td>\n",
       "      <td>0</td>\n",
       "      <td>0</td>\n",
       "      <td>1</td>\n",
       "      <td>0</td>\n",
       "      <td>0</td>\n",
       "      <td>0</td>\n",
       "      <td>0</td>\n",
       "      <td>0</td>\n",
       "      <td>0</td>\n",
       "    </tr>\n",
       "    <tr>\n",
       "      <th>3</th>\n",
       "      <td>0</td>\n",
       "      <td>0</td>\n",
       "      <td>0</td>\n",
       "      <td>0</td>\n",
       "      <td>0</td>\n",
       "      <td>0</td>\n",
       "      <td>1</td>\n",
       "      <td>0</td>\n",
       "      <td>0</td>\n",
       "      <td>0</td>\n",
       "      <td>0</td>\n",
       "      <td>0</td>\n",
       "    </tr>\n",
       "    <tr>\n",
       "      <th>4</th>\n",
       "      <td>0</td>\n",
       "      <td>0</td>\n",
       "      <td>0</td>\n",
       "      <td>0</td>\n",
       "      <td>0</td>\n",
       "      <td>0</td>\n",
       "      <td>1</td>\n",
       "      <td>0</td>\n",
       "      <td>0</td>\n",
       "      <td>0</td>\n",
       "      <td>0</td>\n",
       "      <td>0</td>\n",
       "    </tr>\n",
       "  </tbody>\n",
       "</table>\n",
       "</div>"
      ],
      "text/plain": [
       "   landcover_2  landcover_4  landcover_5  landcover_7  landcover_8  \\\n",
       "0            0            0            0            0            0   \n",
       "1            0            0            0            0            0   \n",
       "2            0            0            0            0            0   \n",
       "3            0            0            0            0            0   \n",
       "4            0            0            0            0            0   \n",
       "\n",
       "   landcover_9  landcover_10  landcover_11  landcover_12  landcover_13  \\\n",
       "0            1             0             0             0             0   \n",
       "1            1             0             0             0             0   \n",
       "2            1             0             0             0             0   \n",
       "3            0             1             0             0             0   \n",
       "4            0             1             0             0             0   \n",
       "\n",
       "   landcover_14  landcover_17  \n",
       "0             0             0  \n",
       "1             0             0  \n",
       "2             0             0  \n",
       "3             0             0  \n",
       "4             0             0  "
      ]
     },
     "execution_count": 35,
     "metadata": {},
     "output_type": "execute_result"
    }
   ],
   "source": [
    "landcover_dummy.head()"
   ]
  },
  {
   "cell_type": "code",
   "execution_count": 36,
   "metadata": {
    "ExecuteTime": {
     "end_time": "2020-03-23T04:06:09.229589Z",
     "start_time": "2020-03-23T04:06:09.199039Z"
    }
   },
   "outputs": [
    {
     "data": {
      "text/plain": [
       "Index(['X', 'Y', 'target_2015', 'elevation', 'precip 2014-11-16 - 2014-11-23',\n",
       "       'precip 2014-11-23 - 2014-11-30', 'precip 2014-11-30 - 2014-12-07',\n",
       "       'precip 2014-12-07 - 2014-12-14', 'precip 2014-12-14 - 2014-12-21',\n",
       "       'precip 2014-12-21 - 2014-12-28', 'precip 2014-12-28 - 2015-01-04',\n",
       "       'precip 2015-01-04 - 2015-01-11', 'precip 2015-01-11 - 2015-01-18',\n",
       "       'precip 2015-01-18 - 2015-01-25', 'precip 2015-01-25 - 2015-02-01',\n",
       "       'precip 2015-02-01 - 2015-02-08', 'precip 2015-02-08 - 2015-02-15',\n",
       "       'precip 2015-02-15 - 2015-02-22', 'precip 2015-02-22 - 2015-03-01',\n",
       "       'precip 2015-03-01 - 2015-03-08', 'precip 2015-03-08 - 2015-03-15',\n",
       "       'precip 2019-01-20 - 2019-01-27', 'precip 2019-01-27 - 2019-02-03',\n",
       "       'precip 2019-02-03 - 2019-02-10', 'precip 2019-02-10 - 2019-02-17',\n",
       "       'precip 2019-02-17 - 2019-02-24', 'precip 2019-02-24 - 2019-03-03',\n",
       "       'precip 2019-03-03 - 2019-03-10', 'precip 2019-03-10 - 2019-03-17',\n",
       "       'precip 2019-03-17 - 2019-03-24', 'precip 2019-03-24 - 2019-03-31',\n",
       "       'precip 2019-03-31 - 2019-04-07', 'precip 2019-04-07 - 2019-04-14',\n",
       "       'precip 2019-04-14 - 2019-04-21', 'precip 2019-04-21 - 2019-04-28',\n",
       "       'precip 2019-04-28 - 2019-05-05', 'precip 2019-05-05 - 2019-05-12',\n",
       "       'precip 2019-05-12 - 2019-05-19', 'Square_ID', 'geometry',\n",
       "       'wetland_dist', 'soil_carbon', 'clay_10', 'clay_200', 'TPI'],\n",
       "      dtype='object')"
      ]
     },
     "execution_count": 36,
     "metadata": {},
     "output_type": "execute_result"
    }
   ],
   "source": [
    "# drop landcover column and add dummies\n",
    "pts = pts.drop(['LC_Type1_mode'], axis=1)\n",
    "#pts = pts.drop(['landform'], axis=1)\n",
    "pts.columns"
   ]
  },
  {
   "cell_type": "code",
   "execution_count": 37,
   "metadata": {
    "ExecuteTime": {
     "end_time": "2020-03-23T04:06:11.727854Z",
     "start_time": "2020-03-23T04:06:11.723747Z"
    }
   },
   "outputs": [
    {
     "data": {
      "text/plain": [
       "(16466, 45)"
      ]
     },
     "execution_count": 37,
     "metadata": {},
     "output_type": "execute_result"
    }
   ],
   "source": [
    "pts.shape"
   ]
  },
  {
   "cell_type": "markdown",
   "metadata": {},
   "source": [
    "## Get geographic regions to split data for testing"
   ]
  },
  {
   "cell_type": "code",
   "execution_count": 38,
   "metadata": {
    "ExecuteTime": {
     "end_time": "2020-03-23T04:06:19.802301Z",
     "start_time": "2020-03-23T04:06:19.652125Z"
    }
   },
   "outputs": [
    {
     "data": {
      "text/html": [
       "<div>\n",
       "<style scoped>\n",
       "    .dataframe tbody tr th:only-of-type {\n",
       "        vertical-align: middle;\n",
       "    }\n",
       "\n",
       "    .dataframe tbody tr th {\n",
       "        vertical-align: top;\n",
       "    }\n",
       "\n",
       "    .dataframe thead th {\n",
       "        text-align: right;\n",
       "    }\n",
       "</style>\n",
       "<table border=\"1\" class=\"dataframe\">\n",
       "  <thead>\n",
       "    <tr style=\"text-align: right;\">\n",
       "      <th></th>\n",
       "      <th>NO_</th>\n",
       "      <th>DISTRICT</th>\n",
       "      <th>AREA_KM2</th>\n",
       "      <th>geometry</th>\n",
       "    </tr>\n",
       "  </thead>\n",
       "  <tbody>\n",
       "    <tr>\n",
       "      <th>0</th>\n",
       "      <td>25</td>\n",
       "      <td>Balaka</td>\n",
       "      <td>2133.9</td>\n",
       "      <td>POLYGON ((705206.344 8341597.636, 705196.219 8...</td>\n",
       "    </tr>\n",
       "    <tr>\n",
       "      <th>1</th>\n",
       "      <td>26</td>\n",
       "      <td>Chikwawa</td>\n",
       "      <td>4891.7</td>\n",
       "      <td>POLYGON ((663262.990 8251321.707, 663312.927 8...</td>\n",
       "    </tr>\n",
       "    <tr>\n",
       "      <th>2</th>\n",
       "      <td>27</td>\n",
       "      <td>Chiradzulu</td>\n",
       "      <td>763.1</td>\n",
       "      <td>POLYGON ((734595.781 8280124.638, 734642.656 8...</td>\n",
       "    </tr>\n",
       "    <tr>\n",
       "      <th>3</th>\n",
       "      <td>1</td>\n",
       "      <td>Chitipa</td>\n",
       "      <td>4247.7</td>\n",
       "      <td>POLYGON ((568398.421 8887242.181, 568445.359 8...</td>\n",
       "    </tr>\n",
       "    <tr>\n",
       "      <th>4</th>\n",
       "      <td>12</td>\n",
       "      <td>Dedza</td>\n",
       "      <td>3748.4</td>\n",
       "      <td>POLYGON ((648323.176 8453798.665, 648344.989 8...</td>\n",
       "    </tr>\n",
       "  </tbody>\n",
       "</table>\n",
       "</div>"
      ],
      "text/plain": [
       "   NO_    DISTRICT  AREA_KM2  \\\n",
       "0   25      Balaka    2133.9   \n",
       "1   26    Chikwawa    4891.7   \n",
       "2   27  Chiradzulu     763.1   \n",
       "3    1     Chitipa    4247.7   \n",
       "4   12       Dedza    3748.4   \n",
       "\n",
       "                                            geometry  \n",
       "0  POLYGON ((705206.344 8341597.636, 705196.219 8...  \n",
       "1  POLYGON ((663262.990 8251321.707, 663312.927 8...  \n",
       "2  POLYGON ((734595.781 8280124.638, 734642.656 8...  \n",
       "3  POLYGON ((568398.421 8887242.181, 568445.359 8...  \n",
       "4  POLYGON ((648323.176 8453798.665, 648344.989 8...  "
      ]
     },
     "execution_count": 38,
     "metadata": {},
     "output_type": "execute_result"
    }
   ],
   "source": [
    "regions = gpd.read_file('data/human/malawi_district_boundaries/malawi_district_boundaries.shp')\n",
    "regions.head()"
   ]
  },
  {
   "cell_type": "code",
   "execution_count": 39,
   "metadata": {
    "ExecuteTime": {
     "end_time": "2020-03-23T04:06:20.629007Z",
     "start_time": "2020-03-23T04:06:20.625295Z"
    }
   },
   "outputs": [
    {
     "data": {
      "text/plain": [
       "{'init': 'epsg:32736'}"
      ]
     },
     "execution_count": 39,
     "metadata": {},
     "output_type": "execute_result"
    }
   ],
   "source": [
    "regions.crs"
   ]
  },
  {
   "cell_type": "code",
   "execution_count": 40,
   "metadata": {
    "ExecuteTime": {
     "end_time": "2020-03-23T04:06:21.229516Z",
     "start_time": "2020-03-23T04:06:21.225205Z"
    }
   },
   "outputs": [
    {
     "data": {
      "text/plain": [
       "'epsg:4326'"
      ]
     },
     "execution_count": 40,
     "metadata": {},
     "output_type": "execute_result"
    }
   ],
   "source": [
    "pts.crs"
   ]
  },
  {
   "cell_type": "code",
   "execution_count": 41,
   "metadata": {
    "ExecuteTime": {
     "end_time": "2020-03-23T04:06:22.364744Z",
     "start_time": "2020-03-23T04:06:21.784570Z"
    }
   },
   "outputs": [],
   "source": [
    "pts = pts.to_crs('epsg:32736')"
   ]
  },
  {
   "cell_type": "code",
   "execution_count": 42,
   "metadata": {
    "ExecuteTime": {
     "end_time": "2020-03-23T04:06:24.845418Z",
     "start_time": "2020-03-23T04:06:24.034282Z"
    }
   },
   "outputs": [
    {
     "name": "stderr",
     "output_type": "stream",
     "text": [
      "/Users/AuerPower/opt/miniconda3/envs/metis/lib/python3.7/site-packages/geopandas/tools/sjoin.py:61: UserWarning: CRS of frames being joined does not match!(epsg:32736 != {'init': 'epsg:32736'})\n",
      "  \"(%s != %s)\" % (left_df.crs, right_df.crs)\n"
     ]
    },
    {
     "data": {
      "text/html": [
       "<div>\n",
       "<style scoped>\n",
       "    .dataframe tbody tr th:only-of-type {\n",
       "        vertical-align: middle;\n",
       "    }\n",
       "\n",
       "    .dataframe tbody tr th {\n",
       "        vertical-align: top;\n",
       "    }\n",
       "\n",
       "    .dataframe thead th {\n",
       "        text-align: right;\n",
       "    }\n",
       "</style>\n",
       "<table border=\"1\" class=\"dataframe\">\n",
       "  <thead>\n",
       "    <tr style=\"text-align: right;\">\n",
       "      <th></th>\n",
       "      <th>X</th>\n",
       "      <th>Y</th>\n",
       "      <th>target_2015</th>\n",
       "      <th>elevation</th>\n",
       "      <th>precip 2014-11-16 - 2014-11-23</th>\n",
       "      <th>precip 2014-11-23 - 2014-11-30</th>\n",
       "      <th>precip 2014-11-30 - 2014-12-07</th>\n",
       "      <th>precip 2014-12-07 - 2014-12-14</th>\n",
       "      <th>precip 2014-12-14 - 2014-12-21</th>\n",
       "      <th>precip 2014-12-21 - 2014-12-28</th>\n",
       "      <th>...</th>\n",
       "      <th>geometry</th>\n",
       "      <th>wetland_dist</th>\n",
       "      <th>soil_carbon</th>\n",
       "      <th>clay_10</th>\n",
       "      <th>clay_200</th>\n",
       "      <th>TPI</th>\n",
       "      <th>index_right</th>\n",
       "      <th>NO_</th>\n",
       "      <th>DISTRICT</th>\n",
       "      <th>AREA_KM2</th>\n",
       "    </tr>\n",
       "  </thead>\n",
       "  <tbody>\n",
       "    <tr>\n",
       "      <th>0</th>\n",
       "      <td>34.26</td>\n",
       "      <td>-15.91</td>\n",
       "      <td>0.0</td>\n",
       "      <td>887.764222</td>\n",
       "      <td>0.0</td>\n",
       "      <td>0.0</td>\n",
       "      <td>0.0</td>\n",
       "      <td>14.844025</td>\n",
       "      <td>14.552823</td>\n",
       "      <td>12.237766</td>\n",
       "      <td>...</td>\n",
       "      <td>POINT (634878.860 8240613.284)</td>\n",
       "      <td>15953.465740</td>\n",
       "      <td>4.751131</td>\n",
       "      <td>37.0</td>\n",
       "      <td>40.0</td>\n",
       "      <td>57.0</td>\n",
       "      <td>1</td>\n",
       "      <td>26</td>\n",
       "      <td>Chikwawa</td>\n",
       "      <td>4891.7</td>\n",
       "    </tr>\n",
       "    <tr>\n",
       "      <th>1</th>\n",
       "      <td>34.26</td>\n",
       "      <td>-15.90</td>\n",
       "      <td>0.0</td>\n",
       "      <td>743.403912</td>\n",
       "      <td>0.0</td>\n",
       "      <td>0.0</td>\n",
       "      <td>0.0</td>\n",
       "      <td>14.844025</td>\n",
       "      <td>14.552823</td>\n",
       "      <td>12.237766</td>\n",
       "      <td>...</td>\n",
       "      <td>POINT (634885.529 8241719.647)</td>\n",
       "      <td>16265.216010</td>\n",
       "      <td>4.977375</td>\n",
       "      <td>29.0</td>\n",
       "      <td>36.0</td>\n",
       "      <td>112.0</td>\n",
       "      <td>1</td>\n",
       "      <td>26</td>\n",
       "      <td>Chikwawa</td>\n",
       "      <td>4891.7</td>\n",
       "    </tr>\n",
       "    <tr>\n",
       "      <th>2</th>\n",
       "      <td>34.26</td>\n",
       "      <td>-15.89</td>\n",
       "      <td>0.0</td>\n",
       "      <td>565.728343</td>\n",
       "      <td>0.0</td>\n",
       "      <td>0.0</td>\n",
       "      <td>0.0</td>\n",
       "      <td>14.844025</td>\n",
       "      <td>14.552823</td>\n",
       "      <td>12.237766</td>\n",
       "      <td>...</td>\n",
       "      <td>POINT (634892.193 8242826.009)</td>\n",
       "      <td>16645.902409</td>\n",
       "      <td>3.393665</td>\n",
       "      <td>27.0</td>\n",
       "      <td>33.0</td>\n",
       "      <td>0.0</td>\n",
       "      <td>1</td>\n",
       "      <td>26</td>\n",
       "      <td>Chikwawa</td>\n",
       "      <td>4891.7</td>\n",
       "    </tr>\n",
       "    <tr>\n",
       "      <th>3</th>\n",
       "      <td>34.26</td>\n",
       "      <td>-15.88</td>\n",
       "      <td>0.0</td>\n",
       "      <td>443.392774</td>\n",
       "      <td>0.0</td>\n",
       "      <td>0.0</td>\n",
       "      <td>0.0</td>\n",
       "      <td>14.844025</td>\n",
       "      <td>14.552823</td>\n",
       "      <td>12.237766</td>\n",
       "      <td>...</td>\n",
       "      <td>POINT (634898.854 8243932.371)</td>\n",
       "      <td>17087.784546</td>\n",
       "      <td>3.393665</td>\n",
       "      <td>23.0</td>\n",
       "      <td>29.0</td>\n",
       "      <td>-4.0</td>\n",
       "      <td>1</td>\n",
       "      <td>26</td>\n",
       "      <td>Chikwawa</td>\n",
       "      <td>4891.7</td>\n",
       "    </tr>\n",
       "    <tr>\n",
       "      <th>4</th>\n",
       "      <td>34.26</td>\n",
       "      <td>-15.87</td>\n",
       "      <td>0.0</td>\n",
       "      <td>437.443428</td>\n",
       "      <td>0.0</td>\n",
       "      <td>0.0</td>\n",
       "      <td>0.0</td>\n",
       "      <td>14.844025</td>\n",
       "      <td>14.552823</td>\n",
       "      <td>12.237766</td>\n",
       "      <td>...</td>\n",
       "      <td>POINT (634905.510 8245038.731)</td>\n",
       "      <td>17589.245651</td>\n",
       "      <td>3.167420</td>\n",
       "      <td>23.0</td>\n",
       "      <td>30.0</td>\n",
       "      <td>3.0</td>\n",
       "      <td>1</td>\n",
       "      <td>26</td>\n",
       "      <td>Chikwawa</td>\n",
       "      <td>4891.7</td>\n",
       "    </tr>\n",
       "  </tbody>\n",
       "</table>\n",
       "<p>5 rows × 49 columns</p>\n",
       "</div>"
      ],
      "text/plain": [
       "       X      Y  target_2015   elevation  precip 2014-11-16 - 2014-11-23  \\\n",
       "0  34.26 -15.91          0.0  887.764222                             0.0   \n",
       "1  34.26 -15.90          0.0  743.403912                             0.0   \n",
       "2  34.26 -15.89          0.0  565.728343                             0.0   \n",
       "3  34.26 -15.88          0.0  443.392774                             0.0   \n",
       "4  34.26 -15.87          0.0  437.443428                             0.0   \n",
       "\n",
       "   precip 2014-11-23 - 2014-11-30  precip 2014-11-30 - 2014-12-07  \\\n",
       "0                             0.0                             0.0   \n",
       "1                             0.0                             0.0   \n",
       "2                             0.0                             0.0   \n",
       "3                             0.0                             0.0   \n",
       "4                             0.0                             0.0   \n",
       "\n",
       "   precip 2014-12-07 - 2014-12-14  precip 2014-12-14 - 2014-12-21  \\\n",
       "0                       14.844025                       14.552823   \n",
       "1                       14.844025                       14.552823   \n",
       "2                       14.844025                       14.552823   \n",
       "3                       14.844025                       14.552823   \n",
       "4                       14.844025                       14.552823   \n",
       "\n",
       "   precip 2014-12-21 - 2014-12-28  ...                        geometry  \\\n",
       "0                       12.237766  ...  POINT (634878.860 8240613.284)   \n",
       "1                       12.237766  ...  POINT (634885.529 8241719.647)   \n",
       "2                       12.237766  ...  POINT (634892.193 8242826.009)   \n",
       "3                       12.237766  ...  POINT (634898.854 8243932.371)   \n",
       "4                       12.237766  ...  POINT (634905.510 8245038.731)   \n",
       "\n",
       "   wetland_dist  soil_carbon  clay_10  clay_200    TPI  index_right  NO_  \\\n",
       "0  15953.465740     4.751131     37.0      40.0   57.0            1   26   \n",
       "1  16265.216010     4.977375     29.0      36.0  112.0            1   26   \n",
       "2  16645.902409     3.393665     27.0      33.0    0.0            1   26   \n",
       "3  17087.784546     3.393665     23.0      29.0   -4.0            1   26   \n",
       "4  17589.245651     3.167420     23.0      30.0    3.0            1   26   \n",
       "\n",
       "   DISTRICT  AREA_KM2  \n",
       "0  Chikwawa    4891.7  \n",
       "1  Chikwawa    4891.7  \n",
       "2  Chikwawa    4891.7  \n",
       "3  Chikwawa    4891.7  \n",
       "4  Chikwawa    4891.7  \n",
       "\n",
       "[5 rows x 49 columns]"
      ]
     },
     "execution_count": 42,
     "metadata": {},
     "output_type": "execute_result"
    }
   ],
   "source": [
    "pts = gpd.sjoin(pts, regions, op='within') \n",
    "pts.head()"
   ]
  },
  {
   "cell_type": "code",
   "execution_count": 43,
   "metadata": {
    "ExecuteTime": {
     "end_time": "2020-03-23T04:06:24.850056Z",
     "start_time": "2020-03-23T04:06:24.847715Z"
    }
   },
   "outputs": [],
   "source": [
    "pts_df = pd.DataFrame(pts)"
   ]
  },
  {
   "cell_type": "code",
   "execution_count": 44,
   "metadata": {
    "ExecuteTime": {
     "end_time": "2020-03-23T04:06:28.074560Z",
     "start_time": "2020-03-23T04:06:28.070385Z"
    }
   },
   "outputs": [
    {
     "data": {
      "text/plain": [
       "Index(['X', 'Y', 'target_2015', 'elevation', 'precip 2014-11-16 - 2014-11-23',\n",
       "       'precip 2014-11-23 - 2014-11-30', 'precip 2014-11-30 - 2014-12-07',\n",
       "       'precip 2014-12-07 - 2014-12-14', 'precip 2014-12-14 - 2014-12-21',\n",
       "       'precip 2014-12-21 - 2014-12-28', 'precip 2014-12-28 - 2015-01-04',\n",
       "       'precip 2015-01-04 - 2015-01-11', 'precip 2015-01-11 - 2015-01-18',\n",
       "       'precip 2015-01-18 - 2015-01-25', 'precip 2015-01-25 - 2015-02-01',\n",
       "       'precip 2015-02-01 - 2015-02-08', 'precip 2015-02-08 - 2015-02-15',\n",
       "       'precip 2015-02-15 - 2015-02-22', 'precip 2015-02-22 - 2015-03-01',\n",
       "       'precip 2015-03-01 - 2015-03-08', 'precip 2015-03-08 - 2015-03-15',\n",
       "       'precip 2019-01-20 - 2019-01-27', 'precip 2019-01-27 - 2019-02-03',\n",
       "       'precip 2019-02-03 - 2019-02-10', 'precip 2019-02-10 - 2019-02-17',\n",
       "       'precip 2019-02-17 - 2019-02-24', 'precip 2019-02-24 - 2019-03-03',\n",
       "       'precip 2019-03-03 - 2019-03-10', 'precip 2019-03-10 - 2019-03-17',\n",
       "       'precip 2019-03-17 - 2019-03-24', 'precip 2019-03-24 - 2019-03-31',\n",
       "       'precip 2019-03-31 - 2019-04-07', 'precip 2019-04-07 - 2019-04-14',\n",
       "       'precip 2019-04-14 - 2019-04-21', 'precip 2019-04-21 - 2019-04-28',\n",
       "       'precip 2019-04-28 - 2019-05-05', 'precip 2019-05-05 - 2019-05-12',\n",
       "       'precip 2019-05-12 - 2019-05-19', 'Square_ID', 'geometry',\n",
       "       'wetland_dist', 'soil_carbon', 'clay_10', 'clay_200', 'TPI',\n",
       "       'index_right', 'NO_', 'DISTRICT', 'AREA_KM2'],\n",
       "      dtype='object')"
      ]
     },
     "execution_count": 44,
     "metadata": {},
     "output_type": "execute_result"
    }
   ],
   "source": [
    "pts_df.columns"
   ]
  },
  {
   "cell_type": "code",
   "execution_count": 45,
   "metadata": {
    "ExecuteTime": {
     "end_time": "2020-03-23T04:06:30.379786Z",
     "start_time": "2020-03-23T04:06:30.374812Z"
    }
   },
   "outputs": [],
   "source": [
    "pts_df = pts_df.drop(columns=['geometry', 'index_right', 'NO_', 'AREA_KM2'])"
   ]
  },
  {
   "cell_type": "code",
   "execution_count": 46,
   "metadata": {
    "ExecuteTime": {
     "end_time": "2020-03-23T04:06:31.342567Z",
     "start_time": "2020-03-23T04:06:31.313010Z"
    }
   },
   "outputs": [
    {
     "data": {
      "text/html": [
       "<div>\n",
       "<style scoped>\n",
       "    .dataframe tbody tr th:only-of-type {\n",
       "        vertical-align: middle;\n",
       "    }\n",
       "\n",
       "    .dataframe tbody tr th {\n",
       "        vertical-align: top;\n",
       "    }\n",
       "\n",
       "    .dataframe thead th {\n",
       "        text-align: right;\n",
       "    }\n",
       "</style>\n",
       "<table border=\"1\" class=\"dataframe\">\n",
       "  <thead>\n",
       "    <tr style=\"text-align: right;\">\n",
       "      <th></th>\n",
       "      <th>X</th>\n",
       "      <th>Y</th>\n",
       "      <th>target_2015</th>\n",
       "      <th>elevation</th>\n",
       "      <th>precip 2014-11-16 - 2014-11-23</th>\n",
       "      <th>precip 2014-11-23 - 2014-11-30</th>\n",
       "      <th>precip 2014-11-30 - 2014-12-07</th>\n",
       "      <th>precip 2014-12-07 - 2014-12-14</th>\n",
       "      <th>precip 2014-12-14 - 2014-12-21</th>\n",
       "      <th>precip 2014-12-21 - 2014-12-28</th>\n",
       "      <th>...</th>\n",
       "      <th>landcover_5</th>\n",
       "      <th>landcover_7</th>\n",
       "      <th>landcover_8</th>\n",
       "      <th>landcover_9</th>\n",
       "      <th>landcover_10</th>\n",
       "      <th>landcover_11</th>\n",
       "      <th>landcover_12</th>\n",
       "      <th>landcover_13</th>\n",
       "      <th>landcover_14</th>\n",
       "      <th>landcover_17</th>\n",
       "    </tr>\n",
       "  </thead>\n",
       "  <tbody>\n",
       "    <tr>\n",
       "      <th>0</th>\n",
       "      <td>34.26</td>\n",
       "      <td>-15.91</td>\n",
       "      <td>0.0</td>\n",
       "      <td>887.764222</td>\n",
       "      <td>0.0</td>\n",
       "      <td>0.0</td>\n",
       "      <td>0.0</td>\n",
       "      <td>14.844025</td>\n",
       "      <td>14.552823</td>\n",
       "      <td>12.237766</td>\n",
       "      <td>...</td>\n",
       "      <td>0</td>\n",
       "      <td>0</td>\n",
       "      <td>0</td>\n",
       "      <td>1</td>\n",
       "      <td>0</td>\n",
       "      <td>0</td>\n",
       "      <td>0</td>\n",
       "      <td>0</td>\n",
       "      <td>0</td>\n",
       "      <td>0</td>\n",
       "    </tr>\n",
       "    <tr>\n",
       "      <th>1</th>\n",
       "      <td>34.26</td>\n",
       "      <td>-15.90</td>\n",
       "      <td>0.0</td>\n",
       "      <td>743.403912</td>\n",
       "      <td>0.0</td>\n",
       "      <td>0.0</td>\n",
       "      <td>0.0</td>\n",
       "      <td>14.844025</td>\n",
       "      <td>14.552823</td>\n",
       "      <td>12.237766</td>\n",
       "      <td>...</td>\n",
       "      <td>0</td>\n",
       "      <td>0</td>\n",
       "      <td>0</td>\n",
       "      <td>1</td>\n",
       "      <td>0</td>\n",
       "      <td>0</td>\n",
       "      <td>0</td>\n",
       "      <td>0</td>\n",
       "      <td>0</td>\n",
       "      <td>0</td>\n",
       "    </tr>\n",
       "    <tr>\n",
       "      <th>2</th>\n",
       "      <td>34.26</td>\n",
       "      <td>-15.89</td>\n",
       "      <td>0.0</td>\n",
       "      <td>565.728343</td>\n",
       "      <td>0.0</td>\n",
       "      <td>0.0</td>\n",
       "      <td>0.0</td>\n",
       "      <td>14.844025</td>\n",
       "      <td>14.552823</td>\n",
       "      <td>12.237766</td>\n",
       "      <td>...</td>\n",
       "      <td>0</td>\n",
       "      <td>0</td>\n",
       "      <td>0</td>\n",
       "      <td>1</td>\n",
       "      <td>0</td>\n",
       "      <td>0</td>\n",
       "      <td>0</td>\n",
       "      <td>0</td>\n",
       "      <td>0</td>\n",
       "      <td>0</td>\n",
       "    </tr>\n",
       "    <tr>\n",
       "      <th>3</th>\n",
       "      <td>34.26</td>\n",
       "      <td>-15.88</td>\n",
       "      <td>0.0</td>\n",
       "      <td>443.392774</td>\n",
       "      <td>0.0</td>\n",
       "      <td>0.0</td>\n",
       "      <td>0.0</td>\n",
       "      <td>14.844025</td>\n",
       "      <td>14.552823</td>\n",
       "      <td>12.237766</td>\n",
       "      <td>...</td>\n",
       "      <td>0</td>\n",
       "      <td>0</td>\n",
       "      <td>0</td>\n",
       "      <td>0</td>\n",
       "      <td>1</td>\n",
       "      <td>0</td>\n",
       "      <td>0</td>\n",
       "      <td>0</td>\n",
       "      <td>0</td>\n",
       "      <td>0</td>\n",
       "    </tr>\n",
       "    <tr>\n",
       "      <th>4</th>\n",
       "      <td>34.26</td>\n",
       "      <td>-15.87</td>\n",
       "      <td>0.0</td>\n",
       "      <td>437.443428</td>\n",
       "      <td>0.0</td>\n",
       "      <td>0.0</td>\n",
       "      <td>0.0</td>\n",
       "      <td>14.844025</td>\n",
       "      <td>14.552823</td>\n",
       "      <td>12.237766</td>\n",
       "      <td>...</td>\n",
       "      <td>0</td>\n",
       "      <td>0</td>\n",
       "      <td>0</td>\n",
       "      <td>0</td>\n",
       "      <td>1</td>\n",
       "      <td>0</td>\n",
       "      <td>0</td>\n",
       "      <td>0</td>\n",
       "      <td>0</td>\n",
       "      <td>0</td>\n",
       "    </tr>\n",
       "  </tbody>\n",
       "</table>\n",
       "<p>5 rows × 57 columns</p>\n",
       "</div>"
      ],
      "text/plain": [
       "       X      Y  target_2015   elevation  precip 2014-11-16 - 2014-11-23  \\\n",
       "0  34.26 -15.91          0.0  887.764222                             0.0   \n",
       "1  34.26 -15.90          0.0  743.403912                             0.0   \n",
       "2  34.26 -15.89          0.0  565.728343                             0.0   \n",
       "3  34.26 -15.88          0.0  443.392774                             0.0   \n",
       "4  34.26 -15.87          0.0  437.443428                             0.0   \n",
       "\n",
       "   precip 2014-11-23 - 2014-11-30  precip 2014-11-30 - 2014-12-07  \\\n",
       "0                             0.0                             0.0   \n",
       "1                             0.0                             0.0   \n",
       "2                             0.0                             0.0   \n",
       "3                             0.0                             0.0   \n",
       "4                             0.0                             0.0   \n",
       "\n",
       "   precip 2014-12-07 - 2014-12-14  precip 2014-12-14 - 2014-12-21  \\\n",
       "0                       14.844025                       14.552823   \n",
       "1                       14.844025                       14.552823   \n",
       "2                       14.844025                       14.552823   \n",
       "3                       14.844025                       14.552823   \n",
       "4                       14.844025                       14.552823   \n",
       "\n",
       "   precip 2014-12-21 - 2014-12-28  ...  landcover_5  landcover_7  landcover_8  \\\n",
       "0                       12.237766  ...            0            0            0   \n",
       "1                       12.237766  ...            0            0            0   \n",
       "2                       12.237766  ...            0            0            0   \n",
       "3                       12.237766  ...            0            0            0   \n",
       "4                       12.237766  ...            0            0            0   \n",
       "\n",
       "   landcover_9  landcover_10  landcover_11  landcover_12  landcover_13  \\\n",
       "0            1             0             0             0             0   \n",
       "1            1             0             0             0             0   \n",
       "2            1             0             0             0             0   \n",
       "3            0             1             0             0             0   \n",
       "4            0             1             0             0             0   \n",
       "\n",
       "   landcover_14  landcover_17  \n",
       "0             0             0  \n",
       "1             0             0  \n",
       "2             0             0  \n",
       "3             0             0  \n",
       "4             0             0  \n",
       "\n",
       "[5 rows x 57 columns]"
      ]
     },
     "execution_count": 46,
     "metadata": {},
     "output_type": "execute_result"
    }
   ],
   "source": [
    "pts_df = pd.concat((pts_df, landcover_dummy), axis=1)\n",
    "pts_df.head()"
   ]
  },
  {
   "cell_type": "code",
   "execution_count": 47,
   "metadata": {
    "ExecuteTime": {
     "end_time": "2020-03-23T04:06:33.560810Z",
     "start_time": "2020-03-23T04:06:33.557270Z"
    }
   },
   "outputs": [
    {
     "data": {
      "text/plain": [
       "(16466, 57)"
      ]
     },
     "execution_count": 47,
     "metadata": {},
     "output_type": "execute_result"
    }
   ],
   "source": [
    "pts_df.shape"
   ]
  },
  {
   "cell_type": "markdown",
   "metadata": {},
   "source": [
    "## Reducing Precip variables"
   ]
  },
  {
   "cell_type": "code",
   "execution_count": 48,
   "metadata": {
    "ExecuteTime": {
     "end_time": "2020-03-23T04:06:42.025146Z",
     "start_time": "2020-03-23T04:06:42.018399Z"
    }
   },
   "outputs": [],
   "source": [
    "# Separating the train and test sets\n",
    "# Creating lists of columns to be used in separating the dataframe into training and testing datasets\n",
    "# Using a for loop for efficiency\n",
    "\n",
    "precip_features_2019 = []\n",
    "precip_features_2015 = []\n",
    "for col in pts_df.columns:\n",
    "    if '2019' in col:\n",
    "        precip_features_2019.append(col)\n",
    "    elif 'precip 2014' in col:\n",
    "        precip_features_2015.append(col)\n",
    "    elif 'precip 2015' in col:\n",
    "        precip_features_2015.append(col)\n",
    "\n",
    "# Separating the train dataset from the main dataframe\n",
    "#train = pts_df[pts_df.columns.difference(precip_features_2019)]"
   ]
  },
  {
   "cell_type": "code",
   "execution_count": 49,
   "metadata": {
    "ExecuteTime": {
     "end_time": "2020-03-23T04:06:43.228305Z",
     "start_time": "2020-03-23T04:06:43.204664Z"
    }
   },
   "outputs": [
    {
     "data": {
      "text/html": [
       "<div>\n",
       "<style scoped>\n",
       "    .dataframe tbody tr th:only-of-type {\n",
       "        vertical-align: middle;\n",
       "    }\n",
       "\n",
       "    .dataframe tbody tr th {\n",
       "        vertical-align: top;\n",
       "    }\n",
       "\n",
       "    .dataframe thead th {\n",
       "        text-align: right;\n",
       "    }\n",
       "</style>\n",
       "<table border=\"1\" class=\"dataframe\">\n",
       "  <thead>\n",
       "    <tr style=\"text-align: right;\">\n",
       "      <th></th>\n",
       "      <th>precip 2014-11-16 - 2014-11-23</th>\n",
       "      <th>precip 2014-11-23 - 2014-11-30</th>\n",
       "      <th>precip 2014-11-30 - 2014-12-07</th>\n",
       "      <th>precip 2014-12-07 - 2014-12-14</th>\n",
       "      <th>precip 2014-12-14 - 2014-12-21</th>\n",
       "      <th>precip 2014-12-21 - 2014-12-28</th>\n",
       "      <th>precip 2014-12-28 - 2015-01-04</th>\n",
       "      <th>precip 2015-01-04 - 2015-01-11</th>\n",
       "      <th>precip 2015-01-11 - 2015-01-18</th>\n",
       "      <th>precip 2015-01-18 - 2015-01-25</th>\n",
       "      <th>precip 2015-01-25 - 2015-02-01</th>\n",
       "      <th>precip 2015-02-01 - 2015-02-08</th>\n",
       "      <th>precip 2015-02-08 - 2015-02-15</th>\n",
       "      <th>precip 2015-02-15 - 2015-02-22</th>\n",
       "      <th>precip 2015-02-22 - 2015-03-01</th>\n",
       "      <th>precip 2015-03-01 - 2015-03-08</th>\n",
       "      <th>precip 2015-03-08 - 2015-03-15</th>\n",
       "    </tr>\n",
       "  </thead>\n",
       "  <tbody>\n",
       "    <tr>\n",
       "      <th>0</th>\n",
       "      <td>0.0</td>\n",
       "      <td>0.0</td>\n",
       "      <td>0.0</td>\n",
       "      <td>14.844025</td>\n",
       "      <td>14.552823</td>\n",
       "      <td>12.237766</td>\n",
       "      <td>57.451361</td>\n",
       "      <td>30.127047</td>\n",
       "      <td>30.449468</td>\n",
       "      <td>1.521829</td>\n",
       "      <td>29.389995</td>\n",
       "      <td>32.878318</td>\n",
       "      <td>8.179804</td>\n",
       "      <td>0.963981</td>\n",
       "      <td>16.659097</td>\n",
       "      <td>3.304466</td>\n",
       "      <td>0.0</td>\n",
       "    </tr>\n",
       "    <tr>\n",
       "      <th>1</th>\n",
       "      <td>0.0</td>\n",
       "      <td>0.0</td>\n",
       "      <td>0.0</td>\n",
       "      <td>14.844025</td>\n",
       "      <td>14.552823</td>\n",
       "      <td>12.237766</td>\n",
       "      <td>57.451361</td>\n",
       "      <td>30.127047</td>\n",
       "      <td>30.449468</td>\n",
       "      <td>1.521829</td>\n",
       "      <td>29.389995</td>\n",
       "      <td>32.878318</td>\n",
       "      <td>8.179804</td>\n",
       "      <td>0.963981</td>\n",
       "      <td>16.659097</td>\n",
       "      <td>3.304466</td>\n",
       "      <td>0.0</td>\n",
       "    </tr>\n",
       "    <tr>\n",
       "      <th>2</th>\n",
       "      <td>0.0</td>\n",
       "      <td>0.0</td>\n",
       "      <td>0.0</td>\n",
       "      <td>14.844025</td>\n",
       "      <td>14.552823</td>\n",
       "      <td>12.237766</td>\n",
       "      <td>57.451361</td>\n",
       "      <td>30.127047</td>\n",
       "      <td>30.449468</td>\n",
       "      <td>1.521829</td>\n",
       "      <td>29.389995</td>\n",
       "      <td>32.878318</td>\n",
       "      <td>8.179804</td>\n",
       "      <td>0.963981</td>\n",
       "      <td>16.659097</td>\n",
       "      <td>3.304466</td>\n",
       "      <td>0.0</td>\n",
       "    </tr>\n",
       "    <tr>\n",
       "      <th>3</th>\n",
       "      <td>0.0</td>\n",
       "      <td>0.0</td>\n",
       "      <td>0.0</td>\n",
       "      <td>14.844025</td>\n",
       "      <td>14.552823</td>\n",
       "      <td>12.237766</td>\n",
       "      <td>57.451361</td>\n",
       "      <td>30.127047</td>\n",
       "      <td>30.449468</td>\n",
       "      <td>1.521829</td>\n",
       "      <td>29.389995</td>\n",
       "      <td>32.878318</td>\n",
       "      <td>8.179804</td>\n",
       "      <td>0.963981</td>\n",
       "      <td>16.659097</td>\n",
       "      <td>3.304466</td>\n",
       "      <td>0.0</td>\n",
       "    </tr>\n",
       "    <tr>\n",
       "      <th>4</th>\n",
       "      <td>0.0</td>\n",
       "      <td>0.0</td>\n",
       "      <td>0.0</td>\n",
       "      <td>14.844025</td>\n",
       "      <td>14.552823</td>\n",
       "      <td>12.237766</td>\n",
       "      <td>57.451361</td>\n",
       "      <td>30.127047</td>\n",
       "      <td>30.449468</td>\n",
       "      <td>1.521829</td>\n",
       "      <td>29.389995</td>\n",
       "      <td>32.878318</td>\n",
       "      <td>8.179804</td>\n",
       "      <td>0.963981</td>\n",
       "      <td>16.659097</td>\n",
       "      <td>3.304466</td>\n",
       "      <td>0.0</td>\n",
       "    </tr>\n",
       "  </tbody>\n",
       "</table>\n",
       "</div>"
      ],
      "text/plain": [
       "   precip 2014-11-16 - 2014-11-23  precip 2014-11-23 - 2014-11-30  \\\n",
       "0                             0.0                             0.0   \n",
       "1                             0.0                             0.0   \n",
       "2                             0.0                             0.0   \n",
       "3                             0.0                             0.0   \n",
       "4                             0.0                             0.0   \n",
       "\n",
       "   precip 2014-11-30 - 2014-12-07  precip 2014-12-07 - 2014-12-14  \\\n",
       "0                             0.0                       14.844025   \n",
       "1                             0.0                       14.844025   \n",
       "2                             0.0                       14.844025   \n",
       "3                             0.0                       14.844025   \n",
       "4                             0.0                       14.844025   \n",
       "\n",
       "   precip 2014-12-14 - 2014-12-21  precip 2014-12-21 - 2014-12-28  \\\n",
       "0                       14.552823                       12.237766   \n",
       "1                       14.552823                       12.237766   \n",
       "2                       14.552823                       12.237766   \n",
       "3                       14.552823                       12.237766   \n",
       "4                       14.552823                       12.237766   \n",
       "\n",
       "   precip 2014-12-28 - 2015-01-04  precip 2015-01-04 - 2015-01-11  \\\n",
       "0                       57.451361                       30.127047   \n",
       "1                       57.451361                       30.127047   \n",
       "2                       57.451361                       30.127047   \n",
       "3                       57.451361                       30.127047   \n",
       "4                       57.451361                       30.127047   \n",
       "\n",
       "   precip 2015-01-11 - 2015-01-18  precip 2015-01-18 - 2015-01-25  \\\n",
       "0                       30.449468                        1.521829   \n",
       "1                       30.449468                        1.521829   \n",
       "2                       30.449468                        1.521829   \n",
       "3                       30.449468                        1.521829   \n",
       "4                       30.449468                        1.521829   \n",
       "\n",
       "   precip 2015-01-25 - 2015-02-01  precip 2015-02-01 - 2015-02-08  \\\n",
       "0                       29.389995                       32.878318   \n",
       "1                       29.389995                       32.878318   \n",
       "2                       29.389995                       32.878318   \n",
       "3                       29.389995                       32.878318   \n",
       "4                       29.389995                       32.878318   \n",
       "\n",
       "   precip 2015-02-08 - 2015-02-15  precip 2015-02-15 - 2015-02-22  \\\n",
       "0                        8.179804                        0.963981   \n",
       "1                        8.179804                        0.963981   \n",
       "2                        8.179804                        0.963981   \n",
       "3                        8.179804                        0.963981   \n",
       "4                        8.179804                        0.963981   \n",
       "\n",
       "   precip 2015-02-22 - 2015-03-01  precip 2015-03-01 - 2015-03-08  \\\n",
       "0                       16.659097                        3.304466   \n",
       "1                       16.659097                        3.304466   \n",
       "2                       16.659097                        3.304466   \n",
       "3                       16.659097                        3.304466   \n",
       "4                       16.659097                        3.304466   \n",
       "\n",
       "   precip 2015-03-08 - 2015-03-15  \n",
       "0                             0.0  \n",
       "1                             0.0  \n",
       "2                             0.0  \n",
       "3                             0.0  \n",
       "4                             0.0  "
      ]
     },
     "execution_count": 49,
     "metadata": {},
     "output_type": "execute_result"
    }
   ],
   "source": [
    "# Calculate total precip and standard deviation across weeks\n",
    "precip_2015 = pts_df[precip_features_2015]\n",
    "precip_2015.head()"
   ]
  },
  {
   "cell_type": "code",
   "execution_count": 50,
   "metadata": {
    "ExecuteTime": {
     "end_time": "2020-03-23T04:06:46.639826Z",
     "start_time": "2020-03-23T04:06:46.613113Z"
    }
   },
   "outputs": [
    {
     "data": {
      "text/html": [
       "<div>\n",
       "<style scoped>\n",
       "    .dataframe tbody tr th:only-of-type {\n",
       "        vertical-align: middle;\n",
       "    }\n",
       "\n",
       "    .dataframe tbody tr th {\n",
       "        vertical-align: top;\n",
       "    }\n",
       "\n",
       "    .dataframe thead th {\n",
       "        text-align: right;\n",
       "    }\n",
       "</style>\n",
       "<table border=\"1\" class=\"dataframe\">\n",
       "  <thead>\n",
       "    <tr style=\"text-align: right;\">\n",
       "      <th></th>\n",
       "      <th>precip 2014-11-16 - 2014-11-23</th>\n",
       "      <th>precip 2014-11-23 - 2014-11-30</th>\n",
       "      <th>precip 2014-11-30 - 2014-12-07</th>\n",
       "      <th>precip 2014-12-07 - 2014-12-14</th>\n",
       "      <th>precip 2014-12-14 - 2014-12-21</th>\n",
       "      <th>precip 2014-12-21 - 2014-12-28</th>\n",
       "      <th>precip 2014-12-28 - 2015-01-04</th>\n",
       "      <th>precip 2015-01-04 - 2015-01-11</th>\n",
       "      <th>precip 2015-01-11 - 2015-01-18</th>\n",
       "      <th>precip 2015-01-18 - 2015-01-25</th>\n",
       "      <th>precip 2015-01-25 - 2015-02-01</th>\n",
       "      <th>precip 2015-02-01 - 2015-02-08</th>\n",
       "      <th>precip 2015-02-08 - 2015-02-15</th>\n",
       "      <th>precip 2015-02-15 - 2015-02-22</th>\n",
       "      <th>precip 2015-02-22 - 2015-03-01</th>\n",
       "      <th>precip 2015-03-01 - 2015-03-08</th>\n",
       "      <th>precip 2015-03-08 - 2015-03-15</th>\n",
       "    </tr>\n",
       "  </thead>\n",
       "  <tbody>\n",
       "    <tr>\n",
       "      <th>0</th>\n",
       "      <td>0.0</td>\n",
       "      <td>0.0</td>\n",
       "      <td>0.0</td>\n",
       "      <td>14.844025</td>\n",
       "      <td>29.396848</td>\n",
       "      <td>41.634615</td>\n",
       "      <td>99.085975</td>\n",
       "      <td>129.213023</td>\n",
       "      <td>159.66249</td>\n",
       "      <td>161.184319</td>\n",
       "      <td>190.574314</td>\n",
       "      <td>223.452632</td>\n",
       "      <td>231.632436</td>\n",
       "      <td>232.596418</td>\n",
       "      <td>249.255514</td>\n",
       "      <td>252.55998</td>\n",
       "      <td>252.55998</td>\n",
       "    </tr>\n",
       "    <tr>\n",
       "      <th>1</th>\n",
       "      <td>0.0</td>\n",
       "      <td>0.0</td>\n",
       "      <td>0.0</td>\n",
       "      <td>14.844025</td>\n",
       "      <td>29.396848</td>\n",
       "      <td>41.634615</td>\n",
       "      <td>99.085975</td>\n",
       "      <td>129.213023</td>\n",
       "      <td>159.66249</td>\n",
       "      <td>161.184319</td>\n",
       "      <td>190.574314</td>\n",
       "      <td>223.452632</td>\n",
       "      <td>231.632436</td>\n",
       "      <td>232.596418</td>\n",
       "      <td>249.255514</td>\n",
       "      <td>252.55998</td>\n",
       "      <td>252.55998</td>\n",
       "    </tr>\n",
       "    <tr>\n",
       "      <th>2</th>\n",
       "      <td>0.0</td>\n",
       "      <td>0.0</td>\n",
       "      <td>0.0</td>\n",
       "      <td>14.844025</td>\n",
       "      <td>29.396848</td>\n",
       "      <td>41.634615</td>\n",
       "      <td>99.085975</td>\n",
       "      <td>129.213023</td>\n",
       "      <td>159.66249</td>\n",
       "      <td>161.184319</td>\n",
       "      <td>190.574314</td>\n",
       "      <td>223.452632</td>\n",
       "      <td>231.632436</td>\n",
       "      <td>232.596418</td>\n",
       "      <td>249.255514</td>\n",
       "      <td>252.55998</td>\n",
       "      <td>252.55998</td>\n",
       "    </tr>\n",
       "    <tr>\n",
       "      <th>3</th>\n",
       "      <td>0.0</td>\n",
       "      <td>0.0</td>\n",
       "      <td>0.0</td>\n",
       "      <td>14.844025</td>\n",
       "      <td>29.396848</td>\n",
       "      <td>41.634615</td>\n",
       "      <td>99.085975</td>\n",
       "      <td>129.213023</td>\n",
       "      <td>159.66249</td>\n",
       "      <td>161.184319</td>\n",
       "      <td>190.574314</td>\n",
       "      <td>223.452632</td>\n",
       "      <td>231.632436</td>\n",
       "      <td>232.596418</td>\n",
       "      <td>249.255514</td>\n",
       "      <td>252.55998</td>\n",
       "      <td>252.55998</td>\n",
       "    </tr>\n",
       "    <tr>\n",
       "      <th>4</th>\n",
       "      <td>0.0</td>\n",
       "      <td>0.0</td>\n",
       "      <td>0.0</td>\n",
       "      <td>14.844025</td>\n",
       "      <td>29.396848</td>\n",
       "      <td>41.634615</td>\n",
       "      <td>99.085975</td>\n",
       "      <td>129.213023</td>\n",
       "      <td>159.66249</td>\n",
       "      <td>161.184319</td>\n",
       "      <td>190.574314</td>\n",
       "      <td>223.452632</td>\n",
       "      <td>231.632436</td>\n",
       "      <td>232.596418</td>\n",
       "      <td>249.255514</td>\n",
       "      <td>252.55998</td>\n",
       "      <td>252.55998</td>\n",
       "    </tr>\n",
       "    <tr>\n",
       "      <th>...</th>\n",
       "      <td>...</td>\n",
       "      <td>...</td>\n",
       "      <td>...</td>\n",
       "      <td>...</td>\n",
       "      <td>...</td>\n",
       "      <td>...</td>\n",
       "      <td>...</td>\n",
       "      <td>...</td>\n",
       "      <td>...</td>\n",
       "      <td>...</td>\n",
       "      <td>...</td>\n",
       "      <td>...</td>\n",
       "      <td>...</td>\n",
       "      <td>...</td>\n",
       "      <td>...</td>\n",
       "      <td>...</td>\n",
       "      <td>...</td>\n",
       "    </tr>\n",
       "    <tr>\n",
       "      <th>16461</th>\n",
       "      <td>NaN</td>\n",
       "      <td>NaN</td>\n",
       "      <td>NaN</td>\n",
       "      <td>NaN</td>\n",
       "      <td>NaN</td>\n",
       "      <td>NaN</td>\n",
       "      <td>NaN</td>\n",
       "      <td>NaN</td>\n",
       "      <td>NaN</td>\n",
       "      <td>NaN</td>\n",
       "      <td>NaN</td>\n",
       "      <td>NaN</td>\n",
       "      <td>NaN</td>\n",
       "      <td>NaN</td>\n",
       "      <td>NaN</td>\n",
       "      <td>NaN</td>\n",
       "      <td>NaN</td>\n",
       "    </tr>\n",
       "    <tr>\n",
       "      <th>16462</th>\n",
       "      <td>NaN</td>\n",
       "      <td>NaN</td>\n",
       "      <td>NaN</td>\n",
       "      <td>NaN</td>\n",
       "      <td>NaN</td>\n",
       "      <td>NaN</td>\n",
       "      <td>NaN</td>\n",
       "      <td>NaN</td>\n",
       "      <td>NaN</td>\n",
       "      <td>NaN</td>\n",
       "      <td>NaN</td>\n",
       "      <td>NaN</td>\n",
       "      <td>NaN</td>\n",
       "      <td>NaN</td>\n",
       "      <td>NaN</td>\n",
       "      <td>NaN</td>\n",
       "      <td>NaN</td>\n",
       "    </tr>\n",
       "    <tr>\n",
       "      <th>16463</th>\n",
       "      <td>NaN</td>\n",
       "      <td>NaN</td>\n",
       "      <td>NaN</td>\n",
       "      <td>NaN</td>\n",
       "      <td>NaN</td>\n",
       "      <td>NaN</td>\n",
       "      <td>NaN</td>\n",
       "      <td>NaN</td>\n",
       "      <td>NaN</td>\n",
       "      <td>NaN</td>\n",
       "      <td>NaN</td>\n",
       "      <td>NaN</td>\n",
       "      <td>NaN</td>\n",
       "      <td>NaN</td>\n",
       "      <td>NaN</td>\n",
       "      <td>NaN</td>\n",
       "      <td>NaN</td>\n",
       "    </tr>\n",
       "    <tr>\n",
       "      <th>16464</th>\n",
       "      <td>NaN</td>\n",
       "      <td>NaN</td>\n",
       "      <td>NaN</td>\n",
       "      <td>NaN</td>\n",
       "      <td>NaN</td>\n",
       "      <td>NaN</td>\n",
       "      <td>NaN</td>\n",
       "      <td>NaN</td>\n",
       "      <td>NaN</td>\n",
       "      <td>NaN</td>\n",
       "      <td>NaN</td>\n",
       "      <td>NaN</td>\n",
       "      <td>NaN</td>\n",
       "      <td>NaN</td>\n",
       "      <td>NaN</td>\n",
       "      <td>NaN</td>\n",
       "      <td>NaN</td>\n",
       "    </tr>\n",
       "    <tr>\n",
       "      <th>16465</th>\n",
       "      <td>NaN</td>\n",
       "      <td>NaN</td>\n",
       "      <td>NaN</td>\n",
       "      <td>NaN</td>\n",
       "      <td>NaN</td>\n",
       "      <td>NaN</td>\n",
       "      <td>NaN</td>\n",
       "      <td>NaN</td>\n",
       "      <td>NaN</td>\n",
       "      <td>NaN</td>\n",
       "      <td>NaN</td>\n",
       "      <td>NaN</td>\n",
       "      <td>NaN</td>\n",
       "      <td>NaN</td>\n",
       "      <td>NaN</td>\n",
       "      <td>NaN</td>\n",
       "      <td>NaN</td>\n",
       "    </tr>\n",
       "  </tbody>\n",
       "</table>\n",
       "<p>16466 rows × 17 columns</p>\n",
       "</div>"
      ],
      "text/plain": [
       "       precip 2014-11-16 - 2014-11-23  precip 2014-11-23 - 2014-11-30  \\\n",
       "0                                 0.0                             0.0   \n",
       "1                                 0.0                             0.0   \n",
       "2                                 0.0                             0.0   \n",
       "3                                 0.0                             0.0   \n",
       "4                                 0.0                             0.0   \n",
       "...                               ...                             ...   \n",
       "16461                             NaN                             NaN   \n",
       "16462                             NaN                             NaN   \n",
       "16463                             NaN                             NaN   \n",
       "16464                             NaN                             NaN   \n",
       "16465                             NaN                             NaN   \n",
       "\n",
       "       precip 2014-11-30 - 2014-12-07  precip 2014-12-07 - 2014-12-14  \\\n",
       "0                                 0.0                       14.844025   \n",
       "1                                 0.0                       14.844025   \n",
       "2                                 0.0                       14.844025   \n",
       "3                                 0.0                       14.844025   \n",
       "4                                 0.0                       14.844025   \n",
       "...                               ...                             ...   \n",
       "16461                             NaN                             NaN   \n",
       "16462                             NaN                             NaN   \n",
       "16463                             NaN                             NaN   \n",
       "16464                             NaN                             NaN   \n",
       "16465                             NaN                             NaN   \n",
       "\n",
       "       precip 2014-12-14 - 2014-12-21  precip 2014-12-21 - 2014-12-28  \\\n",
       "0                           29.396848                       41.634615   \n",
       "1                           29.396848                       41.634615   \n",
       "2                           29.396848                       41.634615   \n",
       "3                           29.396848                       41.634615   \n",
       "4                           29.396848                       41.634615   \n",
       "...                               ...                             ...   \n",
       "16461                             NaN                             NaN   \n",
       "16462                             NaN                             NaN   \n",
       "16463                             NaN                             NaN   \n",
       "16464                             NaN                             NaN   \n",
       "16465                             NaN                             NaN   \n",
       "\n",
       "       precip 2014-12-28 - 2015-01-04  precip 2015-01-04 - 2015-01-11  \\\n",
       "0                           99.085975                      129.213023   \n",
       "1                           99.085975                      129.213023   \n",
       "2                           99.085975                      129.213023   \n",
       "3                           99.085975                      129.213023   \n",
       "4                           99.085975                      129.213023   \n",
       "...                               ...                             ...   \n",
       "16461                             NaN                             NaN   \n",
       "16462                             NaN                             NaN   \n",
       "16463                             NaN                             NaN   \n",
       "16464                             NaN                             NaN   \n",
       "16465                             NaN                             NaN   \n",
       "\n",
       "       precip 2015-01-11 - 2015-01-18  precip 2015-01-18 - 2015-01-25  \\\n",
       "0                           159.66249                      161.184319   \n",
       "1                           159.66249                      161.184319   \n",
       "2                           159.66249                      161.184319   \n",
       "3                           159.66249                      161.184319   \n",
       "4                           159.66249                      161.184319   \n",
       "...                               ...                             ...   \n",
       "16461                             NaN                             NaN   \n",
       "16462                             NaN                             NaN   \n",
       "16463                             NaN                             NaN   \n",
       "16464                             NaN                             NaN   \n",
       "16465                             NaN                             NaN   \n",
       "\n",
       "       precip 2015-01-25 - 2015-02-01  precip 2015-02-01 - 2015-02-08  \\\n",
       "0                          190.574314                      223.452632   \n",
       "1                          190.574314                      223.452632   \n",
       "2                          190.574314                      223.452632   \n",
       "3                          190.574314                      223.452632   \n",
       "4                          190.574314                      223.452632   \n",
       "...                               ...                             ...   \n",
       "16461                             NaN                             NaN   \n",
       "16462                             NaN                             NaN   \n",
       "16463                             NaN                             NaN   \n",
       "16464                             NaN                             NaN   \n",
       "16465                             NaN                             NaN   \n",
       "\n",
       "       precip 2015-02-08 - 2015-02-15  precip 2015-02-15 - 2015-02-22  \\\n",
       "0                          231.632436                      232.596418   \n",
       "1                          231.632436                      232.596418   \n",
       "2                          231.632436                      232.596418   \n",
       "3                          231.632436                      232.596418   \n",
       "4                          231.632436                      232.596418   \n",
       "...                               ...                             ...   \n",
       "16461                             NaN                             NaN   \n",
       "16462                             NaN                             NaN   \n",
       "16463                             NaN                             NaN   \n",
       "16464                             NaN                             NaN   \n",
       "16465                             NaN                             NaN   \n",
       "\n",
       "       precip 2015-02-22 - 2015-03-01  precip 2015-03-01 - 2015-03-08  \\\n",
       "0                          249.255514                       252.55998   \n",
       "1                          249.255514                       252.55998   \n",
       "2                          249.255514                       252.55998   \n",
       "3                          249.255514                       252.55998   \n",
       "4                          249.255514                       252.55998   \n",
       "...                               ...                             ...   \n",
       "16461                             NaN                             NaN   \n",
       "16462                             NaN                             NaN   \n",
       "16463                             NaN                             NaN   \n",
       "16464                             NaN                             NaN   \n",
       "16465                             NaN                             NaN   \n",
       "\n",
       "       precip 2015-03-08 - 2015-03-15  \n",
       "0                           252.55998  \n",
       "1                           252.55998  \n",
       "2                           252.55998  \n",
       "3                           252.55998  \n",
       "4                           252.55998  \n",
       "...                               ...  \n",
       "16461                             NaN  \n",
       "16462                             NaN  \n",
       "16463                             NaN  \n",
       "16464                             NaN  \n",
       "16465                             NaN  \n",
       "\n",
       "[16466 rows x 17 columns]"
      ]
     },
     "execution_count": 50,
     "metadata": {},
     "output_type": "execute_result"
    }
   ],
   "source": [
    "precip_total_2015 = precip_2015.cumsum(axis=1)\n",
    "precip_total_2015"
   ]
  },
  {
   "cell_type": "code",
   "execution_count": 51,
   "metadata": {
    "ExecuteTime": {
     "end_time": "2020-03-23T04:06:49.293704Z",
     "start_time": "2020-03-23T04:06:49.235727Z"
    }
   },
   "outputs": [
    {
     "data": {
      "text/html": [
       "<div>\n",
       "<style scoped>\n",
       "    .dataframe tbody tr th:only-of-type {\n",
       "        vertical-align: middle;\n",
       "    }\n",
       "\n",
       "    .dataframe tbody tr th {\n",
       "        vertical-align: top;\n",
       "    }\n",
       "\n",
       "    .dataframe thead th {\n",
       "        text-align: right;\n",
       "    }\n",
       "</style>\n",
       "<table border=\"1\" class=\"dataframe\">\n",
       "  <thead>\n",
       "    <tr style=\"text-align: right;\">\n",
       "      <th></th>\n",
       "      <th>intensity_week1</th>\n",
       "      <th>intensity_week2</th>\n",
       "      <th>intensity_week3</th>\n",
       "      <th>intensity_week4</th>\n",
       "      <th>intensity_week5</th>\n",
       "      <th>intensity_week6</th>\n",
       "      <th>intensity_week7</th>\n",
       "      <th>intensity_week8</th>\n",
       "      <th>intensity_week9</th>\n",
       "      <th>intensity_week10</th>\n",
       "      <th>intensity_week11</th>\n",
       "      <th>intensity_week12</th>\n",
       "      <th>intensity_week13</th>\n",
       "      <th>intensity_week14</th>\n",
       "      <th>intensity_week15</th>\n",
       "      <th>intensity_week16</th>\n",
       "    </tr>\n",
       "  </thead>\n",
       "  <tbody>\n",
       "    <tr>\n",
       "      <th>0</th>\n",
       "      <td>0.0</td>\n",
       "      <td>0.0</td>\n",
       "      <td>0.0</td>\n",
       "      <td>3.711006</td>\n",
       "      <td>5.87937</td>\n",
       "      <td>6.939102</td>\n",
       "      <td>14.155139</td>\n",
       "      <td>16.151628</td>\n",
       "      <td>17.740277</td>\n",
       "      <td>16.118432</td>\n",
       "      <td>17.324938</td>\n",
       "      <td>18.621053</td>\n",
       "      <td>17.81788</td>\n",
       "      <td>16.61403</td>\n",
       "      <td>16.617034</td>\n",
       "      <td>15.784999</td>\n",
       "    </tr>\n",
       "    <tr>\n",
       "      <th>1</th>\n",
       "      <td>0.0</td>\n",
       "      <td>0.0</td>\n",
       "      <td>0.0</td>\n",
       "      <td>3.711006</td>\n",
       "      <td>5.87937</td>\n",
       "      <td>6.939102</td>\n",
       "      <td>14.155139</td>\n",
       "      <td>16.151628</td>\n",
       "      <td>17.740277</td>\n",
       "      <td>16.118432</td>\n",
       "      <td>17.324938</td>\n",
       "      <td>18.621053</td>\n",
       "      <td>17.81788</td>\n",
       "      <td>16.61403</td>\n",
       "      <td>16.617034</td>\n",
       "      <td>15.784999</td>\n",
       "    </tr>\n",
       "    <tr>\n",
       "      <th>2</th>\n",
       "      <td>0.0</td>\n",
       "      <td>0.0</td>\n",
       "      <td>0.0</td>\n",
       "      <td>3.711006</td>\n",
       "      <td>5.87937</td>\n",
       "      <td>6.939102</td>\n",
       "      <td>14.155139</td>\n",
       "      <td>16.151628</td>\n",
       "      <td>17.740277</td>\n",
       "      <td>16.118432</td>\n",
       "      <td>17.324938</td>\n",
       "      <td>18.621053</td>\n",
       "      <td>17.81788</td>\n",
       "      <td>16.61403</td>\n",
       "      <td>16.617034</td>\n",
       "      <td>15.784999</td>\n",
       "    </tr>\n",
       "    <tr>\n",
       "      <th>3</th>\n",
       "      <td>0.0</td>\n",
       "      <td>0.0</td>\n",
       "      <td>0.0</td>\n",
       "      <td>3.711006</td>\n",
       "      <td>5.87937</td>\n",
       "      <td>6.939102</td>\n",
       "      <td>14.155139</td>\n",
       "      <td>16.151628</td>\n",
       "      <td>17.740277</td>\n",
       "      <td>16.118432</td>\n",
       "      <td>17.324938</td>\n",
       "      <td>18.621053</td>\n",
       "      <td>17.81788</td>\n",
       "      <td>16.61403</td>\n",
       "      <td>16.617034</td>\n",
       "      <td>15.784999</td>\n",
       "    </tr>\n",
       "    <tr>\n",
       "      <th>4</th>\n",
       "      <td>0.0</td>\n",
       "      <td>0.0</td>\n",
       "      <td>0.0</td>\n",
       "      <td>3.711006</td>\n",
       "      <td>5.87937</td>\n",
       "      <td>6.939102</td>\n",
       "      <td>14.155139</td>\n",
       "      <td>16.151628</td>\n",
       "      <td>17.740277</td>\n",
       "      <td>16.118432</td>\n",
       "      <td>17.324938</td>\n",
       "      <td>18.621053</td>\n",
       "      <td>17.81788</td>\n",
       "      <td>16.61403</td>\n",
       "      <td>16.617034</td>\n",
       "      <td>15.784999</td>\n",
       "    </tr>\n",
       "  </tbody>\n",
       "</table>\n",
       "</div>"
      ],
      "text/plain": [
       "   intensity_week1  intensity_week2  intensity_week3  intensity_week4  \\\n",
       "0              0.0              0.0              0.0         3.711006   \n",
       "1              0.0              0.0              0.0         3.711006   \n",
       "2              0.0              0.0              0.0         3.711006   \n",
       "3              0.0              0.0              0.0         3.711006   \n",
       "4              0.0              0.0              0.0         3.711006   \n",
       "\n",
       "   intensity_week5  intensity_week6  intensity_week7  intensity_week8  \\\n",
       "0          5.87937         6.939102        14.155139        16.151628   \n",
       "1          5.87937         6.939102        14.155139        16.151628   \n",
       "2          5.87937         6.939102        14.155139        16.151628   \n",
       "3          5.87937         6.939102        14.155139        16.151628   \n",
       "4          5.87937         6.939102        14.155139        16.151628   \n",
       "\n",
       "   intensity_week9  intensity_week10  intensity_week11  intensity_week12  \\\n",
       "0        17.740277         16.118432         17.324938         18.621053   \n",
       "1        17.740277         16.118432         17.324938         18.621053   \n",
       "2        17.740277         16.118432         17.324938         18.621053   \n",
       "3        17.740277         16.118432         17.324938         18.621053   \n",
       "4        17.740277         16.118432         17.324938         18.621053   \n",
       "\n",
       "   intensity_week13  intensity_week14  intensity_week15  intensity_week16  \n",
       "0          17.81788          16.61403         16.617034         15.784999  \n",
       "1          17.81788          16.61403         16.617034         15.784999  \n",
       "2          17.81788          16.61403         16.617034         15.784999  \n",
       "3          17.81788          16.61403         16.617034         15.784999  \n",
       "4          17.81788          16.61403         16.617034         15.784999  "
      ]
     },
     "execution_count": 51,
     "metadata": {},
     "output_type": "execute_result"
    }
   ],
   "source": [
    "# Rain intensity\n",
    "precip_intensity = pd.DataFrame(index=precip_total_2015.index)\n",
    "\n",
    "for i in range(1,17):\n",
    "    column = precip_total_2015.columns[i-1]\n",
    "    intensity = precip_total_2015[column]/i\n",
    "    intensity = intensity.to_frame(name='intensity_week' + str(i))\n",
    "    precip_intensity  = precip_intensity.join(intensity)\n",
    "\n",
    "precip_intensity.head()"
   ]
  },
  {
   "cell_type": "code",
   "execution_count": 52,
   "metadata": {
    "ExecuteTime": {
     "end_time": "2020-03-23T04:06:50.368932Z",
     "start_time": "2020-03-23T04:06:50.318003Z"
    }
   },
   "outputs": [
    {
     "data": {
      "text/html": [
       "<div>\n",
       "<style scoped>\n",
       "    .dataframe tbody tr th:only-of-type {\n",
       "        vertical-align: middle;\n",
       "    }\n",
       "\n",
       "    .dataframe tbody tr th {\n",
       "        vertical-align: top;\n",
       "    }\n",
       "\n",
       "    .dataframe thead th {\n",
       "        text-align: right;\n",
       "    }\n",
       "</style>\n",
       "<table border=\"1\" class=\"dataframe\">\n",
       "  <thead>\n",
       "    <tr style=\"text-align: right;\">\n",
       "      <th></th>\n",
       "      <th>intensity_week1</th>\n",
       "      <th>intensity_week2</th>\n",
       "      <th>intensity_week3</th>\n",
       "      <th>intensity_week4</th>\n",
       "      <th>intensity_week5</th>\n",
       "      <th>intensity_week6</th>\n",
       "      <th>intensity_week7</th>\n",
       "      <th>intensity_week8</th>\n",
       "      <th>intensity_week9</th>\n",
       "      <th>intensity_week10</th>\n",
       "      <th>intensity_week11</th>\n",
       "      <th>intensity_week12</th>\n",
       "      <th>intensity_week13</th>\n",
       "      <th>intensity_week14</th>\n",
       "      <th>intensity_week15</th>\n",
       "      <th>intensity_week16</th>\n",
       "    </tr>\n",
       "  </thead>\n",
       "  <tbody>\n",
       "    <tr>\n",
       "      <th>0</th>\n",
       "      <td>12.99262</td>\n",
       "      <td>8.787738</td>\n",
       "      <td>17.537669</td>\n",
       "      <td>14.352255</td>\n",
       "      <td>17.098467</td>\n",
       "      <td>14.248722</td>\n",
       "      <td>20.550684</td>\n",
       "      <td>20.264935</td>\n",
       "      <td>19.961885</td>\n",
       "      <td>18.055329</td>\n",
       "      <td>16.566663</td>\n",
       "      <td>15.186108</td>\n",
       "      <td>14.017946</td>\n",
       "      <td>13.016664</td>\n",
       "      <td>12.148886</td>\n",
       "      <td>11.389581</td>\n",
       "    </tr>\n",
       "    <tr>\n",
       "      <th>1</th>\n",
       "      <td>12.99262</td>\n",
       "      <td>8.787738</td>\n",
       "      <td>17.537669</td>\n",
       "      <td>14.352255</td>\n",
       "      <td>17.098467</td>\n",
       "      <td>14.248722</td>\n",
       "      <td>20.550684</td>\n",
       "      <td>20.264935</td>\n",
       "      <td>19.961885</td>\n",
       "      <td>18.055329</td>\n",
       "      <td>16.566663</td>\n",
       "      <td>15.186108</td>\n",
       "      <td>14.017946</td>\n",
       "      <td>13.016664</td>\n",
       "      <td>12.148886</td>\n",
       "      <td>11.389581</td>\n",
       "    </tr>\n",
       "    <tr>\n",
       "      <th>2</th>\n",
       "      <td>12.99262</td>\n",
       "      <td>8.787738</td>\n",
       "      <td>17.537669</td>\n",
       "      <td>14.352255</td>\n",
       "      <td>17.098467</td>\n",
       "      <td>14.248722</td>\n",
       "      <td>20.550684</td>\n",
       "      <td>20.264935</td>\n",
       "      <td>19.961885</td>\n",
       "      <td>18.055329</td>\n",
       "      <td>16.566663</td>\n",
       "      <td>15.186108</td>\n",
       "      <td>14.017946</td>\n",
       "      <td>13.016664</td>\n",
       "      <td>12.148886</td>\n",
       "      <td>11.389581</td>\n",
       "    </tr>\n",
       "    <tr>\n",
       "      <th>3</th>\n",
       "      <td>12.99262</td>\n",
       "      <td>8.787738</td>\n",
       "      <td>17.537669</td>\n",
       "      <td>14.352255</td>\n",
       "      <td>17.098467</td>\n",
       "      <td>14.248722</td>\n",
       "      <td>20.550684</td>\n",
       "      <td>20.264935</td>\n",
       "      <td>19.961885</td>\n",
       "      <td>18.055329</td>\n",
       "      <td>16.566663</td>\n",
       "      <td>15.186108</td>\n",
       "      <td>14.017946</td>\n",
       "      <td>13.016664</td>\n",
       "      <td>12.148886</td>\n",
       "      <td>11.389581</td>\n",
       "    </tr>\n",
       "    <tr>\n",
       "      <th>4</th>\n",
       "      <td>12.99262</td>\n",
       "      <td>8.787738</td>\n",
       "      <td>17.537669</td>\n",
       "      <td>14.352255</td>\n",
       "      <td>17.098467</td>\n",
       "      <td>14.248722</td>\n",
       "      <td>20.550684</td>\n",
       "      <td>20.264935</td>\n",
       "      <td>19.961885</td>\n",
       "      <td>18.055329</td>\n",
       "      <td>16.566663</td>\n",
       "      <td>15.186108</td>\n",
       "      <td>14.017946</td>\n",
       "      <td>13.016664</td>\n",
       "      <td>12.148886</td>\n",
       "      <td>11.389581</td>\n",
       "    </tr>\n",
       "  </tbody>\n",
       "</table>\n",
       "</div>"
      ],
      "text/plain": [
       "   intensity_week1  intensity_week2  intensity_week3  intensity_week4  \\\n",
       "0         12.99262         8.787738        17.537669        14.352255   \n",
       "1         12.99262         8.787738        17.537669        14.352255   \n",
       "2         12.99262         8.787738        17.537669        14.352255   \n",
       "3         12.99262         8.787738        17.537669        14.352255   \n",
       "4         12.99262         8.787738        17.537669        14.352255   \n",
       "\n",
       "   intensity_week5  intensity_week6  intensity_week7  intensity_week8  \\\n",
       "0        17.098467        14.248722        20.550684        20.264935   \n",
       "1        17.098467        14.248722        20.550684        20.264935   \n",
       "2        17.098467        14.248722        20.550684        20.264935   \n",
       "3        17.098467        14.248722        20.550684        20.264935   \n",
       "4        17.098467        14.248722        20.550684        20.264935   \n",
       "\n",
       "   intensity_week9  intensity_week10  intensity_week11  intensity_week12  \\\n",
       "0        19.961885         18.055329         16.566663         15.186108   \n",
       "1        19.961885         18.055329         16.566663         15.186108   \n",
       "2        19.961885         18.055329         16.566663         15.186108   \n",
       "3        19.961885         18.055329         16.566663         15.186108   \n",
       "4        19.961885         18.055329         16.566663         15.186108   \n",
       "\n",
       "   intensity_week13  intensity_week14  intensity_week15  intensity_week16  \n",
       "0         14.017946         13.016664         12.148886         11.389581  \n",
       "1         14.017946         13.016664         12.148886         11.389581  \n",
       "2         14.017946         13.016664         12.148886         11.389581  \n",
       "3         14.017946         13.016664         12.148886         11.389581  \n",
       "4         14.017946         13.016664         12.148886         11.389581  "
      ]
     },
     "execution_count": 52,
     "metadata": {},
     "output_type": "execute_result"
    }
   ],
   "source": [
    "# Cacluate rain intensity for 2019 precip as well\n",
    "precip_2019 = pts_df[precip_features_2019]\n",
    "precip_total_2019 = precip_2019.cumsum(axis=1)\n",
    "\n",
    "precip_intensity_2019 = pd.DataFrame(index=precip_total_2019.index)\n",
    "\n",
    "for i in range(1,17):\n",
    "    column = precip_total_2019.columns[i-1]\n",
    "    intensity = precip_total_2019[column]/i\n",
    "    intensity = intensity.to_frame(name='intensity_week' + str(i))\n",
    "    precip_intensity_2019 = precip_intensity_2019.join(intensity)\n",
    "\n",
    "precip_intensity_2019.head()"
   ]
  },
  {
   "cell_type": "code",
   "execution_count": 53,
   "metadata": {
    "ExecuteTime": {
     "end_time": "2020-03-23T04:06:52.128116Z",
     "start_time": "2020-03-23T04:06:52.117268Z"
    }
   },
   "outputs": [],
   "source": [
    "# Remove weekly precip from training dataframe\n",
    "train = pts_df[pts_df.columns.difference(precip_features_2019)]\n",
    "train = train.drop(columns=list(precip_features_2015))"
   ]
  },
  {
   "cell_type": "code",
   "execution_count": 54,
   "metadata": {
    "ExecuteTime": {
     "end_time": "2020-03-23T04:06:52.882753Z",
     "start_time": "2020-03-23T04:06:52.876062Z"
    }
   },
   "outputs": [],
   "source": [
    "# Attach intensity to training dataframe\n",
    "train = train.join(precip_intensity)"
   ]
  },
  {
   "cell_type": "code",
   "execution_count": 55,
   "metadata": {
    "ExecuteTime": {
     "end_time": "2020-03-23T04:07:02.650473Z",
     "start_time": "2020-03-23T04:06:53.505041Z"
    }
   },
   "outputs": [],
   "source": [
    "# Save data\n",
    "train.to_csv('data/final_train_data/train.csv', index=False)\n",
    "\n",
    "train_geo = gpd.GeoDataFrame(train, geometry = gpd.points_from_xy(df.X, df.Y))\n",
    "train_geo.to_file(\"data/from_zindi/points_train.shp\")"
   ]
  },
  {
   "cell_type": "code",
   "execution_count": 56,
   "metadata": {
    "ExecuteTime": {
     "end_time": "2020-03-23T04:07:03.283154Z",
     "start_time": "2020-03-23T04:07:02.652295Z"
    }
   },
   "outputs": [],
   "source": [
    "# Save train version with weekly precip to see if it makes a difference\n",
    "train2 = pts_df[pts_df.columns.difference(precip_features_2019)]\n",
    "train2.to_csv('data/final_train_data/train_weekly_precip.csv', index=False)"
   ]
  },
  {
   "cell_type": "code",
   "execution_count": 57,
   "metadata": {
    "ExecuteTime": {
     "end_time": "2020-03-23T04:07:03.977590Z",
     "start_time": "2020-03-23T04:07:03.285438Z"
    }
   },
   "outputs": [],
   "source": [
    "# Save train with cumsum version instead of intensity\n",
    "train3 = pts_df[pts_df.columns.difference(precip_features_2019)]\n",
    "train3 = train3.drop(columns=list(precip_features_2015))\n",
    "\n",
    "train3 = train3.join(precip_total_2015)\n",
    "train3.to_csv('data/final_train_data/train_cumsum_precip.csv', index=False)"
   ]
  },
  {
   "cell_type": "markdown",
   "metadata": {},
   "source": [
    "## 2019 Test dataset"
   ]
  },
  {
   "cell_type": "code",
   "execution_count": 58,
   "metadata": {
    "ExecuteTime": {
     "end_time": "2020-03-23T04:07:17.992841Z",
     "start_time": "2020-03-23T04:07:17.981083Z"
    }
   },
   "outputs": [],
   "source": [
    "# Precip variables for 2019 test data\n",
    "test = pts_df[pts_df.columns.difference(precip_features_2015)]\n",
    "test = test.drop(columns=list(precip_features_2019))\n",
    "test = test.join(precip_intensity)"
   ]
  },
  {
   "cell_type": "code",
   "execution_count": 59,
   "metadata": {
    "ExecuteTime": {
     "end_time": "2020-03-23T04:07:19.247099Z",
     "start_time": "2020-03-23T04:07:18.930151Z"
    }
   },
   "outputs": [
    {
     "data": {
      "text/html": [
       "<div>\n",
       "<style scoped>\n",
       "    .dataframe tbody tr th:only-of-type {\n",
       "        vertical-align: middle;\n",
       "    }\n",
       "\n",
       "    .dataframe tbody tr th {\n",
       "        vertical-align: top;\n",
       "    }\n",
       "\n",
       "    .dataframe thead th {\n",
       "        text-align: right;\n",
       "    }\n",
       "</style>\n",
       "<table border=\"1\" class=\"dataframe\">\n",
       "  <thead>\n",
       "    <tr style=\"text-align: right;\">\n",
       "      <th></th>\n",
       "      <th>X</th>\n",
       "      <th>Y</th>\n",
       "      <th>layer</th>\n",
       "      <th>geometry</th>\n",
       "    </tr>\n",
       "  </thead>\n",
       "  <tbody>\n",
       "    <tr>\n",
       "      <th>0</th>\n",
       "      <td>34.26</td>\n",
       "      <td>-15.91</td>\n",
       "      <td>0.0</td>\n",
       "      <td>POINT (634878.860 8240613.284)</td>\n",
       "    </tr>\n",
       "    <tr>\n",
       "      <th>1</th>\n",
       "      <td>34.26</td>\n",
       "      <td>-15.90</td>\n",
       "      <td>0.0</td>\n",
       "      <td>POINT (634885.529 8241719.647)</td>\n",
       "    </tr>\n",
       "    <tr>\n",
       "      <th>2</th>\n",
       "      <td>34.26</td>\n",
       "      <td>-15.89</td>\n",
       "      <td>0.0</td>\n",
       "      <td>POINT (634892.193 8242826.009)</td>\n",
       "    </tr>\n",
       "    <tr>\n",
       "      <th>3</th>\n",
       "      <td>34.26</td>\n",
       "      <td>-15.88</td>\n",
       "      <td>0.0</td>\n",
       "      <td>POINT (634898.854 8243932.371)</td>\n",
       "    </tr>\n",
       "    <tr>\n",
       "      <th>4</th>\n",
       "      <td>34.26</td>\n",
       "      <td>-15.87</td>\n",
       "      <td>0.0</td>\n",
       "      <td>POINT (634905.510 8245038.731)</td>\n",
       "    </tr>\n",
       "  </tbody>\n",
       "</table>\n",
       "</div>"
      ],
      "text/plain": [
       "       X      Y  layer                        geometry\n",
       "0  34.26 -15.91    0.0  POINT (634878.860 8240613.284)\n",
       "1  34.26 -15.90    0.0  POINT (634885.529 8241719.647)\n",
       "2  34.26 -15.89    0.0  POINT (634892.193 8242826.009)\n",
       "3  34.26 -15.88    0.0  POINT (634898.854 8243932.371)\n",
       "4  34.26 -15.87    0.0  POINT (634905.510 8245038.731)"
      ]
     },
     "execution_count": 59,
     "metadata": {},
     "output_type": "execute_result"
    }
   ],
   "source": [
    "# 2019 test data\n",
    "flood_2019 = gpd.read_file('data/from_zindi/target_flood_2019.shp')\n",
    "flood_2019.head()"
   ]
  },
  {
   "cell_type": "code",
   "execution_count": 60,
   "metadata": {
    "ExecuteTime": {
     "end_time": "2020-03-23T04:07:21.895371Z",
     "start_time": "2020-03-23T04:07:21.859259Z"
    }
   },
   "outputs": [],
   "source": [
    "flood_2019 = pd.DataFrame(flood_2019.drop(columns='geometry'))\n",
    "test = pd.concat([test, flood_2019['layer']], axis=1)"
   ]
  },
  {
   "cell_type": "code",
   "execution_count": 61,
   "metadata": {
    "ExecuteTime": {
     "end_time": "2020-03-23T04:07:22.689764Z",
     "start_time": "2020-03-23T04:07:22.685784Z"
    }
   },
   "outputs": [
    {
     "data": {
      "text/plain": [
       "Index(['DISTRICT', 'Square_ID', 'TPI', 'X', 'Y', 'clay_10', 'clay_200',\n",
       "       'elevation', 'landcover_10', 'landcover_11', 'landcover_12',\n",
       "       'landcover_13', 'landcover_14', 'landcover_17', 'landcover_2',\n",
       "       'landcover_4', 'landcover_5', 'landcover_7', 'landcover_8',\n",
       "       'landcover_9', 'soil_carbon', 'target_2015', 'wetland_dist',\n",
       "       'intensity_week1', 'intensity_week2', 'intensity_week3',\n",
       "       'intensity_week4', 'intensity_week5', 'intensity_week6',\n",
       "       'intensity_week7', 'intensity_week8', 'intensity_week9',\n",
       "       'intensity_week10', 'intensity_week11', 'intensity_week12',\n",
       "       'intensity_week13', 'intensity_week14', 'intensity_week15',\n",
       "       'intensity_week16', 'layer'],\n",
       "      dtype='object')"
      ]
     },
     "execution_count": 61,
     "metadata": {},
     "output_type": "execute_result"
    }
   ],
   "source": [
    "test.columns"
   ]
  },
  {
   "cell_type": "code",
   "execution_count": 62,
   "metadata": {
    "ExecuteTime": {
     "end_time": "2020-03-23T04:07:24.159664Z",
     "start_time": "2020-03-23T04:07:24.147029Z"
    }
   },
   "outputs": [],
   "source": [
    "# Save test data frame\n",
    "test = test.rename(columns={'layer': 'target_2019'})\n",
    "test = test.drop(['target_2015'], axis=1)\n",
    "test.to_csv('data/final_train_data/test_2019.csv', index=False)"
   ]
  },
  {
   "cell_type": "code",
   "execution_count": 65,
   "metadata": {
    "ExecuteTime": {
     "end_time": "2020-03-23T07:14:02.652406Z",
     "start_time": "2020-03-23T07:13:53.647647Z"
    }
   },
   "outputs": [],
   "source": [
    "# Save geo dataframe for mapping\n",
    "test_geo = gpd.GeoDataFrame(test, geometry = gpd.points_from_xy(df.X, df.Y))\n",
    "test_geo.to_file(\"data/final_train_data/test_2019.shp\")"
   ]
  },
  {
   "cell_type": "code",
   "execution_count": null,
   "metadata": {},
   "outputs": [],
   "source": [
    "# Save test data frame for total precipitation "
   ]
  }
 ],
 "metadata": {
  "kernelspec": {
   "display_name": "Python [conda env:metis] *",
   "language": "python",
   "name": "conda-env-metis-py"
  },
  "language_info": {
   "codemirror_mode": {
    "name": "ipython",
    "version": 3
   },
   "file_extension": ".py",
   "mimetype": "text/x-python",
   "name": "python",
   "nbconvert_exporter": "python",
   "pygments_lexer": "ipython3",
   "version": "3.7.4"
  }
 },
 "nbformat": 4,
 "nbformat_minor": 2
}
