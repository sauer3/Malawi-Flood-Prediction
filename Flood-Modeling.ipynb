{
 "cells": [
  {
   "cell_type": "markdown",
   "metadata": {},
   "source": [
    "## Overview\n",
    "On 14 March 2019, tropical Cyclone Idai made landfall at the port of Beira, Mozambique, before moving across the region. Millions of people in Malawi, Mozambique and Zimbabwe have been affected by what is the worst natural disaster to hit southern Africa in at least two decades.\n",
    "\n",
    "In recent decades, countries across Africa have experienced an increase in the frequency and severity of floods. Malawi has been hit with major floods in 2015 and again in 2019. In fact, between 1946 and 2013, floods accounted for 48% of major disasters in Malawi.\n",
    "\n",
    "The objective of this challenge is to build a machine learning model that helps predict the location and extent of floods in southern Malawi."
   ]
  },
  {
   "cell_type": "code",
   "execution_count": 1,
   "metadata": {
    "ExecuteTime": {
     "end_time": "2020-03-25T07:00:53.039066Z",
     "start_time": "2020-03-25T07:00:52.494464Z"
    }
   },
   "outputs": [],
   "source": [
    "import pandas as pd\n",
    "import geopandas as gpd\n",
    "import numpy as np\n",
    "import warnings\n",
    "warnings.filterwarnings('ignore')"
   ]
  },
  {
   "cell_type": "code",
   "execution_count": 2,
   "metadata": {
    "ExecuteTime": {
     "end_time": "2020-03-25T07:00:53.247077Z",
     "start_time": "2020-03-25T07:00:53.115513Z"
    }
   },
   "outputs": [
    {
     "data": {
      "text/html": [
       "<div>\n",
       "<style scoped>\n",
       "    .dataframe tbody tr th:only-of-type {\n",
       "        vertical-align: middle;\n",
       "    }\n",
       "\n",
       "    .dataframe tbody tr th {\n",
       "        vertical-align: top;\n",
       "    }\n",
       "\n",
       "    .dataframe thead th {\n",
       "        text-align: right;\n",
       "    }\n",
       "</style>\n",
       "<table border=\"1\" class=\"dataframe\">\n",
       "  <thead>\n",
       "    <tr style=\"text-align: right;\">\n",
       "      <th></th>\n",
       "      <th>DISTRICT</th>\n",
       "      <th>Square_ID</th>\n",
       "      <th>TPI</th>\n",
       "      <th>X</th>\n",
       "      <th>Y</th>\n",
       "      <th>clay_10</th>\n",
       "      <th>clay_200</th>\n",
       "      <th>elevation</th>\n",
       "      <th>landcover_10</th>\n",
       "      <th>landcover_11</th>\n",
       "      <th>...</th>\n",
       "      <th>intensity_week7</th>\n",
       "      <th>intensity_week8</th>\n",
       "      <th>intensity_week9</th>\n",
       "      <th>intensity_week10</th>\n",
       "      <th>intensity_week11</th>\n",
       "      <th>intensity_week12</th>\n",
       "      <th>intensity_week13</th>\n",
       "      <th>intensity_week14</th>\n",
       "      <th>intensity_week15</th>\n",
       "      <th>intensity_week16</th>\n",
       "    </tr>\n",
       "  </thead>\n",
       "  <tbody>\n",
       "    <tr>\n",
       "      <th>0</th>\n",
       "      <td>Chikwawa</td>\n",
       "      <td>4e3c3896-14ce-11ea-bce5-f49634744a41</td>\n",
       "      <td>57.0</td>\n",
       "      <td>34.26</td>\n",
       "      <td>-15.91</td>\n",
       "      <td>37.0</td>\n",
       "      <td>40.0</td>\n",
       "      <td>887.764222</td>\n",
       "      <td>0</td>\n",
       "      <td>0</td>\n",
       "      <td>...</td>\n",
       "      <td>14.155139</td>\n",
       "      <td>16.151628</td>\n",
       "      <td>17.740277</td>\n",
       "      <td>16.118432</td>\n",
       "      <td>17.324938</td>\n",
       "      <td>18.621053</td>\n",
       "      <td>17.81788</td>\n",
       "      <td>16.61403</td>\n",
       "      <td>16.617034</td>\n",
       "      <td>15.784999</td>\n",
       "    </tr>\n",
       "    <tr>\n",
       "      <th>1</th>\n",
       "      <td>Chikwawa</td>\n",
       "      <td>4e3c3897-14ce-11ea-bce5-f49634744a41</td>\n",
       "      <td>112.0</td>\n",
       "      <td>34.26</td>\n",
       "      <td>-15.90</td>\n",
       "      <td>29.0</td>\n",
       "      <td>36.0</td>\n",
       "      <td>743.403912</td>\n",
       "      <td>0</td>\n",
       "      <td>0</td>\n",
       "      <td>...</td>\n",
       "      <td>14.155139</td>\n",
       "      <td>16.151628</td>\n",
       "      <td>17.740277</td>\n",
       "      <td>16.118432</td>\n",
       "      <td>17.324938</td>\n",
       "      <td>18.621053</td>\n",
       "      <td>17.81788</td>\n",
       "      <td>16.61403</td>\n",
       "      <td>16.617034</td>\n",
       "      <td>15.784999</td>\n",
       "    </tr>\n",
       "    <tr>\n",
       "      <th>2</th>\n",
       "      <td>Chikwawa</td>\n",
       "      <td>4e3c3898-14ce-11ea-bce5-f49634744a41</td>\n",
       "      <td>0.0</td>\n",
       "      <td>34.26</td>\n",
       "      <td>-15.89</td>\n",
       "      <td>27.0</td>\n",
       "      <td>33.0</td>\n",
       "      <td>565.728343</td>\n",
       "      <td>0</td>\n",
       "      <td>0</td>\n",
       "      <td>...</td>\n",
       "      <td>14.155139</td>\n",
       "      <td>16.151628</td>\n",
       "      <td>17.740277</td>\n",
       "      <td>16.118432</td>\n",
       "      <td>17.324938</td>\n",
       "      <td>18.621053</td>\n",
       "      <td>17.81788</td>\n",
       "      <td>16.61403</td>\n",
       "      <td>16.617034</td>\n",
       "      <td>15.784999</td>\n",
       "    </tr>\n",
       "    <tr>\n",
       "      <th>3</th>\n",
       "      <td>Chikwawa</td>\n",
       "      <td>4e3c3899-14ce-11ea-bce5-f49634744a41</td>\n",
       "      <td>-4.0</td>\n",
       "      <td>34.26</td>\n",
       "      <td>-15.88</td>\n",
       "      <td>23.0</td>\n",
       "      <td>29.0</td>\n",
       "      <td>443.392774</td>\n",
       "      <td>1</td>\n",
       "      <td>0</td>\n",
       "      <td>...</td>\n",
       "      <td>14.155139</td>\n",
       "      <td>16.151628</td>\n",
       "      <td>17.740277</td>\n",
       "      <td>16.118432</td>\n",
       "      <td>17.324938</td>\n",
       "      <td>18.621053</td>\n",
       "      <td>17.81788</td>\n",
       "      <td>16.61403</td>\n",
       "      <td>16.617034</td>\n",
       "      <td>15.784999</td>\n",
       "    </tr>\n",
       "    <tr>\n",
       "      <th>4</th>\n",
       "      <td>Chikwawa</td>\n",
       "      <td>4e3c389a-14ce-11ea-bce5-f49634744a41</td>\n",
       "      <td>3.0</td>\n",
       "      <td>34.26</td>\n",
       "      <td>-15.87</td>\n",
       "      <td>23.0</td>\n",
       "      <td>30.0</td>\n",
       "      <td>437.443428</td>\n",
       "      <td>1</td>\n",
       "      <td>0</td>\n",
       "      <td>...</td>\n",
       "      <td>14.155139</td>\n",
       "      <td>16.151628</td>\n",
       "      <td>17.740277</td>\n",
       "      <td>16.118432</td>\n",
       "      <td>17.324938</td>\n",
       "      <td>18.621053</td>\n",
       "      <td>17.81788</td>\n",
       "      <td>16.61403</td>\n",
       "      <td>16.617034</td>\n",
       "      <td>15.784999</td>\n",
       "    </tr>\n",
       "  </tbody>\n",
       "</table>\n",
       "<p>5 rows × 39 columns</p>\n",
       "</div>"
      ],
      "text/plain": [
       "   DISTRICT                             Square_ID    TPI      X      Y  \\\n",
       "0  Chikwawa  4e3c3896-14ce-11ea-bce5-f49634744a41   57.0  34.26 -15.91   \n",
       "1  Chikwawa  4e3c3897-14ce-11ea-bce5-f49634744a41  112.0  34.26 -15.90   \n",
       "2  Chikwawa  4e3c3898-14ce-11ea-bce5-f49634744a41    0.0  34.26 -15.89   \n",
       "3  Chikwawa  4e3c3899-14ce-11ea-bce5-f49634744a41   -4.0  34.26 -15.88   \n",
       "4  Chikwawa  4e3c389a-14ce-11ea-bce5-f49634744a41    3.0  34.26 -15.87   \n",
       "\n",
       "   clay_10  clay_200   elevation  landcover_10  landcover_11  ...  \\\n",
       "0     37.0      40.0  887.764222             0             0  ...   \n",
       "1     29.0      36.0  743.403912             0             0  ...   \n",
       "2     27.0      33.0  565.728343             0             0  ...   \n",
       "3     23.0      29.0  443.392774             1             0  ...   \n",
       "4     23.0      30.0  437.443428             1             0  ...   \n",
       "\n",
       "   intensity_week7  intensity_week8  intensity_week9  intensity_week10  \\\n",
       "0        14.155139        16.151628        17.740277         16.118432   \n",
       "1        14.155139        16.151628        17.740277         16.118432   \n",
       "2        14.155139        16.151628        17.740277         16.118432   \n",
       "3        14.155139        16.151628        17.740277         16.118432   \n",
       "4        14.155139        16.151628        17.740277         16.118432   \n",
       "\n",
       "   intensity_week11  intensity_week12  intensity_week13  intensity_week14  \\\n",
       "0         17.324938         18.621053          17.81788          16.61403   \n",
       "1         17.324938         18.621053          17.81788          16.61403   \n",
       "2         17.324938         18.621053          17.81788          16.61403   \n",
       "3         17.324938         18.621053          17.81788          16.61403   \n",
       "4         17.324938         18.621053          17.81788          16.61403   \n",
       "\n",
       "   intensity_week15  intensity_week16  \n",
       "0         16.617034         15.784999  \n",
       "1         16.617034         15.784999  \n",
       "2         16.617034         15.784999  \n",
       "3         16.617034         15.784999  \n",
       "4         16.617034         15.784999  \n",
       "\n",
       "[5 rows x 39 columns]"
      ]
     },
     "execution_count": 2,
     "metadata": {},
     "output_type": "execute_result"
    }
   ],
   "source": [
    "# df = pd.read_csv('data/from_zindi/Train.csv')\n",
    "train = pd.read_csv('data/final_train_data/train.csv')\n",
    "train.head()"
   ]
  },
  {
   "cell_type": "code",
   "execution_count": 3,
   "metadata": {
    "ExecuteTime": {
     "end_time": "2020-03-25T07:00:55.796321Z",
     "start_time": "2020-03-25T07:00:55.689392Z"
    }
   },
   "outputs": [
    {
     "data": {
      "text/html": [
       "<div>\n",
       "<style scoped>\n",
       "    .dataframe tbody tr th:only-of-type {\n",
       "        vertical-align: middle;\n",
       "    }\n",
       "\n",
       "    .dataframe tbody tr th {\n",
       "        vertical-align: top;\n",
       "    }\n",
       "\n",
       "    .dataframe thead th {\n",
       "        text-align: right;\n",
       "    }\n",
       "</style>\n",
       "<table border=\"1\" class=\"dataframe\">\n",
       "  <thead>\n",
       "    <tr style=\"text-align: right;\">\n",
       "      <th></th>\n",
       "      <th>count</th>\n",
       "      <th>mean</th>\n",
       "      <th>std</th>\n",
       "      <th>min</th>\n",
       "      <th>25%</th>\n",
       "      <th>50%</th>\n",
       "      <th>75%</th>\n",
       "      <th>max</th>\n",
       "    </tr>\n",
       "  </thead>\n",
       "  <tbody>\n",
       "    <tr>\n",
       "      <th>TPI</th>\n",
       "      <td>16142.0</td>\n",
       "      <td>0.085863</td>\n",
       "      <td>19.530495</td>\n",
       "      <td>-181.000000</td>\n",
       "      <td>-4.000000</td>\n",
       "      <td>0.000000</td>\n",
       "      <td>2.000000</td>\n",
       "      <td>270.000000</td>\n",
       "    </tr>\n",
       "    <tr>\n",
       "      <th>X</th>\n",
       "      <td>16264.0</td>\n",
       "      <td>35.074606</td>\n",
       "      <td>0.387730</td>\n",
       "      <td>34.260000</td>\n",
       "      <td>34.770000</td>\n",
       "      <td>35.050000</td>\n",
       "      <td>35.380000</td>\n",
       "      <td>35.850000</td>\n",
       "    </tr>\n",
       "    <tr>\n",
       "      <th>Y</th>\n",
       "      <td>16264.0</td>\n",
       "      <td>-15.813651</td>\n",
       "      <td>0.359585</td>\n",
       "      <td>-16.640000</td>\n",
       "      <td>-16.070000</td>\n",
       "      <td>-15.800000</td>\n",
       "      <td>-15.520000</td>\n",
       "      <td>-15.210000</td>\n",
       "    </tr>\n",
       "    <tr>\n",
       "      <th>clay_10</th>\n",
       "      <td>16229.0</td>\n",
       "      <td>25.415306</td>\n",
       "      <td>6.873567</td>\n",
       "      <td>0.000000</td>\n",
       "      <td>22.000000</td>\n",
       "      <td>25.000000</td>\n",
       "      <td>29.000000</td>\n",
       "      <td>45.000000</td>\n",
       "    </tr>\n",
       "    <tr>\n",
       "      <th>clay_200</th>\n",
       "      <td>16229.0</td>\n",
       "      <td>32.036293</td>\n",
       "      <td>7.785347</td>\n",
       "      <td>0.000000</td>\n",
       "      <td>29.000000</td>\n",
       "      <td>32.000000</td>\n",
       "      <td>36.000000</td>\n",
       "      <td>52.000000</td>\n",
       "    </tr>\n",
       "    <tr>\n",
       "      <th>elevation</th>\n",
       "      <td>16264.0</td>\n",
       "      <td>592.090333</td>\n",
       "      <td>355.690276</td>\n",
       "      <td>45.541444</td>\n",
       "      <td>326.968499</td>\n",
       "      <td>623.000000</td>\n",
       "      <td>752.071011</td>\n",
       "      <td>2803.303645</td>\n",
       "    </tr>\n",
       "    <tr>\n",
       "      <th>landcover_10</th>\n",
       "      <td>16466.0</td>\n",
       "      <td>0.292542</td>\n",
       "      <td>0.454944</td>\n",
       "      <td>0.000000</td>\n",
       "      <td>0.000000</td>\n",
       "      <td>0.000000</td>\n",
       "      <td>1.000000</td>\n",
       "      <td>1.000000</td>\n",
       "    </tr>\n",
       "    <tr>\n",
       "      <th>landcover_11</th>\n",
       "      <td>16466.0</td>\n",
       "      <td>0.010081</td>\n",
       "      <td>0.099902</td>\n",
       "      <td>0.000000</td>\n",
       "      <td>0.000000</td>\n",
       "      <td>0.000000</td>\n",
       "      <td>0.000000</td>\n",
       "      <td>1.000000</td>\n",
       "    </tr>\n",
       "    <tr>\n",
       "      <th>landcover_12</th>\n",
       "      <td>16466.0</td>\n",
       "      <td>0.373558</td>\n",
       "      <td>0.483763</td>\n",
       "      <td>0.000000</td>\n",
       "      <td>0.000000</td>\n",
       "      <td>0.000000</td>\n",
       "      <td>1.000000</td>\n",
       "      <td>1.000000</td>\n",
       "    </tr>\n",
       "    <tr>\n",
       "      <th>landcover_13</th>\n",
       "      <td>16466.0</td>\n",
       "      <td>0.002551</td>\n",
       "      <td>0.050442</td>\n",
       "      <td>0.000000</td>\n",
       "      <td>0.000000</td>\n",
       "      <td>0.000000</td>\n",
       "      <td>0.000000</td>\n",
       "      <td>1.000000</td>\n",
       "    </tr>\n",
       "    <tr>\n",
       "      <th>landcover_14</th>\n",
       "      <td>16466.0</td>\n",
       "      <td>0.025932</td>\n",
       "      <td>0.158938</td>\n",
       "      <td>0.000000</td>\n",
       "      <td>0.000000</td>\n",
       "      <td>0.000000</td>\n",
       "      <td>0.000000</td>\n",
       "      <td>1.000000</td>\n",
       "    </tr>\n",
       "    <tr>\n",
       "      <th>landcover_17</th>\n",
       "      <td>16466.0</td>\n",
       "      <td>0.032916</td>\n",
       "      <td>0.178423</td>\n",
       "      <td>0.000000</td>\n",
       "      <td>0.000000</td>\n",
       "      <td>0.000000</td>\n",
       "      <td>0.000000</td>\n",
       "      <td>1.000000</td>\n",
       "    </tr>\n",
       "    <tr>\n",
       "      <th>landcover_2</th>\n",
       "      <td>16466.0</td>\n",
       "      <td>0.007409</td>\n",
       "      <td>0.085760</td>\n",
       "      <td>0.000000</td>\n",
       "      <td>0.000000</td>\n",
       "      <td>0.000000</td>\n",
       "      <td>0.000000</td>\n",
       "      <td>1.000000</td>\n",
       "    </tr>\n",
       "    <tr>\n",
       "      <th>landcover_4</th>\n",
       "      <td>16466.0</td>\n",
       "      <td>0.007956</td>\n",
       "      <td>0.088842</td>\n",
       "      <td>0.000000</td>\n",
       "      <td>0.000000</td>\n",
       "      <td>0.000000</td>\n",
       "      <td>0.000000</td>\n",
       "      <td>1.000000</td>\n",
       "    </tr>\n",
       "    <tr>\n",
       "      <th>landcover_5</th>\n",
       "      <td>16466.0</td>\n",
       "      <td>0.003158</td>\n",
       "      <td>0.056109</td>\n",
       "      <td>0.000000</td>\n",
       "      <td>0.000000</td>\n",
       "      <td>0.000000</td>\n",
       "      <td>0.000000</td>\n",
       "      <td>1.000000</td>\n",
       "    </tr>\n",
       "    <tr>\n",
       "      <th>landcover_7</th>\n",
       "      <td>16466.0</td>\n",
       "      <td>0.000061</td>\n",
       "      <td>0.007793</td>\n",
       "      <td>0.000000</td>\n",
       "      <td>0.000000</td>\n",
       "      <td>0.000000</td>\n",
       "      <td>0.000000</td>\n",
       "      <td>1.000000</td>\n",
       "    </tr>\n",
       "    <tr>\n",
       "      <th>landcover_8</th>\n",
       "      <td>16466.0</td>\n",
       "      <td>0.000425</td>\n",
       "      <td>0.020615</td>\n",
       "      <td>0.000000</td>\n",
       "      <td>0.000000</td>\n",
       "      <td>0.000000</td>\n",
       "      <td>0.000000</td>\n",
       "      <td>1.000000</td>\n",
       "    </tr>\n",
       "    <tr>\n",
       "      <th>landcover_9</th>\n",
       "      <td>16466.0</td>\n",
       "      <td>0.243411</td>\n",
       "      <td>0.429154</td>\n",
       "      <td>0.000000</td>\n",
       "      <td>0.000000</td>\n",
       "      <td>0.000000</td>\n",
       "      <td>0.000000</td>\n",
       "      <td>1.000000</td>\n",
       "    </tr>\n",
       "    <tr>\n",
       "      <th>soil_carbon</th>\n",
       "      <td>16264.0</td>\n",
       "      <td>8.606800</td>\n",
       "      <td>7.013072</td>\n",
       "      <td>0.000000</td>\n",
       "      <td>4.072398</td>\n",
       "      <td>7.239819</td>\n",
       "      <td>11.085972</td>\n",
       "      <td>100.000000</td>\n",
       "    </tr>\n",
       "    <tr>\n",
       "      <th>target_2015</th>\n",
       "      <td>16264.0</td>\n",
       "      <td>0.076075</td>\n",
       "      <td>0.227950</td>\n",
       "      <td>0.000000</td>\n",
       "      <td>0.000000</td>\n",
       "      <td>0.000000</td>\n",
       "      <td>0.000000</td>\n",
       "      <td>1.000000</td>\n",
       "    </tr>\n",
       "    <tr>\n",
       "      <th>wetland_dist</th>\n",
       "      <td>16264.0</td>\n",
       "      <td>12440.719700</td>\n",
       "      <td>8910.000163</td>\n",
       "      <td>0.000000</td>\n",
       "      <td>4908.812090</td>\n",
       "      <td>11320.337584</td>\n",
       "      <td>18820.586169</td>\n",
       "      <td>39271.134980</td>\n",
       "    </tr>\n",
       "    <tr>\n",
       "      <th>intensity_week1</th>\n",
       "      <td>16264.0</td>\n",
       "      <td>1.589708</td>\n",
       "      <td>4.199205</td>\n",
       "      <td>0.000000</td>\n",
       "      <td>0.000000</td>\n",
       "      <td>0.000000</td>\n",
       "      <td>1.261848</td>\n",
       "      <td>19.354969</td>\n",
       "    </tr>\n",
       "    <tr>\n",
       "      <th>intensity_week2</th>\n",
       "      <td>16264.0</td>\n",
       "      <td>2.028337</td>\n",
       "      <td>6.366915</td>\n",
       "      <td>0.000000</td>\n",
       "      <td>0.000000</td>\n",
       "      <td>0.000000</td>\n",
       "      <td>0.979787</td>\n",
       "      <td>30.189414</td>\n",
       "    </tr>\n",
       "    <tr>\n",
       "      <th>intensity_week3</th>\n",
       "      <td>16264.0</td>\n",
       "      <td>1.736166</td>\n",
       "      <td>5.693405</td>\n",
       "      <td>0.000000</td>\n",
       "      <td>0.000000</td>\n",
       "      <td>0.000000</td>\n",
       "      <td>0.806588</td>\n",
       "      <td>27.466544</td>\n",
       "    </tr>\n",
       "    <tr>\n",
       "      <th>intensity_week4</th>\n",
       "      <td>16264.0</td>\n",
       "      <td>3.368653</td>\n",
       "      <td>4.573677</td>\n",
       "      <td>0.604473</td>\n",
       "      <td>1.721361</td>\n",
       "      <td>2.102538</td>\n",
       "      <td>2.721809</td>\n",
       "      <td>24.073033</td>\n",
       "    </tr>\n",
       "    <tr>\n",
       "      <th>intensity_week5</th>\n",
       "      <td>16264.0</td>\n",
       "      <td>4.469504</td>\n",
       "      <td>3.714204</td>\n",
       "      <td>1.594558</td>\n",
       "      <td>2.929072</td>\n",
       "      <td>3.529012</td>\n",
       "      <td>4.597847</td>\n",
       "      <td>21.130647</td>\n",
       "    </tr>\n",
       "    <tr>\n",
       "      <th>intensity_week6</th>\n",
       "      <td>16264.0</td>\n",
       "      <td>5.317273</td>\n",
       "      <td>3.199574</td>\n",
       "      <td>2.693714</td>\n",
       "      <td>3.130874</td>\n",
       "      <td>4.605445</td>\n",
       "      <td>6.124905</td>\n",
       "      <td>18.647022</td>\n",
       "    </tr>\n",
       "    <tr>\n",
       "      <th>intensity_week7</th>\n",
       "      <td>16264.0</td>\n",
       "      <td>7.838481</td>\n",
       "      <td>3.524365</td>\n",
       "      <td>3.832664</td>\n",
       "      <td>5.877506</td>\n",
       "      <td>6.566886</td>\n",
       "      <td>8.630498</td>\n",
       "      <td>20.499244</td>\n",
       "    </tr>\n",
       "    <tr>\n",
       "      <th>intensity_week8</th>\n",
       "      <td>16264.0</td>\n",
       "      <td>10.365242</td>\n",
       "      <td>3.015224</td>\n",
       "      <td>6.772798</td>\n",
       "      <td>8.428612</td>\n",
       "      <td>9.744026</td>\n",
       "      <td>11.395674</td>\n",
       "      <td>20.907316</td>\n",
       "    </tr>\n",
       "    <tr>\n",
       "      <th>intensity_week9</th>\n",
       "      <td>16264.0</td>\n",
       "      <td>15.733773</td>\n",
       "      <td>3.210060</td>\n",
       "      <td>12.428843</td>\n",
       "      <td>14.335772</td>\n",
       "      <td>14.827479</td>\n",
       "      <td>15.996227</td>\n",
       "      <td>28.802711</td>\n",
       "    </tr>\n",
       "    <tr>\n",
       "      <th>intensity_week10</th>\n",
       "      <td>16264.0</td>\n",
       "      <td>14.285109</td>\n",
       "      <td>3.038971</td>\n",
       "      <td>11.185958</td>\n",
       "      <td>12.928184</td>\n",
       "      <td>13.407597</td>\n",
       "      <td>14.812883</td>\n",
       "      <td>26.730622</td>\n",
       "    </tr>\n",
       "    <tr>\n",
       "      <th>intensity_week11</th>\n",
       "      <td>16264.0</td>\n",
       "      <td>16.145446</td>\n",
       "      <td>2.724991</td>\n",
       "      <td>13.043353</td>\n",
       "      <td>14.630518</td>\n",
       "      <td>15.426060</td>\n",
       "      <td>16.309104</td>\n",
       "      <td>27.562978</td>\n",
       "    </tr>\n",
       "    <tr>\n",
       "      <th>intensity_week12</th>\n",
       "      <td>16264.0</td>\n",
       "      <td>17.164574</td>\n",
       "      <td>2.553803</td>\n",
       "      <td>14.188541</td>\n",
       "      <td>15.626401</td>\n",
       "      <td>16.690768</td>\n",
       "      <td>17.789555</td>\n",
       "      <td>27.801162</td>\n",
       "    </tr>\n",
       "    <tr>\n",
       "      <th>intensity_week13</th>\n",
       "      <td>16264.0</td>\n",
       "      <td>16.805675</td>\n",
       "      <td>2.548423</td>\n",
       "      <td>13.232429</td>\n",
       "      <td>15.819519</td>\n",
       "      <td>16.295242</td>\n",
       "      <td>17.576222</td>\n",
       "      <td>27.089929</td>\n",
       "    </tr>\n",
       "    <tr>\n",
       "      <th>intensity_week14</th>\n",
       "      <td>16264.0</td>\n",
       "      <td>15.874485</td>\n",
       "      <td>2.426289</td>\n",
       "      <td>12.411545</td>\n",
       "      <td>14.925342</td>\n",
       "      <td>15.343895</td>\n",
       "      <td>16.641991</td>\n",
       "      <td>25.691816</td>\n",
       "    </tr>\n",
       "    <tr>\n",
       "      <th>intensity_week15</th>\n",
       "      <td>16264.0</td>\n",
       "      <td>15.952989</td>\n",
       "      <td>2.188792</td>\n",
       "      <td>12.506439</td>\n",
       "      <td>14.869212</td>\n",
       "      <td>15.478310</td>\n",
       "      <td>16.617034</td>\n",
       "      <td>24.652683</td>\n",
       "    </tr>\n",
       "    <tr>\n",
       "      <th>intensity_week16</th>\n",
       "      <td>16264.0</td>\n",
       "      <td>15.524988</td>\n",
       "      <td>2.180535</td>\n",
       "      <td>12.137415</td>\n",
       "      <td>14.439007</td>\n",
       "      <td>15.161826</td>\n",
       "      <td>15.950889</td>\n",
       "      <td>24.282552</td>\n",
       "    </tr>\n",
       "  </tbody>\n",
       "</table>\n",
       "</div>"
      ],
      "text/plain": [
       "                    count          mean          std         min          25%  \\\n",
       "TPI               16142.0      0.085863    19.530495 -181.000000    -4.000000   \n",
       "X                 16264.0     35.074606     0.387730   34.260000    34.770000   \n",
       "Y                 16264.0    -15.813651     0.359585  -16.640000   -16.070000   \n",
       "clay_10           16229.0     25.415306     6.873567    0.000000    22.000000   \n",
       "clay_200          16229.0     32.036293     7.785347    0.000000    29.000000   \n",
       "elevation         16264.0    592.090333   355.690276   45.541444   326.968499   \n",
       "landcover_10      16466.0      0.292542     0.454944    0.000000     0.000000   \n",
       "landcover_11      16466.0      0.010081     0.099902    0.000000     0.000000   \n",
       "landcover_12      16466.0      0.373558     0.483763    0.000000     0.000000   \n",
       "landcover_13      16466.0      0.002551     0.050442    0.000000     0.000000   \n",
       "landcover_14      16466.0      0.025932     0.158938    0.000000     0.000000   \n",
       "landcover_17      16466.0      0.032916     0.178423    0.000000     0.000000   \n",
       "landcover_2       16466.0      0.007409     0.085760    0.000000     0.000000   \n",
       "landcover_4       16466.0      0.007956     0.088842    0.000000     0.000000   \n",
       "landcover_5       16466.0      0.003158     0.056109    0.000000     0.000000   \n",
       "landcover_7       16466.0      0.000061     0.007793    0.000000     0.000000   \n",
       "landcover_8       16466.0      0.000425     0.020615    0.000000     0.000000   \n",
       "landcover_9       16466.0      0.243411     0.429154    0.000000     0.000000   \n",
       "soil_carbon       16264.0      8.606800     7.013072    0.000000     4.072398   \n",
       "target_2015       16264.0      0.076075     0.227950    0.000000     0.000000   \n",
       "wetland_dist      16264.0  12440.719700  8910.000163    0.000000  4908.812090   \n",
       "intensity_week1   16264.0      1.589708     4.199205    0.000000     0.000000   \n",
       "intensity_week2   16264.0      2.028337     6.366915    0.000000     0.000000   \n",
       "intensity_week3   16264.0      1.736166     5.693405    0.000000     0.000000   \n",
       "intensity_week4   16264.0      3.368653     4.573677    0.604473     1.721361   \n",
       "intensity_week5   16264.0      4.469504     3.714204    1.594558     2.929072   \n",
       "intensity_week6   16264.0      5.317273     3.199574    2.693714     3.130874   \n",
       "intensity_week7   16264.0      7.838481     3.524365    3.832664     5.877506   \n",
       "intensity_week8   16264.0     10.365242     3.015224    6.772798     8.428612   \n",
       "intensity_week9   16264.0     15.733773     3.210060   12.428843    14.335772   \n",
       "intensity_week10  16264.0     14.285109     3.038971   11.185958    12.928184   \n",
       "intensity_week11  16264.0     16.145446     2.724991   13.043353    14.630518   \n",
       "intensity_week12  16264.0     17.164574     2.553803   14.188541    15.626401   \n",
       "intensity_week13  16264.0     16.805675     2.548423   13.232429    15.819519   \n",
       "intensity_week14  16264.0     15.874485     2.426289   12.411545    14.925342   \n",
       "intensity_week15  16264.0     15.952989     2.188792   12.506439    14.869212   \n",
       "intensity_week16  16264.0     15.524988     2.180535   12.137415    14.439007   \n",
       "\n",
       "                           50%           75%           max  \n",
       "TPI                   0.000000      2.000000    270.000000  \n",
       "X                    35.050000     35.380000     35.850000  \n",
       "Y                   -15.800000    -15.520000    -15.210000  \n",
       "clay_10              25.000000     29.000000     45.000000  \n",
       "clay_200             32.000000     36.000000     52.000000  \n",
       "elevation           623.000000    752.071011   2803.303645  \n",
       "landcover_10          0.000000      1.000000      1.000000  \n",
       "landcover_11          0.000000      0.000000      1.000000  \n",
       "landcover_12          0.000000      1.000000      1.000000  \n",
       "landcover_13          0.000000      0.000000      1.000000  \n",
       "landcover_14          0.000000      0.000000      1.000000  \n",
       "landcover_17          0.000000      0.000000      1.000000  \n",
       "landcover_2           0.000000      0.000000      1.000000  \n",
       "landcover_4           0.000000      0.000000      1.000000  \n",
       "landcover_5           0.000000      0.000000      1.000000  \n",
       "landcover_7           0.000000      0.000000      1.000000  \n",
       "landcover_8           0.000000      0.000000      1.000000  \n",
       "landcover_9           0.000000      0.000000      1.000000  \n",
       "soil_carbon           7.239819     11.085972    100.000000  \n",
       "target_2015           0.000000      0.000000      1.000000  \n",
       "wetland_dist      11320.337584  18820.586169  39271.134980  \n",
       "intensity_week1       0.000000      1.261848     19.354969  \n",
       "intensity_week2       0.000000      0.979787     30.189414  \n",
       "intensity_week3       0.000000      0.806588     27.466544  \n",
       "intensity_week4       2.102538      2.721809     24.073033  \n",
       "intensity_week5       3.529012      4.597847     21.130647  \n",
       "intensity_week6       4.605445      6.124905     18.647022  \n",
       "intensity_week7       6.566886      8.630498     20.499244  \n",
       "intensity_week8       9.744026     11.395674     20.907316  \n",
       "intensity_week9      14.827479     15.996227     28.802711  \n",
       "intensity_week10     13.407597     14.812883     26.730622  \n",
       "intensity_week11     15.426060     16.309104     27.562978  \n",
       "intensity_week12     16.690768     17.789555     27.801162  \n",
       "intensity_week13     16.295242     17.576222     27.089929  \n",
       "intensity_week14     15.343895     16.641991     25.691816  \n",
       "intensity_week15     15.478310     16.617034     24.652683  \n",
       "intensity_week16     15.161826     15.950889     24.282552  "
      ]
     },
     "execution_count": 3,
     "metadata": {},
     "output_type": "execute_result"
    }
   ],
   "source": [
    "# Previewing some statistical summaries of the dataframe\n",
    "# Transposing for a better view\n",
    "train.describe().T"
   ]
  },
  {
   "cell_type": "code",
   "execution_count": 4,
   "metadata": {
    "ExecuteTime": {
     "end_time": "2020-03-25T07:00:59.348887Z",
     "start_time": "2020-03-25T07:00:59.339187Z"
    }
   },
   "outputs": [],
   "source": [
    "# Deal with NA values\n",
    "#train.dropna(inplace=True)\n",
    "train = train.fillna(0)"
   ]
  },
  {
   "cell_type": "code",
   "execution_count": 5,
   "metadata": {
    "ExecuteTime": {
     "end_time": "2020-03-25T07:01:00.315327Z",
     "start_time": "2020-03-25T07:01:00.075327Z"
    }
   },
   "outputs": [
    {
     "data": {
      "text/plain": [
       "<matplotlib.axes._subplots.AxesSubplot at 0x2208bc390>"
      ]
     },
     "execution_count": 5,
     "metadata": {},
     "output_type": "execute_result"
    },
    {
     "data": {
      "image/png": "[encoded data removed]",
      "text/plain": [
       "<Figure size 432x288 with 1 Axes>"
      ]
     },
     "metadata": {
      "needs_background": "light"
     },
     "output_type": "display_data"
    }
   ],
   "source": [
    "# Target variable distribution\n",
    "train['target_2015'].hist()"
   ]
  },
  {
   "cell_type": "code",
   "execution_count": 6,
   "metadata": {
    "ExecuteTime": {
     "end_time": "2020-03-25T07:01:02.559284Z",
     "start_time": "2020-03-25T07:01:02.555073Z"
    }
   },
   "outputs": [
    {
     "data": {
      "text/plain": [
       "((16466, 39), 642174)"
      ]
     },
     "execution_count": 6,
     "metadata": {},
     "output_type": "execute_result"
    }
   ],
   "source": [
    "# shape and size of the dataframe\n",
    "train.shape, train.size"
   ]
  },
  {
   "cell_type": "code",
   "execution_count": 7,
   "metadata": {
    "ExecuteTime": {
     "end_time": "2020-03-25T07:01:03.776870Z",
     "start_time": "2020-03-25T07:01:03.184731Z"
    }
   },
   "outputs": [
    {
     "data": {
      "image/png": "[encoded data removed]",
      "text/plain": [
       "<Figure size 432x288 with 2 Axes>"
      ]
     },
     "metadata": {
      "needs_background": "light"
     },
     "output_type": "display_data"
    }
   ],
   "source": [
    "## Plot correlation matrix\n",
    "import seaborn as sns\n",
    "#sns.pairplot(train, plot_kws=dict(alpha=.1, edgecolor='none'));\n",
    "# corr matrix\n",
    "sns.heatmap(train.corr(), cmap=\"seismic\", annot=False, vmin=-1, vmax=1);"
   ]
  },
  {
   "cell_type": "code",
   "execution_count": 8,
   "metadata": {
    "ExecuteTime": {
     "end_time": "2020-03-25T07:01:06.507937Z",
     "start_time": "2020-03-25T07:01:06.500319Z"
    }
   },
   "outputs": [
    {
     "data": {
      "text/plain": [
       "Index(['DISTRICT', 'Square_ID', 'TPI', 'X', 'Y', 'clay_10', 'elevation',\n",
       "       'landcover_10', 'landcover_12', 'landcover_9', 'soil_carbon',\n",
       "       'target_2015', 'wetland_dist', 'intensity_week16'],\n",
       "      dtype='object')"
      ]
     },
     "execution_count": 8,
     "metadata": {},
     "output_type": "execute_result"
    }
   ],
   "source": [
    "# Removing unimportant or correlated variables\n",
    "train = train.drop(columns=['clay_200', 'landcover_11',\n",
    "                            'landcover_13', 'landcover_14', 'landcover_17', 'landcover_2',\n",
    "                            'landcover_4', 'landcover_5', 'landcover_7', 'landcover_8', 'intensity_week1', 'intensity_week2', 'intensity_week3', 'intensity_week4',\n",
    "                            'intensity_week5', 'intensity_week6', 'intensity_week7', 'intensity_week8',\n",
    "                            'intensity_week9', 'intensity_week10', 'intensity_week11', 'intensity_week12',\n",
    "                            'intensity_week13', 'intensity_week14', 'intensity_week15'])\n",
    "\n",
    "train.columns"
   ]
  },
  {
   "cell_type": "code",
   "execution_count": 9,
   "metadata": {
    "ExecuteTime": {
     "end_time": "2020-03-25T07:01:07.681825Z",
     "start_time": "2020-03-25T07:01:07.473472Z"
    }
   },
   "outputs": [
    {
     "data": {
      "image/png": "[encoded data removed]",
      "text/plain": [
       "<Figure size 432x288 with 2 Axes>"
      ]
     },
     "metadata": {
      "needs_background": "light"
     },
     "output_type": "display_data"
    }
   ],
   "source": [
    "sns.heatmap(train.corr(), cmap=\"seismic\", annot=False, vmin=-1, vmax=1);"
   ]
  },
  {
   "cell_type": "markdown",
   "metadata": {},
   "source": [
    "If I have time try converting precip to the Coefficient Variation, which is simply the standard deviation divided by the average annual rainfall."
   ]
  },
  {
   "cell_type": "markdown",
   "metadata": {},
   "source": [
    "## Data Cleaning"
   ]
  },
  {
   "cell_type": "markdown",
   "metadata": {},
   "source": [
    "#### Train and Test Datasets"
   ]
  },
  {
   "cell_type": "code",
   "execution_count": null,
   "metadata": {
    "ExecuteTime": {
     "end_time": "2020-03-25T01:58:18.827376Z",
     "start_time": "2020-03-25T01:58:18.674176Z"
    }
   },
   "outputs": [],
   "source": [
    "# Separate the target variable\n",
    "# target = train.target_2015\n",
    "\n",
    "# Aligning the training and testing datasets\n",
    "# train, test = train.align(test, join = 'inner', axis = 1)\n",
    "# test.head(3)\n",
    "# target.hist()"
   ]
  },
  {
   "cell_type": "code",
   "execution_count": null,
   "metadata": {
    "ExecuteTime": {
     "end_time": "2020-03-21T05:21:20.883370Z",
     "start_time": "2020-03-21T05:21:20.624835Z"
    }
   },
   "outputs": [],
   "source": [
    "# Transfrom target variable\n",
    "# target = np.log(target + 1) # add 1 to make sure there are not 0's in the data before taking log\n",
    "# target.hist()"
   ]
  },
  {
   "cell_type": "code",
   "execution_count": 10,
   "metadata": {
    "ExecuteTime": {
     "end_time": "2020-03-25T07:01:37.760108Z",
     "start_time": "2020-03-25T07:01:37.755200Z"
    }
   },
   "outputs": [
    {
     "data": {
      "text/plain": [
       "array(['Chikwawa', 0, 'Mwanza', 'Neno', 'Ntcheu', 'Blantyre', 'Balaka',\n",
       "       'Thyolo', 'Nsanje', 'Zomba', 'Chiradzulu', 'Machinga', 'Mulanje',\n",
       "       'Phalombe'], dtype=object)"
      ]
     },
     "execution_count": 10,
     "metadata": {},
     "output_type": "execute_result"
    }
   ],
   "source": [
    "train.DISTRICT.unique()"
   ]
  },
  {
   "cell_type": "code",
   "execution_count": 11,
   "metadata": {
    "ExecuteTime": {
     "end_time": "2020-03-25T07:01:38.555689Z",
     "start_time": "2020-03-25T07:01:38.548784Z"
    }
   },
   "outputs": [
    {
     "data": {
      "text/plain": [
       "array(['Chikwawa', 'other', 'Mwanza', 'Neno', 'Ntcheu', 'Blantyre',\n",
       "       'Balaka', 'Thyolo', 'Nsanje', 'Zomba', 'Chiradzulu', 'Machinga',\n",
       "       'Mulanje', 'Phalombe'], dtype=object)"
      ]
     },
     "execution_count": 11,
     "metadata": {},
     "output_type": "execute_result"
    }
   ],
   "source": [
    "train['DISTRICT'] = train['DISTRICT'].replace(0, 'other', regex=True)\n",
    "train.DISTRICT.unique()"
   ]
  },
  {
   "cell_type": "code",
   "execution_count": 12,
   "metadata": {
    "ExecuteTime": {
     "end_time": "2020-03-25T07:01:39.659711Z",
     "start_time": "2020-03-25T07:01:39.623055Z"
    }
   },
   "outputs": [],
   "source": [
    "from sklearn.model_selection import train_test_split\n",
    "\n",
    "# Function to split testing and training data\n",
    "def get_group_split_data(df, test_size=.2, seed=42):\n",
    "    '''This function splits the data by distric to maintain spatial independence of train and test. \n",
    "    If we use points right next to each other for training and testing we would basically \n",
    "    be testing our model with training points.\n",
    "    '''\n",
    "    rs = np.random.RandomState(seed)\n",
    "    \n",
    "    total_fields = df['DISTRICT'].unique() \n",
    "    test_fields = rs.choice(total_fields, \n",
    "                           size=int(total_fields.shape[0] * test_size), \n",
    "                           replace=False)\n",
    "\n",
    "    df_train = df[~df['DISTRICT'].isin(test_fields)]\n",
    "    df_test = df[df['DISTRICT'].isin(test_fields)] \n",
    "\n",
    "    y_train, y_test = df_train['target_2015'], df_test['target_2015']\n",
    "    X_train = df_train.drop(['DISTRICT','Square_ID','target_2015','X', 'Y'],axis=1) \n",
    "    X_test = df_test.drop(['DISTRICT','Square_ID','target_2015', 'X', 'Y'],axis=1)\n",
    "\n",
    "    return X_train, X_test, y_train, y_test"
   ]
  },
  {
   "cell_type": "code",
   "execution_count": 13,
   "metadata": {
    "ExecuteTime": {
     "end_time": "2020-03-25T07:01:41.084859Z",
     "start_time": "2020-03-25T07:01:41.075285Z"
    }
   },
   "outputs": [],
   "source": [
    "# Spliting the data into features and target variable\n",
    "X, X_test, y, y_test = get_group_split_data(df=train)\n",
    "\n",
    "# X = train.drop(['Square_ID','target_2015'], axis=1)\n",
    "# y = target\n",
    "\n",
    "# # hold out 20% of the data for final testing\n",
    "# X, X_test, y, y_test = train_test_split(X, y, test_size=.2, random_state=10)\n"
   ]
  },
  {
   "cell_type": "markdown",
   "metadata": {
    "ExecuteTime": {
     "end_time": "2020-03-10T00:44:23.804998Z",
     "start_time": "2020-03-10T00:44:23.802524Z"
    }
   },
   "source": [
    "## Comparing different models"
   ]
  },
  {
   "cell_type": "code",
   "execution_count": 14,
   "metadata": {
    "ExecuteTime": {
     "end_time": "2020-03-25T07:01:45.691075Z",
     "start_time": "2020-03-25T07:01:45.548552Z"
    }
   },
   "outputs": [],
   "source": [
    "from sklearn.model_selection import KFold, GroupKFold, cross_val_score\n",
    "from sklearn.ensemble import RandomForestRegressor, GradientBoostingRegressor, AdaBoostRegressor\n",
    "from sklearn.tree import DecisionTreeRegressor\n",
    "from sklearn.svm import SVR\n",
    "from sklearn.neighbors import KNeighborsRegressor\n",
    "from xgboost import XGBRegressor\n",
    "from sklearn.linear_model import LinearRegression\n",
    "from sklearn.metrics import mean_squared_error\n",
    "from catboost import CatBoostRegressor\n",
    "# import warnings\n",
    "# warnings.filterwarnings('ignore')"
   ]
  },
  {
   "cell_type": "code",
   "execution_count": 15,
   "metadata": {
    "ExecuteTime": {
     "end_time": "2020-03-25T07:02:59.300286Z",
     "start_time": "2020-03-25T07:01:46.508847Z"
    }
   },
   "outputs": [
    {
     "data": {
      "text/html": [
       "<div>\n",
       "<style scoped>\n",
       "    .dataframe tbody tr th:only-of-type {\n",
       "        vertical-align: middle;\n",
       "    }\n",
       "\n",
       "    .dataframe tbody tr th {\n",
       "        vertical-align: top;\n",
       "    }\n",
       "\n",
       "    .dataframe thead th {\n",
       "        text-align: right;\n",
       "    }\n",
       "</style>\n",
       "<table border=\"1\" class=\"dataframe\">\n",
       "  <thead>\n",
       "    <tr style=\"text-align: right;\">\n",
       "      <th></th>\n",
       "      <th>RandomForest</th>\n",
       "      <th>GradientBoosting</th>\n",
       "      <th>Adaboost</th>\n",
       "      <th>DecisionTree</th>\n",
       "      <th>XGB</th>\n",
       "      <th>Kneighbors</th>\n",
       "      <th>Linear</th>\n",
       "      <th>Cat</th>\n",
       "    </tr>\n",
       "    <tr>\n",
       "      <th>Fold</th>\n",
       "      <th></th>\n",
       "      <th></th>\n",
       "      <th></th>\n",
       "      <th></th>\n",
       "      <th></th>\n",
       "      <th></th>\n",
       "      <th></th>\n",
       "      <th></th>\n",
       "    </tr>\n",
       "  </thead>\n",
       "  <tbody>\n",
       "    <tr>\n",
       "      <th>1</th>\n",
       "      <td>0.096275</td>\n",
       "      <td>0.100456</td>\n",
       "      <td>0.129252</td>\n",
       "      <td>0.101008</td>\n",
       "      <td>0.101806</td>\n",
       "      <td>0.095657</td>\n",
       "      <td>0.142549</td>\n",
       "      <td>0.096854</td>\n",
       "    </tr>\n",
       "    <tr>\n",
       "      <th>2</th>\n",
       "      <td>0.040482</td>\n",
       "      <td>0.045207</td>\n",
       "      <td>0.095028</td>\n",
       "      <td>0.080704</td>\n",
       "      <td>0.044054</td>\n",
       "      <td>0.048902</td>\n",
       "      <td>0.108184</td>\n",
       "      <td>0.036430</td>\n",
       "    </tr>\n",
       "    <tr>\n",
       "      <th>3</th>\n",
       "      <td>0.066335</td>\n",
       "      <td>0.065523</td>\n",
       "      <td>0.107438</td>\n",
       "      <td>0.079736</td>\n",
       "      <td>0.066784</td>\n",
       "      <td>0.075934</td>\n",
       "      <td>0.103071</td>\n",
       "      <td>0.069384</td>\n",
       "    </tr>\n",
       "    <tr>\n",
       "      <th>4</th>\n",
       "      <td>0.133600</td>\n",
       "      <td>0.128898</td>\n",
       "      <td>0.146556</td>\n",
       "      <td>0.153893</td>\n",
       "      <td>0.128353</td>\n",
       "      <td>0.158401</td>\n",
       "      <td>0.159271</td>\n",
       "      <td>0.129286</td>\n",
       "    </tr>\n",
       "    <tr>\n",
       "      <th>5</th>\n",
       "      <td>0.167863</td>\n",
       "      <td>0.156431</td>\n",
       "      <td>0.192637</td>\n",
       "      <td>0.214944</td>\n",
       "      <td>0.155416</td>\n",
       "      <td>0.167227</td>\n",
       "      <td>0.251939</td>\n",
       "      <td>0.155867</td>\n",
       "    </tr>\n",
       "    <tr>\n",
       "      <th>6</th>\n",
       "      <td>0.151328</td>\n",
       "      <td>0.155222</td>\n",
       "      <td>0.170082</td>\n",
       "      <td>0.199557</td>\n",
       "      <td>0.155629</td>\n",
       "      <td>0.153391</td>\n",
       "      <td>0.252977</td>\n",
       "      <td>0.149121</td>\n",
       "    </tr>\n",
       "    <tr>\n",
       "      <th>7</th>\n",
       "      <td>0.131868</td>\n",
       "      <td>0.133831</td>\n",
       "      <td>0.155250</td>\n",
       "      <td>0.192857</td>\n",
       "      <td>0.129794</td>\n",
       "      <td>0.151043</td>\n",
       "      <td>0.199816</td>\n",
       "      <td>0.132467</td>\n",
       "    </tr>\n",
       "    <tr>\n",
       "      <th>8</th>\n",
       "      <td>0.069366</td>\n",
       "      <td>0.083419</td>\n",
       "      <td>0.093943</td>\n",
       "      <td>0.071053</td>\n",
       "      <td>0.083387</td>\n",
       "      <td>0.095773</td>\n",
       "      <td>0.120502</td>\n",
       "      <td>0.069512</td>\n",
       "    </tr>\n",
       "    <tr>\n",
       "      <th>9</th>\n",
       "      <td>0.214316</td>\n",
       "      <td>0.217067</td>\n",
       "      <td>0.198466</td>\n",
       "      <td>0.254151</td>\n",
       "      <td>0.215866</td>\n",
       "      <td>0.213167</td>\n",
       "      <td>0.216826</td>\n",
       "      <td>0.213976</td>\n",
       "    </tr>\n",
       "    <tr>\n",
       "      <th>10</th>\n",
       "      <td>0.283136</td>\n",
       "      <td>0.264275</td>\n",
       "      <td>0.266866</td>\n",
       "      <td>0.338054</td>\n",
       "      <td>0.256662</td>\n",
       "      <td>0.264695</td>\n",
       "      <td>0.274374</td>\n",
       "      <td>0.265367</td>\n",
       "    </tr>\n",
       "    <tr>\n",
       "      <th>mean</th>\n",
       "      <td>0.135457</td>\n",
       "      <td>0.135033</td>\n",
       "      <td>0.155552</td>\n",
       "      <td>0.168596</td>\n",
       "      <td>0.133775</td>\n",
       "      <td>0.142419</td>\n",
       "      <td>0.182951</td>\n",
       "      <td>0.131826</td>\n",
       "    </tr>\n",
       "    <tr>\n",
       "      <th>std</th>\n",
       "      <td>0.070034</td>\n",
       "      <td>0.064108</td>\n",
       "      <td>0.051347</td>\n",
       "      <td>0.083457</td>\n",
       "      <td>0.062394</td>\n",
       "      <td>0.062089</td>\n",
       "      <td>0.061251</td>\n",
       "      <td>0.066008</td>\n",
       "    </tr>\n",
       "  </tbody>\n",
       "</table>\n",
       "</div>"
      ],
      "text/plain": [
       "      RandomForest  GradientBoosting  Adaboost  DecisionTree       XGB  \\\n",
       "Fold                                                                     \n",
       "1         0.096275          0.100456  0.129252      0.101008  0.101806   \n",
       "2         0.040482          0.045207  0.095028      0.080704  0.044054   \n",
       "3         0.066335          0.065523  0.107438      0.079736  0.066784   \n",
       "4         0.133600          0.128898  0.146556      0.153893  0.128353   \n",
       "5         0.167863          0.156431  0.192637      0.214944  0.155416   \n",
       "6         0.151328          0.155222  0.170082      0.199557  0.155629   \n",
       "7         0.131868          0.133831  0.155250      0.192857  0.129794   \n",
       "8         0.069366          0.083419  0.093943      0.071053  0.083387   \n",
       "9         0.214316          0.217067  0.198466      0.254151  0.215866   \n",
       "10        0.283136          0.264275  0.266866      0.338054  0.256662   \n",
       "mean      0.135457          0.135033  0.155552      0.168596  0.133775   \n",
       "std       0.070034          0.064108  0.051347      0.083457  0.062394   \n",
       "\n",
       "      Kneighbors    Linear       Cat  \n",
       "Fold                                  \n",
       "1       0.095657  0.142549  0.096854  \n",
       "2       0.048902  0.108184  0.036430  \n",
       "3       0.075934  0.103071  0.069384  \n",
       "4       0.158401  0.159271  0.129286  \n",
       "5       0.167227  0.251939  0.155867  \n",
       "6       0.153391  0.252977  0.149121  \n",
       "7       0.151043  0.199816  0.132467  \n",
       "8       0.095773  0.120502  0.069512  \n",
       "9       0.213167  0.216826  0.213976  \n",
       "10      0.264695  0.274374  0.265367  \n",
       "mean    0.142419  0.182951  0.131826  \n",
       "std     0.062089  0.061251  0.066008  "
      ]
     },
     "execution_count": 15,
     "metadata": {},
     "output_type": "execute_result"
    }
   ],
   "source": [
    "# Creating a list of algorithms\n",
    "models = [RandomForestRegressor(), GradientBoostingRegressor(), AdaBoostRegressor(),\n",
    "          DecisionTreeRegressor(),  XGBRegressor(objective='reg:squarederror'),\n",
    "          KNeighborsRegressor(), LinearRegression(), CatBoostRegressor(logging_level='Silent')]\n",
    "\n",
    "# Creating lists of the algorithms, to store the accuracy scores of each fold\n",
    "RandomForest, GradientBoosting, AdaBoost, DecisionTree, XGB, SVR, KNeighbors, Linear, Cat = ([] for x in range(9))\n",
    "\n",
    "# List of each algorithm\n",
    "model_list = [RandomForest, GradientBoosting, AdaBoost,\n",
    "              DecisionTree, XGB, KNeighbors, Linear, Cat]\n",
    "\n",
    "# Creating a cross validation of 10 folds\n",
    "# random_state=42, shuffle=True\n",
    "kfold = KFold(n_splits=10)\n",
    "\n",
    "# Iterating through each model and appending the scores of each fold to the appriopriate list\n",
    "for i, j in zip(models, model_list):\n",
    "    j.extend(list(cross_val_score(\n",
    "        i, X, y, scoring='neg_mean_squared_error', cv=kfold)))\n",
    "\n",
    "# Creating a function to convert neg_mean_squared_error to a square root\n",
    "def sq(lis):\n",
    "    new_lis = []\n",
    "    lis = np.array(lis)\n",
    "    for i in lis:\n",
    "        i = np.sqrt(i*-1)\n",
    "        new_lis.append(i)\n",
    "    return new_lis\n",
    "\n",
    "# Creating a dataframe of all the rmses from the iterations for each model\n",
    "rmses = pd.DataFrame({'Fold': np.arange(1, 11), 'RandomForest': sq(RandomForest), 'GradientBoosting': sq(GradientBoosting), 'Adaboost': sq(AdaBoost), 'DecisionTree': sq(DecisionTree),\n",
    "                      'XGB': sq(XGB), 'Kneighbors': sq(KNeighbors), 'Linear': sq(Linear), 'Cat': sq(Cat)})\n",
    "# Setting the index\n",
    "rmses.set_index('Fold', inplace=True)\n",
    "\n",
    "# Calculating the mean and standard deviation rmse of each algorithm\n",
    "rmses.loc['mean'] = rmses.mean()\n",
    "rmses.loc['std'] = rmses.std()\n",
    "\n",
    "# Previewing the rmses dataframe\n",
    "rmses"
   ]
  },
  {
   "cell_type": "code",
   "execution_count": 16,
   "metadata": {
    "ExecuteTime": {
     "end_time": "2020-03-25T07:02:59.307989Z",
     "start_time": "2020-03-25T07:02:59.303083Z"
    }
   },
   "outputs": [
    {
     "data": {
      "text/plain": [
       "Cat                 0.131826\n",
       "XGB                 0.133775\n",
       "GradientBoosting    0.135033\n",
       "RandomForest        0.135457\n",
       "Kneighbors          0.142419\n",
       "Adaboost            0.155552\n",
       "DecisionTree        0.168596\n",
       "Linear              0.182951\n",
       "Name: mean, dtype: float64"
      ]
     },
     "execution_count": 16,
     "metadata": {},
     "output_type": "execute_result"
    }
   ],
   "source": [
    "# Arranging the models in ascending order\n",
    "rmses.loc['mean'].sort_values()"
   ]
  },
  {
   "cell_type": "code",
   "execution_count": 17,
   "metadata": {
    "ExecuteTime": {
     "end_time": "2020-03-25T07:03:02.143843Z",
     "start_time": "2020-03-25T07:02:59.309899Z"
    }
   },
   "outputs": [
    {
     "name": "stdout",
     "output_type": "stream",
     "text": [
      "Catboost MSE: 0.03\n",
      "Catboost RMSE: 0.16\n",
      "XGBboost MSE: 0.02\n",
      "XGBboost RMSE: 0.16\n"
     ]
    }
   ],
   "source": [
    "# Calculate prediction for best models\n",
    "xgboost = XGBRegressor(objective ='reg:squarederror')\n",
    "catboost = CatBoostRegressor(logging_level='Silent')\n",
    "\n",
    "xgboost.fit(X, y)\n",
    "catboost.fit(X, y)\n",
    "\n",
    "ypred = catboost.predict(X_test)\n",
    "mse = mean_squared_error(y_test,ypred)\n",
    "print(\"Catboost MSE: %.2f\" % mse)\n",
    "print(\"Catboost RMSE: %.2f\" % np.sqrt(mse))\n",
    "\n",
    "ypred = xgboost.predict(X_test)\n",
    "mse = mean_squared_error(y_test,ypred)\n",
    "print(\"XGBboost MSE: %.2f\" % mse)\n",
    "print(\"XGBboost RMSE: %.2f\" % np.sqrt(mse))"
   ]
  },
  {
   "cell_type": "code",
   "execution_count": 18,
   "metadata": {
    "ExecuteTime": {
     "end_time": "2020-03-25T07:03:02.363461Z",
     "start_time": "2020-03-25T07:03:02.146338Z"
    }
   },
   "outputs": [
    {
     "data": {
      "text/plain": [
       "[Text(0, 0.5, 'Residuals'),\n",
       " Text(0.5, 0, 'Predicted'),\n",
       " Text(0.5, 1.0, 'Residual plot')]"
      ]
     },
     "execution_count": 18,
     "metadata": {},
     "output_type": "execute_result"
    },
    {
     "data": {
      "image/png": "[encoded data removed]",
      "text/plain": [
       "<Figure size 432x288 with 1 Axes>"
      ]
     },
     "metadata": {
      "needs_background": "light"
     },
     "output_type": "display_data"
    }
   ],
   "source": [
    "# create residual plot\n",
    "#X_pred = lm.predict(X_test)\n",
    "y_pred = catboost.predict(X_test)\n",
    "res = y_test - y_pred\n",
    "ax = sns.residplot(y_pred, res)\n",
    "ax.set(title=\"Residual plot\" ,xlabel=\"Predicted\", ylabel=\"Residuals\")\n",
    "#plt.savefig(\"outputs/residual_plot.svg\")"
   ]
  },
  {
   "cell_type": "markdown",
   "metadata": {},
   "source": [
    "## Predicting 2019 Flood\n",
    "- Training the top model with all of the 2015 data and predicting it on 2019 data"
   ]
  },
  {
   "cell_type": "code",
   "execution_count": 19,
   "metadata": {
    "ExecuteTime": {
     "end_time": "2020-03-25T07:03:58.450562Z",
     "start_time": "2020-03-25T07:03:58.325678Z"
    }
   },
   "outputs": [
    {
     "data": {
      "text/html": [
       "<div>\n",
       "<style scoped>\n",
       "    .dataframe tbody tr th:only-of-type {\n",
       "        vertical-align: middle;\n",
       "    }\n",
       "\n",
       "    .dataframe tbody tr th {\n",
       "        vertical-align: top;\n",
       "    }\n",
       "\n",
       "    .dataframe thead th {\n",
       "        text-align: right;\n",
       "    }\n",
       "</style>\n",
       "<table border=\"1\" class=\"dataframe\">\n",
       "  <thead>\n",
       "    <tr style=\"text-align: right;\">\n",
       "      <th></th>\n",
       "      <th>DISTRICT</th>\n",
       "      <th>Square_ID</th>\n",
       "      <th>TPI</th>\n",
       "      <th>X</th>\n",
       "      <th>Y</th>\n",
       "      <th>clay_10</th>\n",
       "      <th>clay_200</th>\n",
       "      <th>elevation</th>\n",
       "      <th>landcover_10</th>\n",
       "      <th>landcover_11</th>\n",
       "      <th>...</th>\n",
       "      <th>intensity_week8</th>\n",
       "      <th>intensity_week9</th>\n",
       "      <th>intensity_week10</th>\n",
       "      <th>intensity_week11</th>\n",
       "      <th>intensity_week12</th>\n",
       "      <th>intensity_week13</th>\n",
       "      <th>intensity_week14</th>\n",
       "      <th>intensity_week15</th>\n",
       "      <th>intensity_week16</th>\n",
       "      <th>target_2019</th>\n",
       "    </tr>\n",
       "  </thead>\n",
       "  <tbody>\n",
       "    <tr>\n",
       "      <th>0</th>\n",
       "      <td>Chikwawa</td>\n",
       "      <td>4e3c3896-14ce-11ea-bce5-f49634744a41</td>\n",
       "      <td>57.0</td>\n",
       "      <td>34.26</td>\n",
       "      <td>-15.91</td>\n",
       "      <td>37.0</td>\n",
       "      <td>40.0</td>\n",
       "      <td>887.764222</td>\n",
       "      <td>0</td>\n",
       "      <td>0</td>\n",
       "      <td>...</td>\n",
       "      <td>16.151628</td>\n",
       "      <td>17.740277</td>\n",
       "      <td>16.118432</td>\n",
       "      <td>17.324938</td>\n",
       "      <td>18.621053</td>\n",
       "      <td>17.81788</td>\n",
       "      <td>16.61403</td>\n",
       "      <td>16.617034</td>\n",
       "      <td>15.784999</td>\n",
       "      <td>0.0</td>\n",
       "    </tr>\n",
       "    <tr>\n",
       "      <th>1</th>\n",
       "      <td>Chikwawa</td>\n",
       "      <td>4e3c3897-14ce-11ea-bce5-f49634744a41</td>\n",
       "      <td>112.0</td>\n",
       "      <td>34.26</td>\n",
       "      <td>-15.90</td>\n",
       "      <td>29.0</td>\n",
       "      <td>36.0</td>\n",
       "      <td>743.403912</td>\n",
       "      <td>0</td>\n",
       "      <td>0</td>\n",
       "      <td>...</td>\n",
       "      <td>16.151628</td>\n",
       "      <td>17.740277</td>\n",
       "      <td>16.118432</td>\n",
       "      <td>17.324938</td>\n",
       "      <td>18.621053</td>\n",
       "      <td>17.81788</td>\n",
       "      <td>16.61403</td>\n",
       "      <td>16.617034</td>\n",
       "      <td>15.784999</td>\n",
       "      <td>0.0</td>\n",
       "    </tr>\n",
       "    <tr>\n",
       "      <th>2</th>\n",
       "      <td>Chikwawa</td>\n",
       "      <td>4e3c3898-14ce-11ea-bce5-f49634744a41</td>\n",
       "      <td>0.0</td>\n",
       "      <td>34.26</td>\n",
       "      <td>-15.89</td>\n",
       "      <td>27.0</td>\n",
       "      <td>33.0</td>\n",
       "      <td>565.728343</td>\n",
       "      <td>0</td>\n",
       "      <td>0</td>\n",
       "      <td>...</td>\n",
       "      <td>16.151628</td>\n",
       "      <td>17.740277</td>\n",
       "      <td>16.118432</td>\n",
       "      <td>17.324938</td>\n",
       "      <td>18.621053</td>\n",
       "      <td>17.81788</td>\n",
       "      <td>16.61403</td>\n",
       "      <td>16.617034</td>\n",
       "      <td>15.784999</td>\n",
       "      <td>0.0</td>\n",
       "    </tr>\n",
       "    <tr>\n",
       "      <th>3</th>\n",
       "      <td>Chikwawa</td>\n",
       "      <td>4e3c3899-14ce-11ea-bce5-f49634744a41</td>\n",
       "      <td>-4.0</td>\n",
       "      <td>34.26</td>\n",
       "      <td>-15.88</td>\n",
       "      <td>23.0</td>\n",
       "      <td>29.0</td>\n",
       "      <td>443.392774</td>\n",
       "      <td>1</td>\n",
       "      <td>0</td>\n",
       "      <td>...</td>\n",
       "      <td>16.151628</td>\n",
       "      <td>17.740277</td>\n",
       "      <td>16.118432</td>\n",
       "      <td>17.324938</td>\n",
       "      <td>18.621053</td>\n",
       "      <td>17.81788</td>\n",
       "      <td>16.61403</td>\n",
       "      <td>16.617034</td>\n",
       "      <td>15.784999</td>\n",
       "      <td>0.0</td>\n",
       "    </tr>\n",
       "    <tr>\n",
       "      <th>4</th>\n",
       "      <td>Chikwawa</td>\n",
       "      <td>4e3c389a-14ce-11ea-bce5-f49634744a41</td>\n",
       "      <td>3.0</td>\n",
       "      <td>34.26</td>\n",
       "      <td>-15.87</td>\n",
       "      <td>23.0</td>\n",
       "      <td>30.0</td>\n",
       "      <td>437.443428</td>\n",
       "      <td>1</td>\n",
       "      <td>0</td>\n",
       "      <td>...</td>\n",
       "      <td>16.151628</td>\n",
       "      <td>17.740277</td>\n",
       "      <td>16.118432</td>\n",
       "      <td>17.324938</td>\n",
       "      <td>18.621053</td>\n",
       "      <td>17.81788</td>\n",
       "      <td>16.61403</td>\n",
       "      <td>16.617034</td>\n",
       "      <td>15.784999</td>\n",
       "      <td>0.0</td>\n",
       "    </tr>\n",
       "  </tbody>\n",
       "</table>\n",
       "<p>5 rows × 39 columns</p>\n",
       "</div>"
      ],
      "text/plain": [
       "   DISTRICT                             Square_ID    TPI      X      Y  \\\n",
       "0  Chikwawa  4e3c3896-14ce-11ea-bce5-f49634744a41   57.0  34.26 -15.91   \n",
       "1  Chikwawa  4e3c3897-14ce-11ea-bce5-f49634744a41  112.0  34.26 -15.90   \n",
       "2  Chikwawa  4e3c3898-14ce-11ea-bce5-f49634744a41    0.0  34.26 -15.89   \n",
       "3  Chikwawa  4e3c3899-14ce-11ea-bce5-f49634744a41   -4.0  34.26 -15.88   \n",
       "4  Chikwawa  4e3c389a-14ce-11ea-bce5-f49634744a41    3.0  34.26 -15.87   \n",
       "\n",
       "   clay_10  clay_200   elevation  landcover_10  landcover_11  ...  \\\n",
       "0     37.0      40.0  887.764222             0             0  ...   \n",
       "1     29.0      36.0  743.403912             0             0  ...   \n",
       "2     27.0      33.0  565.728343             0             0  ...   \n",
       "3     23.0      29.0  443.392774             1             0  ...   \n",
       "4     23.0      30.0  437.443428             1             0  ...   \n",
       "\n",
       "   intensity_week8  intensity_week9  intensity_week10  intensity_week11  \\\n",
       "0        16.151628        17.740277         16.118432         17.324938   \n",
       "1        16.151628        17.740277         16.118432         17.324938   \n",
       "2        16.151628        17.740277         16.118432         17.324938   \n",
       "3        16.151628        17.740277         16.118432         17.324938   \n",
       "4        16.151628        17.740277         16.118432         17.324938   \n",
       "\n",
       "   intensity_week12  intensity_week13  intensity_week14  intensity_week15  \\\n",
       "0         18.621053          17.81788          16.61403         16.617034   \n",
       "1         18.621053          17.81788          16.61403         16.617034   \n",
       "2         18.621053          17.81788          16.61403         16.617034   \n",
       "3         18.621053          17.81788          16.61403         16.617034   \n",
       "4         18.621053          17.81788          16.61403         16.617034   \n",
       "\n",
       "   intensity_week16  target_2019  \n",
       "0         15.784999          0.0  \n",
       "1         15.784999          0.0  \n",
       "2         15.784999          0.0  \n",
       "3         15.784999          0.0  \n",
       "4         15.784999          0.0  \n",
       "\n",
       "[5 rows x 39 columns]"
      ]
     },
     "execution_count": 19,
     "metadata": {},
     "output_type": "execute_result"
    }
   ],
   "source": [
    "# Join test with precip values\n",
    "test = pd.read_csv('data/final_train_data/test_2019.csv')\n",
    "test.head()"
   ]
  },
  {
   "cell_type": "code",
   "execution_count": 20,
   "metadata": {
    "ExecuteTime": {
     "end_time": "2020-03-25T07:04:01.952234Z",
     "start_time": "2020-03-25T07:04:01.944322Z"
    }
   },
   "outputs": [
    {
     "data": {
      "text/plain": [
       "Index(['DISTRICT', 'Square_ID', 'TPI', 'X', 'Y', 'clay_10', 'elevation',\n",
       "       'landcover_10', 'landcover_12', 'landcover_9', 'soil_carbon',\n",
       "       'wetland_dist', 'intensity_week16', 'target_2019'],\n",
       "      dtype='object')"
      ]
     },
     "execution_count": 20,
     "metadata": {},
     "output_type": "execute_result"
    }
   ],
   "source": [
    "# Removing unimportant or correlated variables\n",
    "test = test.drop(columns=['clay_200', 'landcover_11',\n",
    "                            'landcover_13', 'landcover_14', 'landcover_17', 'landcover_2',\n",
    "                            'landcover_4', 'landcover_5', 'landcover_7', 'landcover_8', 'intensity_week1', 'intensity_week2', 'intensity_week3', 'intensity_week4',\n",
    "                            'intensity_week5', 'intensity_week6', 'intensity_week7', 'intensity_week8',\n",
    "                            'intensity_week9', 'intensity_week10', 'intensity_week11', 'intensity_week12',\n",
    "                            'intensity_week13', 'intensity_week14', 'intensity_week15'])\n",
    "\n",
    "test.columns"
   ]
  },
  {
   "cell_type": "code",
   "execution_count": 21,
   "metadata": {
    "ExecuteTime": {
     "end_time": "2020-03-25T07:14:45.874353Z",
     "start_time": "2020-03-25T07:04:05.146218Z"
    }
   },
   "outputs": [],
   "source": [
    "# Using the top model\n",
    "\n",
    "# Selecting the training features and the target feature\n",
    "X = train.drop(['DISTRICT','Square_ID','target_2015','X', 'Y'], axis=1)\n",
    "y = train['target_2015'] # this is 2015 flood \n",
    "\n",
    "# 2019 flood dataset\n",
    "X_test = test.drop(['DISTRICT', 'Square_ID', 'target_2019'], axis = 1) # 2019 flood features\n",
    "y_test = test['target_2019'] # 2019 flood target\n",
    "\n",
    "# Create a prediction for 2019 flood\n",
    "catboost = CatBoostRegressor(iterations=700, depth=16, loss_function='RMSE', logging_level='Silent')   \n",
    "\n",
    "catboost.fit(X, y)                              # Training the model\n",
    "predictions  = catboost.predict(X_test)         # Making predictions"
   ]
  },
  {
   "cell_type": "code",
   "execution_count": 22,
   "metadata": {
    "ExecuteTime": {
     "end_time": "2020-03-25T07:21:13.338027Z",
     "start_time": "2020-03-25T07:21:13.306048Z"
    }
   },
   "outputs": [
    {
     "data": {
      "text/html": [
       "<div>\n",
       "<style scoped>\n",
       "    .dataframe tbody tr th:only-of-type {\n",
       "        vertical-align: middle;\n",
       "    }\n",
       "\n",
       "    .dataframe tbody tr th {\n",
       "        vertical-align: top;\n",
       "    }\n",
       "\n",
       "    .dataframe thead th {\n",
       "        text-align: right;\n",
       "    }\n",
       "</style>\n",
       "<table border=\"1\" class=\"dataframe\">\n",
       "  <thead>\n",
       "    <tr style=\"text-align: right;\">\n",
       "      <th></th>\n",
       "      <th>X</th>\n",
       "      <th>Y</th>\n",
       "      <th>Square_ID</th>\n",
       "      <th>predict_2019</th>\n",
       "      <th>target_2019</th>\n",
       "      <th>diff</th>\n",
       "    </tr>\n",
       "  </thead>\n",
       "  <tbody>\n",
       "    <tr>\n",
       "      <th>0</th>\n",
       "      <td>34.26</td>\n",
       "      <td>-15.91</td>\n",
       "      <td>4e3c3896-14ce-11ea-bce5-f49634744a41</td>\n",
       "      <td>-0.002556</td>\n",
       "      <td>0.0</td>\n",
       "      <td>0.002556</td>\n",
       "    </tr>\n",
       "    <tr>\n",
       "      <th>1</th>\n",
       "      <td>34.26</td>\n",
       "      <td>-15.90</td>\n",
       "      <td>4e3c3897-14ce-11ea-bce5-f49634744a41</td>\n",
       "      <td>0.000072</td>\n",
       "      <td>0.0</td>\n",
       "      <td>-0.000072</td>\n",
       "    </tr>\n",
       "    <tr>\n",
       "      <th>2</th>\n",
       "      <td>34.26</td>\n",
       "      <td>-15.89</td>\n",
       "      <td>4e3c3898-14ce-11ea-bce5-f49634744a41</td>\n",
       "      <td>0.008489</td>\n",
       "      <td>0.0</td>\n",
       "      <td>-0.008489</td>\n",
       "    </tr>\n",
       "    <tr>\n",
       "      <th>3</th>\n",
       "      <td>34.26</td>\n",
       "      <td>-15.88</td>\n",
       "      <td>4e3c3899-14ce-11ea-bce5-f49634744a41</td>\n",
       "      <td>0.004164</td>\n",
       "      <td>0.0</td>\n",
       "      <td>-0.004164</td>\n",
       "    </tr>\n",
       "    <tr>\n",
       "      <th>4</th>\n",
       "      <td>34.26</td>\n",
       "      <td>-15.87</td>\n",
       "      <td>4e3c389a-14ce-11ea-bce5-f49634744a41</td>\n",
       "      <td>0.011812</td>\n",
       "      <td>0.0</td>\n",
       "      <td>-0.011812</td>\n",
       "    </tr>\n",
       "  </tbody>\n",
       "</table>\n",
       "</div>"
      ],
      "text/plain": [
       "       X      Y                             Square_ID  predict_2019  \\\n",
       "0  34.26 -15.91  4e3c3896-14ce-11ea-bce5-f49634744a41     -0.002556   \n",
       "1  34.26 -15.90  4e3c3897-14ce-11ea-bce5-f49634744a41      0.000072   \n",
       "2  34.26 -15.89  4e3c3898-14ce-11ea-bce5-f49634744a41      0.008489   \n",
       "3  34.26 -15.88  4e3c3899-14ce-11ea-bce5-f49634744a41      0.004164   \n",
       "4  34.26 -15.87  4e3c389a-14ce-11ea-bce5-f49634744a41      0.011812   \n",
       "\n",
       "   target_2019      diff  \n",
       "0          0.0  0.002556  \n",
       "1          0.0 -0.000072  \n",
       "2          0.0 -0.008489  \n",
       "3          0.0 -0.004164  \n",
       "4          0.0 -0.011812  "
      ]
     },
     "execution_count": 22,
     "metadata": {},
     "output_type": "execute_result"
    }
   ],
   "source": [
    "# Make geodataframe and save\n",
    "prediction_df = pd.DataFrame({'X': test.X, \n",
    "                              'Y': test.Y, \n",
    "                              'Square_ID': test.Square_ID,\n",
    "                              'predict_2019': predictions, \n",
    "                              'target_2019': y_test,\n",
    "                              'diff': y_test - predictions\n",
    "                               })\n",
    "\n",
    "prediction_df.head()"
   ]
  },
  {
   "cell_type": "code",
   "execution_count": 25,
   "metadata": {
    "ExecuteTime": {
     "end_time": "2020-03-25T07:25:19.586104Z",
     "start_time": "2020-03-25T07:25:19.560126Z"
    }
   },
   "outputs": [],
   "source": [
    "# Remove NA before saving\n",
    "prediction_df= prediction_df.dropna()"
   ]
  },
  {
   "cell_type": "code",
   "execution_count": 23,
   "metadata": {
    "ExecuteTime": {
     "end_time": "2020-03-25T07:21:37.047528Z",
     "start_time": "2020-03-25T07:21:37.034904Z"
    }
   },
   "outputs": [],
   "source": [
    "# Set negative values to 0\n",
    "prediction_df['predict_2019'][prediction_df['predict_2019'] < 0] = 0\n",
    "prediction_df['predict_2019'][prediction_df['predict_2019'] > 1] = 1"
   ]
  },
  {
   "cell_type": "code",
   "execution_count": 26,
   "metadata": {
    "ExecuteTime": {
     "end_time": "2020-03-25T07:25:23.955418Z",
     "start_time": "2020-03-25T07:25:21.927856Z"
    }
   },
   "outputs": [],
   "source": [
    "prediction_df.to_csv('outputs/' + 'catboost_2019_pred.csv', index = False)\n",
    "prediction_geo = gpd.GeoDataFrame(prediction_df, geometry = gpd.points_from_xy(prediction_df.X, prediction_df.Y))\n",
    "prediction_geo.to_file(\"outputs/\" + \"2019_prediction.shp\")"
   ]
  },
  {
   "cell_type": "code",
   "execution_count": 30,
   "metadata": {
    "ExecuteTime": {
     "end_time": "2020-03-25T07:26:59.153452Z",
     "start_time": "2020-03-25T07:26:58.772449Z"
    }
   },
   "outputs": [
    {
     "data": {
      "text/html": [
       "<div>\n",
       "<style scoped>\n",
       "    .dataframe tbody tr th:only-of-type {\n",
       "        vertical-align: middle;\n",
       "    }\n",
       "\n",
       "    .dataframe tbody tr th {\n",
       "        vertical-align: top;\n",
       "    }\n",
       "\n",
       "    .dataframe thead th {\n",
       "        text-align: right;\n",
       "    }\n",
       "</style>\n",
       "<table border=\"1\" class=\"dataframe\">\n",
       "  <thead>\n",
       "    <tr style=\"text-align: right;\">\n",
       "      <th></th>\n",
       "      <th>X</th>\n",
       "      <th>Y</th>\n",
       "      <th>Square_ID</th>\n",
       "      <th>predict_20</th>\n",
       "      <th>target_201</th>\n",
       "      <th>diff</th>\n",
       "      <th>geometry</th>\n",
       "    </tr>\n",
       "  </thead>\n",
       "  <tbody>\n",
       "    <tr>\n",
       "      <th>0</th>\n",
       "      <td>34.26</td>\n",
       "      <td>-15.91</td>\n",
       "      <td>4e3c3896-14ce-11ea-bce5-f49634744a41</td>\n",
       "      <td>0.000000</td>\n",
       "      <td>0.0</td>\n",
       "      <td>0.002556</td>\n",
       "      <td>POINT (34.26000 -15.91000)</td>\n",
       "    </tr>\n",
       "    <tr>\n",
       "      <th>1</th>\n",
       "      <td>34.26</td>\n",
       "      <td>-15.90</td>\n",
       "      <td>4e3c3897-14ce-11ea-bce5-f49634744a41</td>\n",
       "      <td>0.000072</td>\n",
       "      <td>0.0</td>\n",
       "      <td>-0.000072</td>\n",
       "      <td>POINT (34.26000 -15.90000)</td>\n",
       "    </tr>\n",
       "    <tr>\n",
       "      <th>2</th>\n",
       "      <td>34.26</td>\n",
       "      <td>-15.89</td>\n",
       "      <td>4e3c3898-14ce-11ea-bce5-f49634744a41</td>\n",
       "      <td>0.008489</td>\n",
       "      <td>0.0</td>\n",
       "      <td>-0.008489</td>\n",
       "      <td>POINT (34.26000 -15.89000)</td>\n",
       "    </tr>\n",
       "    <tr>\n",
       "      <th>3</th>\n",
       "      <td>34.26</td>\n",
       "      <td>-15.88</td>\n",
       "      <td>4e3c3899-14ce-11ea-bce5-f49634744a41</td>\n",
       "      <td>0.004164</td>\n",
       "      <td>0.0</td>\n",
       "      <td>-0.004164</td>\n",
       "      <td>POINT (34.26000 -15.88000)</td>\n",
       "    </tr>\n",
       "    <tr>\n",
       "      <th>4</th>\n",
       "      <td>34.26</td>\n",
       "      <td>-15.87</td>\n",
       "      <td>4e3c389a-14ce-11ea-bce5-f49634744a41</td>\n",
       "      <td>0.011812</td>\n",
       "      <td>0.0</td>\n",
       "      <td>-0.011812</td>\n",
       "      <td>POINT (34.26000 -15.87000)</td>\n",
       "    </tr>\n",
       "  </tbody>\n",
       "</table>\n",
       "</div>"
      ],
      "text/plain": [
       "       X      Y                             Square_ID  predict_20  target_201  \\\n",
       "0  34.26 -15.91  4e3c3896-14ce-11ea-bce5-f49634744a41    0.000000         0.0   \n",
       "1  34.26 -15.90  4e3c3897-14ce-11ea-bce5-f49634744a41    0.000072         0.0   \n",
       "2  34.26 -15.89  4e3c3898-14ce-11ea-bce5-f49634744a41    0.008489         0.0   \n",
       "3  34.26 -15.88  4e3c3899-14ce-11ea-bce5-f49634744a41    0.004164         0.0   \n",
       "4  34.26 -15.87  4e3c389a-14ce-11ea-bce5-f49634744a41    0.011812         0.0   \n",
       "\n",
       "       diff                    geometry  \n",
       "0  0.002556  POINT (34.26000 -15.91000)  \n",
       "1 -0.000072  POINT (34.26000 -15.90000)  \n",
       "2 -0.008489  POINT (34.26000 -15.89000)  \n",
       "3 -0.004164  POINT (34.26000 -15.88000)  \n",
       "4 -0.011812  POINT (34.26000 -15.87000)  "
      ]
     },
     "execution_count": 30,
     "metadata": {},
     "output_type": "execute_result"
    }
   ],
   "source": [
    "# Crop to Area of 2019 data\n",
    "prediction_df = gpd.read_file('outputs/prediction_2019_crop.shp')\n",
    "prediction_df.head()"
   ]
  },
  {
   "cell_type": "code",
   "execution_count": 31,
   "metadata": {
    "ExecuteTime": {
     "end_time": "2020-03-25T07:27:43.445849Z",
     "start_time": "2020-03-25T07:27:43.441089Z"
    }
   },
   "outputs": [
    {
     "name": "stdout",
     "output_type": "stream",
     "text": [
      "Catboost MSE: 0.01\n",
      "Catboost RMSE: 0.11\n"
     ]
    }
   ],
   "source": [
    "# Calculate errors\n",
    "mse = mean_squared_error(prediction_df['target_201'], prediction_df['predict_20'])\n",
    "rmse = np.sqrt(mse)\n",
    "\n",
    "# Print results\n",
    "print(\"Catboost MSE: %.2f\" % mse)\n",
    "print(\"Catboost RMSE: %.2f\" % rmse)"
   ]
  },
  {
   "cell_type": "markdown",
   "metadata": {},
   "source": [
    "## Feature Importance"
   ]
  },
  {
   "cell_type": "code",
   "execution_count": 40,
   "metadata": {
    "ExecuteTime": {
     "end_time": "2020-03-25T08:13:50.926008Z",
     "start_time": "2020-03-25T08:13:50.922213Z"
    }
   },
   "outputs": [
    {
     "data": {
      "text/plain": [
       "Index(['TPI', 'clay_10', 'elevation', 'landcover_10', 'landcover_12',\n",
       "       'landcover_9', 'soil_carbon', 'wetland_dist', 'intensity_week16'],\n",
       "      dtype='object')"
      ]
     },
     "execution_count": 40,
     "metadata": {},
     "output_type": "execute_result"
    }
   ],
   "source": [
    "X.columns"
   ]
  },
  {
   "cell_type": "code",
   "execution_count": 46,
   "metadata": {
    "ExecuteTime": {
     "end_time": "2020-03-25T08:22:54.957075Z",
     "start_time": "2020-03-25T08:22:54.954270Z"
    }
   },
   "outputs": [],
   "source": [
    "clean_columns = ['Topographic Position Index', 'Clay content', 'Elevation', 'Grasslands', 'Croplands',\n",
    "       'Savannas', 'Soil carbon', 'Wetland distance', 'Rain intensity']"
   ]
  },
  {
   "cell_type": "code",
   "execution_count": 47,
   "metadata": {
    "ExecuteTime": {
     "end_time": "2020-03-25T08:22:57.851911Z",
     "start_time": "2020-03-25T08:22:57.662493Z"
    }
   },
   "outputs": [
    {
     "data": {
      "image/png": "[encoded data removed]",
      "text/plain": [
       "<Figure size 576x432 with 1 Axes>"
      ]
     },
     "metadata": {
      "needs_background": "light"
     },
     "output_type": "display_data"
    }
   ],
   "source": [
    "import matplotlib.pyplot as plt\n",
    "# fea_imp = pd.DataFrame({'imp': catboost.feature_importances_, 'col': X.columns})\n",
    "# fea_imp = fea_imp.sort_values(['imp', 'col'], ascending=[True, False]).iloc[-30:]\n",
    "# fea_imp.plot(kind='barh', x='col', y='imp', figsize=(10, 7), legend=None)\n",
    "# plt.title('Feature Importance')\n",
    "# plt.ylabel('Features')\n",
    "# plt.xlabel('Importance');\n",
    "\n",
    "feat_imp_data = sorted(list(zip(clean_columns, catboost.feature_importances_)), key=lambda datum: datum[1], reverse=False)\n",
    "\n",
    "# Unzip the values and labels\n",
    "widths = [x[1] for x in feat_imp_data]\n",
    "yticks = [x[0] for x in feat_imp_data]\n",
    "n_features = X.shape[1]\n",
    "\n",
    "# Build the figure\n",
    "plt.figure(figsize=(8,6))\n",
    "plt.barh(range(n_features), widths, align='center') \n",
    "plt.yticks(np.arange(n_features), yticks) \n",
    "plt.xlabel(\"Relative Importance\")\n",
    "plt.title('Feature Importance')\n",
    "plt.show();"
   ]
  },
  {
   "cell_type": "markdown",
   "metadata": {},
   "source": [
    "#### Next Steps:\n",
    "To improve model accuracy:\n",
    "\n",
    "- Hyperparameter Tuning\n",
    "- Source for more data"
   ]
  },
  {
   "cell_type": "code",
   "execution_count": null,
   "metadata": {},
   "outputs": [],
   "source": []
  }
 ],
 "metadata": {
  "kernelspec": {
   "display_name": "Python [conda env:metis] *",
   "language": "python",
   "name": "conda-env-metis-py"
  },
  "language_info": {
   "codemirror_mode": {
    "name": "ipython",
    "version": 3
   },
   "file_extension": ".py",
   "mimetype": "text/x-python",
   "name": "python",
   "nbconvert_exporter": "python",
   "pygments_lexer": "ipython3",
   "version": "3.7.4"
  }
 },
 "nbformat": 4,
 "nbformat_minor": 2
}
